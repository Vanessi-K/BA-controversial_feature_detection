{
 "cells": [
  {
   "cell_type": "code",
   "execution_count": 9,
   "outputs": [],
   "source": [
    "import pandas as pd\n",
    "import re\n",
    "import numpy as np"
   ],
   "metadata": {
    "collapsed": false,
    "ExecuteTime": {
     "end_time": "2024-02-17T11:49:06.033284900Z",
     "start_time": "2024-02-17T11:49:05.959742200Z"
    }
   },
   "id": "cab1d07131b17938"
  },
  {
   "cell_type": "code",
   "execution_count": 10,
   "outputs": [
    {
     "name": "stdout",
     "output_type": "stream",
     "text": [
      "                  c_id                                             c_text  \\\n",
      "0  1391717608802631681  @100dusty @_Celopelo Wer so ein Profilbild wie...   \n",
      "1  1387437960757452803  @isabellavonpar1 @Genossin_Anetta @Karl_Lauter...   \n",
      "2  1389188826799673345  @_m_o_ni @2GRIMREAPER3 @schripinsky @nurcan_nu...   \n",
      "3  1385241285645291521  @DennisKBerlin Aber Bild hat doch gerade deswe...   \n",
      "4  1406592688921665538  @betxl5 @Xrxtn @Alice_Weidel @UweJunge Zuviele...   \n",
      "\n",
      "               date       conv_id  \\\n",
      "0  10.05.2021 11:31           NaN   \n",
      "1  28.04.2021 16:06  1.387325e+18   \n",
      "2  03.05.2021 12:03           NaN   \n",
      "3  22.04.2021 14:37           NaN   \n",
      "4  20.06.2021 12:40  1.406508e+18   \n",
      "\n",
      "                                           reaction1  \\\n",
      "0                                                NaN   \n",
      "1  @isabellavonpar1 @Genossin_Anetta @Karl_Lauter...   \n",
      "2                                                NaN   \n",
      "3                                                NaN   \n",
      "4  @Xrxtn @Ostwestfale60 @Alice_Weidel @UweJunge ...   \n",
      "\n",
      "                                           reaction2  Generalisation  \\\n",
      "0                                                NaN             3.0   \n",
      "1  @leipzig04349 @BollekWoW @Pedersolicarlo @Lafo...             2.0   \n",
      "2                                                NaN             3.0   \n",
      "3                                                NaN             1.0   \n",
      "4  @Xrxtn @Alice_Weidel @UweJunge Diskriminierung...             0.0   \n",
      "\n",
      "   Ambiguous  Objective  Subjective  Disputed  \n",
      "0        0.0        0.0         1.0       0.0  \n",
      "1        1.0        0.0         1.0       1.0  \n",
      "2        1.0        0.0         1.0       0.0  \n",
      "3        0.0        1.0         1.0       0.0  \n",
      "4        0.0        0.0         1.0       0.0  \n"
     ]
    }
   ],
   "source": [
    "file_path = 'dataset/02_comments_with_immediate_conversations-annotated.csv'\n",
    "\n",
    "data = pd.read_csv(file_path, delimiter=';')\n",
    "\n",
    "print(data.head())"
   ],
   "metadata": {
    "collapsed": false,
    "ExecuteTime": {
     "end_time": "2024-02-17T11:49:06.127886100Z",
     "start_time": "2024-02-17T11:49:05.972742200Z"
    }
   },
   "id": "32ef6dd776f74b29"
  },
  {
   "cell_type": "code",
   "execution_count": 11,
   "id": "initial_id",
   "metadata": {
    "collapsed": true,
    "ExecuteTime": {
     "end_time": "2024-02-17T11:49:06.128153Z",
     "start_time": "2024-02-17T11:49:06.115874300Z"
    }
   },
   "outputs": [],
   "source": [
    "def clean_text(text):\n",
    "    if pd.isna(text):\n",
    "        return text\n",
    "        \n",
    "    text = text.replace('&amp;', '&')\n",
    "    text = text.replace('&lt;', '<')\n",
    "    text = text.replace('&gt;', '>')\n",
    "    text = text.replace('\\n', ' ')\n",
    "    \n",
    "    split_text = text.split(' ')\n",
    "    split_text = [word for word in split_text if not word.startswith('http') and not word.startswith('@')]\n",
    "    \n",
    "    text = ' '.join(split_text)\n",
    "    \n",
    "    text = re.sub(r'\\s+', ' ', text)\n",
    "    text = text.strip()\n",
    "\n",
    "    return text"
   ]
  },
  {
   "cell_type": "code",
   "outputs": [],
   "source": [
    "data['Generalisation0'] = np.full(len(data), 0)\n",
    "data['Generalisation1'] = np.full(len(data), 0)\n",
    "data['Generalisation2'] = np.full(len(data), 0)\n",
    "data['Generalisation3'] = np.full(len(data), 0)"
   ],
   "metadata": {
    "collapsed": false,
    "ExecuteTime": {
     "end_time": "2024-02-17T11:49:06.194690900Z",
     "start_time": "2024-02-17T11:49:06.120885400Z"
    }
   },
   "id": "5fc4502c64991215",
   "execution_count": 12
  },
  {
   "cell_type": "code",
   "execution_count": 13,
   "outputs": [],
   "source": [
    "for index, row in data.iterrows():\n",
    "    data.at[index, 'c_text'] = clean_text(row['c_text'])\n",
    "    data.at[index, 'reaction1'] = clean_text(row['reaction1'])\n",
    "    data.at[index, 'reaction2'] = clean_text(row['reaction2'])\n",
    "    \n",
    "    gerneralisation_value = row['Generalisation']\n",
    "    match gerneralisation_value:\n",
    "        case 0: data.at[index, 'Generalisation0'] = 1\n",
    "        case 1: data.at[index, 'Generalisation1'] = 1\n",
    "        case 2: data.at[index, 'Generalisation2'] = 1\n",
    "        case 3: data.at[index, 'Generalisation3'] = 1\n",
    "\n",
    "data = data.drop('Generalisation', axis=1)"
   ],
   "metadata": {
    "collapsed": false,
    "ExecuteTime": {
     "end_time": "2024-02-17T11:49:08.751328600Z",
     "start_time": "2024-02-17T11:49:06.137678800Z"
    }
   },
   "id": "6fce609569b702be"
  },
  {
   "cell_type": "code",
   "outputs": [
    {
     "data": {
      "text/plain": "                  c_id                                             c_text  \\\n0  1391717608802631681  Wer so ein Profilbild wie sie hochlädt kann nu...   \n1  1387437960757452803  -1 Ja schau schön artig auf die Bunden Bildche...   \n2  1389188826799673345  Willst du jetzt etwa behaupten das Querdenker ...   \n3  1385241285645291521  Aber Bild hat doch gerade deswegen und diesbez...   \n4  1406592688921665538  Zuviele Fremdwörter, manches davon nicht mal i...   \n\n               date       conv_id  \\\n0  10.05.2021 11:31           NaN   \n1  28.04.2021 16:06  1.387325e+18   \n2  03.05.2021 12:03           NaN   \n3  22.04.2021 14:37           NaN   \n4  20.06.2021 12:40  1.406508e+18   \n\n                                           reaction1  \\\n0                                                NaN   \n1  -2 Die britische ist ja so schrecklich die ist...   \n2                                                NaN   \n3                                                NaN   \n4  Fühlst du dich von Menschen mit Gehirnen diskr...   \n\n                                           reaction2  Ambiguous  Objective  \\\n0                                                NaN        0.0        0.0   \n1  Sie meinen, wie eine lesbische Frau oder ein P...        1.0        0.0   \n2                                                NaN        1.0        0.0   \n3                                                NaN        0.0        1.0   \n4  Diskriminierung gegen Heteros?! Hab ich das ri...        0.0        0.0   \n\n   Subjective  Disputed  Generalisation0  Generalisation1  Generalisation2  \\\n0         1.0       0.0                0                0                0   \n1         1.0       1.0                0                0                1   \n2         1.0       0.0                0                0                0   \n3         1.0       0.0                0                1                0   \n4         1.0       0.0                1                0                0   \n\n   Generalisation3  \n0                1  \n1                0  \n2                1  \n3                0  \n4                0  ",
      "text/html": "<div>\n<style scoped>\n    .dataframe tbody tr th:only-of-type {\n        vertical-align: middle;\n    }\n\n    .dataframe tbody tr th {\n        vertical-align: top;\n    }\n\n    .dataframe thead th {\n        text-align: right;\n    }\n</style>\n<table border=\"1\" class=\"dataframe\">\n  <thead>\n    <tr style=\"text-align: right;\">\n      <th></th>\n      <th>c_id</th>\n      <th>c_text</th>\n      <th>date</th>\n      <th>conv_id</th>\n      <th>reaction1</th>\n      <th>reaction2</th>\n      <th>Ambiguous</th>\n      <th>Objective</th>\n      <th>Subjective</th>\n      <th>Disputed</th>\n      <th>Generalisation0</th>\n      <th>Generalisation1</th>\n      <th>Generalisation2</th>\n      <th>Generalisation3</th>\n    </tr>\n  </thead>\n  <tbody>\n    <tr>\n      <th>0</th>\n      <td>1391717608802631681</td>\n      <td>Wer so ein Profilbild wie sie hochlädt kann nu...</td>\n      <td>10.05.2021 11:31</td>\n      <td>NaN</td>\n      <td>NaN</td>\n      <td>NaN</td>\n      <td>0.0</td>\n      <td>0.0</td>\n      <td>1.0</td>\n      <td>0.0</td>\n      <td>0</td>\n      <td>0</td>\n      <td>0</td>\n      <td>1</td>\n    </tr>\n    <tr>\n      <th>1</th>\n      <td>1387437960757452803</td>\n      <td>-1 Ja schau schön artig auf die Bunden Bildche...</td>\n      <td>28.04.2021 16:06</td>\n      <td>1.387325e+18</td>\n      <td>-2 Die britische ist ja so schrecklich die ist...</td>\n      <td>Sie meinen, wie eine lesbische Frau oder ein P...</td>\n      <td>1.0</td>\n      <td>0.0</td>\n      <td>1.0</td>\n      <td>1.0</td>\n      <td>0</td>\n      <td>0</td>\n      <td>1</td>\n      <td>0</td>\n    </tr>\n    <tr>\n      <th>2</th>\n      <td>1389188826799673345</td>\n      <td>Willst du jetzt etwa behaupten das Querdenker ...</td>\n      <td>03.05.2021 12:03</td>\n      <td>NaN</td>\n      <td>NaN</td>\n      <td>NaN</td>\n      <td>1.0</td>\n      <td>0.0</td>\n      <td>1.0</td>\n      <td>0.0</td>\n      <td>0</td>\n      <td>0</td>\n      <td>0</td>\n      <td>1</td>\n    </tr>\n    <tr>\n      <th>3</th>\n      <td>1385241285645291521</td>\n      <td>Aber Bild hat doch gerade deswegen und diesbez...</td>\n      <td>22.04.2021 14:37</td>\n      <td>NaN</td>\n      <td>NaN</td>\n      <td>NaN</td>\n      <td>0.0</td>\n      <td>1.0</td>\n      <td>1.0</td>\n      <td>0.0</td>\n      <td>0</td>\n      <td>1</td>\n      <td>0</td>\n      <td>0</td>\n    </tr>\n    <tr>\n      <th>4</th>\n      <td>1406592688921665538</td>\n      <td>Zuviele Fremdwörter, manches davon nicht mal i...</td>\n      <td>20.06.2021 12:40</td>\n      <td>1.406508e+18</td>\n      <td>Fühlst du dich von Menschen mit Gehirnen diskr...</td>\n      <td>Diskriminierung gegen Heteros?! Hab ich das ri...</td>\n      <td>0.0</td>\n      <td>0.0</td>\n      <td>1.0</td>\n      <td>0.0</td>\n      <td>1</td>\n      <td>0</td>\n      <td>0</td>\n      <td>0</td>\n    </tr>\n  </tbody>\n</table>\n</div>"
     },
     "execution_count": 14,
     "metadata": {},
     "output_type": "execute_result"
    }
   ],
   "source": [
    "data.head()"
   ],
   "metadata": {
    "collapsed": false,
    "ExecuteTime": {
     "end_time": "2024-02-17T11:49:08.785233800Z",
     "start_time": "2024-02-17T11:49:08.759510200Z"
    }
   },
   "id": "d8ad7687c200275",
   "execution_count": 14
  },
  {
   "cell_type": "code",
   "execution_count": 15,
   "outputs": [],
   "source": [
    "def is_annotated(individual_row):\n",
    "    if individual_row['c_text'] != '' and not pd.isna(individual_row['Ambiguous']) and not pd.isna(individual_row['Objective']) and not pd.isna(individual_row['Subjective']) and not pd.isna(individual_row['Disputed']):\n",
    "        return True\n",
    "    else:\n",
    "        return False"
   ],
   "metadata": {
    "collapsed": false,
    "ExecuteTime": {
     "end_time": "2024-02-17T11:49:08.805800600Z",
     "start_time": "2024-02-17T11:49:08.779871Z"
    }
   },
   "id": "179a0735c172b633"
  },
  {
   "cell_type": "code",
   "execution_count": 16,
   "outputs": [
    {
     "name": "stdout",
     "output_type": "stream",
     "text": [
      "1607 comments with an reaction\n"
     ]
    }
   ],
   "source": [
    "dataWithReactions = []\n",
    "for index, row in data.iterrows(): \n",
    "    if is_annotated(row) and (not pd.isna(row['reaction1']) or not pd.isna(row['reaction2'])):\n",
    "        dataWithReactions.append(row)\n",
    "        \n",
    "dataWithReactions = pd.DataFrame(dataWithReactions, columns=data.columns)       \n",
    "print(str(len(dataWithReactions)) + ' comments with an reaction')"
   ],
   "metadata": {
    "collapsed": false,
    "ExecuteTime": {
     "end_time": "2024-02-17T11:49:10.096328900Z",
     "start_time": "2024-02-17T11:49:08.787247300Z"
    }
   },
   "id": "1d330e29ef05ed5c"
  },
  {
   "cell_type": "code",
   "execution_count": 17,
   "outputs": [
    {
     "name": "stdout",
     "output_type": "stream",
     "text": [
      "781 comments without an reaction\n",
      "2388 comments without an reaction and with reaction combined\n",
      "2388 comments without an reaction and with reaction (but removed) combined\n"
     ]
    }
   ],
   "source": [
    "dataAll = []\n",
    "dataWithoutReactions = []\n",
    "for index, row in data.iterrows(): \n",
    "    if is_annotated(row) and (pd.isna(row['reaction1']) and pd.isna(row['reaction2'])):\n",
    "        dataWithoutReactions.append(row)\n",
    "        \n",
    "dataWithoutReactions = pd.DataFrame(dataWithoutReactions, columns=data.columns)               \n",
    "print(str(len(dataWithoutReactions)) + ' comments without an reaction')\n",
    "\n",
    "dataAll = pd.concat([dataWithoutReactions, dataWithReactions])\n",
    "print(str(len(dataAll)) + ' comments without an reaction and with reaction combined')\n",
    "\n",
    "dataWithoutReactions = dataAll.copy()\n",
    "dataWithoutReactions = dataWithoutReactions.drop('reaction1', axis=1)\n",
    "dataWithoutReactions = dataWithoutReactions.drop('reaction2', axis=1)\n",
    "dataWithoutReactions = dataWithoutReactions.drop('Disputed', axis=1)\n",
    "\n",
    "print(str(len(dataWithoutReactions)) + ' comments without an reaction and with reaction (but removed) combined')"
   ],
   "metadata": {
    "collapsed": false,
    "ExecuteTime": {
     "end_time": "2024-02-17T11:49:11.042316500Z",
     "start_time": "2024-02-17T11:49:10.077310800Z"
    }
   },
   "id": "2712a47be244b192"
  },
  {
   "cell_type": "code",
   "execution_count": 18,
   "outputs": [
    {
     "name": "stdout",
     "output_type": "stream",
     "text": [
      "2388 comments rated in total\n"
     ]
    }
   ],
   "source": [
    "countTotal = 0\n",
    "\n",
    "for index, row in data.iterrows(): \n",
    "    if is_annotated(row):\n",
    "        countTotal += 1\n",
    "\n",
    "print(str(countTotal) + ' comments rated in total')"
   ],
   "metadata": {
    "collapsed": false,
    "ExecuteTime": {
     "end_time": "2024-02-17T11:49:11.766780900Z",
     "start_time": "2024-02-17T11:49:11.032312200Z"
    }
   },
   "id": "40c1ff362601ac92"
  },
  {
   "cell_type": "code",
   "execution_count": 19,
   "outputs": [],
   "source": [
    "data.to_csv('dataset/03_comments_with_immediate_conversations-annotated-clean.csv', sep=';', index=False, header=True, encoding='utf-8-sig') \n",
    "dataAll.to_csv('dataset/04_comments_annotated-values.csv', sep=';', index=False, header=True, encoding='utf-8-sig') \n",
    "dataWithReactions.to_csv('dataset/04_comments_annotated-reactions.csv', sep=';', index=False, header=True, encoding='utf-8-sig') \n",
    "dataWithoutReactions.to_csv('dataset/04_comments_annotated-no_reactions.csv', sep=';', index=False, header=True, encoding='utf-8-sig') "
   ],
   "metadata": {
    "collapsed": false,
    "ExecuteTime": {
     "end_time": "2024-02-17T11:49:12.058551900Z",
     "start_time": "2024-02-17T11:49:11.776487800Z"
    }
   },
   "id": "71a792a87d9e7fd8"
  }
 ],
 "metadata": {
  "kernelspec": {
   "display_name": "Python 3",
   "language": "python",
   "name": "python3"
  },
  "language_info": {
   "codemirror_mode": {
    "name": "ipython",
    "version": 2
   },
   "file_extension": ".py",
   "mimetype": "text/x-python",
   "name": "python",
   "nbconvert_exporter": "python",
   "pygments_lexer": "ipython2",
   "version": "2.7.6"
  }
 },
 "nbformat": 4,
 "nbformat_minor": 5
}
