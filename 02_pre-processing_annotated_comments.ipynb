{
 "cells": [
  {
   "cell_type": "code",
   "execution_count": 73,
   "outputs": [],
   "source": [
    "import pandas as pd\n",
    "import re"
   ],
   "metadata": {
    "collapsed": false,
    "ExecuteTime": {
     "end_time": "2024-01-26T16:15:51.660025400Z",
     "start_time": "2024-01-26T16:15:51.630291100Z"
    }
   },
   "id": "cab1d07131b17938"
  },
  {
   "cell_type": "code",
   "execution_count": 74,
   "outputs": [
    {
     "name": "stdout",
     "output_type": "stream",
     "text": [
      "                  c_id                                             c_text  \\\n",
      "0  1391717608802631681  @100dusty @_Celopelo Wer so ein Profilbild wie...   \n",
      "1  1387437960757452803  @isabellavonpar1 @Genossin_Anetta @Karl_Lauter...   \n",
      "2  1389188826799673345  @_m_o_ni @2GRIMREAPER3 @schripinsky @nurcan_nu...   \n",
      "3  1385241285645291521  @DennisKBerlin Aber Bild hat doch gerade deswe...   \n",
      "4  1406592688921665538  @betxl5 @Xrxtn @Alice_Weidel @UweJunge Zuviele...   \n",
      "\n",
      "               date       conv_id  \\\n",
      "0  10.05.2021 11:31           NaN   \n",
      "1  28.04.2021 16:06  1.387325e+18   \n",
      "2  03.05.2021 12:03           NaN   \n",
      "3  22.04.2021 14:37           NaN   \n",
      "4  20.06.2021 12:40  1.406508e+18   \n",
      "\n",
      "                                           reaction1  \\\n",
      "0                                                NaN   \n",
      "1  @isabellavonpar1 @Genossin_Anetta @Karl_Lauter...   \n",
      "2                                                NaN   \n",
      "3                                                NaN   \n",
      "4  @Xrxtn @Ostwestfale60 @Alice_Weidel @UweJunge ...   \n",
      "\n",
      "                                           reaction2  Generalisation  \\\n",
      "0                                                NaN             3.0   \n",
      "1  @leipzig04349 @BollekWoW @Pedersolicarlo @Lafo...             2.0   \n",
      "2                                                NaN             3.0   \n",
      "3                                                NaN             1.0   \n",
      "4  @Xrxtn @Alice_Weidel @UweJunge Diskriminierung...             0.0   \n",
      "\n",
      "   Ambiguous  Objective  Subjective  Disputed  \n",
      "0        0.0        0.0         1.0       0.0  \n",
      "1        1.0        0.0         1.0       1.0  \n",
      "2        1.0        0.0         1.0       0.0  \n",
      "3        0.0        1.0         1.0       0.0  \n",
      "4        0.0        0.0         1.0       0.0  \n"
     ]
    }
   ],
   "source": [
    "file_path = '02_comments_with_immediate_conversations-annotated.csv'\n",
    "\n",
    "data = pd.read_csv(file_path, delimiter=';')\n",
    "\n",
    "print(data.head())"
   ],
   "metadata": {
    "collapsed": false,
    "ExecuteTime": {
     "end_time": "2024-01-26T16:15:51.804318600Z",
     "start_time": "2024-01-26T16:15:51.638024500Z"
    }
   },
   "id": "32ef6dd776f74b29"
  },
  {
   "cell_type": "code",
   "execution_count": 75,
   "id": "initial_id",
   "metadata": {
    "collapsed": true,
    "ExecuteTime": {
     "end_time": "2024-01-26T16:15:51.867426Z",
     "start_time": "2024-01-26T16:15:51.807315800Z"
    }
   },
   "outputs": [],
   "source": [
    "def clean_text(text):\n",
    "    if pd.isna(text):\n",
    "        return text\n",
    "        \n",
    "    text = text.replace('&amp;', '&')\n",
    "    text = text.replace('&lt;', '<')\n",
    "    text = text.replace('&gt;', '>')\n",
    "    text = text.replace('\\n', ' ')\n",
    "    \n",
    "    split_text = text.split(' ')\n",
    "    split_text = [word for word in split_text if not word.startswith('http') and not word.startswith('@')]\n",
    "    \n",
    "    text = ' '.join(split_text)\n",
    "    \n",
    "    text = re.sub(r'\\s+', ' ', text)\n",
    "    text = text.strip()\n",
    "\n",
    "    return text"
   ]
  },
  {
   "cell_type": "code",
   "execution_count": 76,
   "outputs": [
    {
     "name": "stdout",
     "output_type": "stream",
     "text": [
      "                  c_id                                             c_text  \\\n",
      "0  1391717608802631681  Wer so ein Profilbild wie sie hochlädt kann nu...   \n",
      "1  1387437960757452803  -1 Ja schau schön artig auf die Bunden Bildche...   \n",
      "2  1389188826799673345  Willst du jetzt etwa behaupten das Querdenker ...   \n",
      "3  1385241285645291521  Aber Bild hat doch gerade deswegen und diesbez...   \n",
      "4  1406592688921665538  Zuviele Fremdwörter, manches davon nicht mal i...   \n",
      "\n",
      "               date       conv_id  \\\n",
      "0  10.05.2021 11:31           NaN   \n",
      "1  28.04.2021 16:06  1.387325e+18   \n",
      "2  03.05.2021 12:03           NaN   \n",
      "3  22.04.2021 14:37           NaN   \n",
      "4  20.06.2021 12:40  1.406508e+18   \n",
      "\n",
      "                                           reaction1  \\\n",
      "0                                                NaN   \n",
      "1  -2 Die britische ist ja so schrecklich die ist...   \n",
      "2                                                NaN   \n",
      "3                                                NaN   \n",
      "4  Fühlst du dich von Menschen mit Gehirnen diskr...   \n",
      "\n",
      "                                           reaction2  Generalisation  \\\n",
      "0                                                NaN             3.0   \n",
      "1  Sie meinen, wie eine lesbische Frau oder ein P...             2.0   \n",
      "2                                                NaN             3.0   \n",
      "3                                                NaN             1.0   \n",
      "4  Diskriminierung gegen Heteros?! Hab ich das ri...             0.0   \n",
      "\n",
      "   Ambiguous  Objective  Subjective  Disputed  \n",
      "0        0.0        0.0         1.0       0.0  \n",
      "1        1.0        0.0         1.0       1.0  \n",
      "2        1.0        0.0         1.0       0.0  \n",
      "3        0.0        1.0         1.0       0.0  \n",
      "4        0.0        0.0         1.0       0.0  \n"
     ]
    }
   ],
   "source": [
    "for index, row in data.iterrows():\n",
    "    data.at[index, 'c_text'] = clean_text(row['c_text'])\n",
    "    data.at[index, 'reaction1'] = clean_text(row['reaction1'])\n",
    "    data.at[index, 'reaction2'] = clean_text(row['reaction2'])\n",
    "    \n",
    "print(data.head())"
   ],
   "metadata": {
    "collapsed": false,
    "ExecuteTime": {
     "end_time": "2024-01-26T16:15:54.151583600Z",
     "start_time": "2024-01-26T16:15:51.818427500Z"
    }
   },
   "id": "6fce609569b702be"
  },
  {
   "cell_type": "code",
   "execution_count": 77,
   "outputs": [],
   "source": [
    "def is_annotated(individual_row):\n",
    "    if individual_row['c_text'] != '' and not pd.isna(individual_row['Generalisation']) and not pd.isna(individual_row['Ambiguous']) and not pd.isna(individual_row['Objective']) and not pd.isna(individual_row['Subjective']) and not pd.isna(individual_row['Disputed']):\n",
    "        return True\n",
    "    else:\n",
    "        return False"
   ],
   "metadata": {
    "collapsed": false,
    "ExecuteTime": {
     "end_time": "2024-01-26T16:15:54.152581500Z",
     "start_time": "2024-01-26T16:15:54.133063100Z"
    }
   },
   "id": "179a0735c172b633"
  },
  {
   "cell_type": "code",
   "execution_count": 78,
   "outputs": [
    {
     "name": "stdout",
     "output_type": "stream",
     "text": [
      "1606 comments with an reaction\n"
     ]
    }
   ],
   "source": [
    "countWithReaction = 0\n",
    "for index, row in data.iterrows(): \n",
    "    if is_annotated(row) and (not pd.isna(row['reaction1']) or not pd.isna(row['reaction2'])):\n",
    "        countWithReaction += 1\n",
    "        \n",
    "print(str(countWithReaction) + ' comments with an reaction')"
   ],
   "metadata": {
    "collapsed": false,
    "ExecuteTime": {
     "end_time": "2024-01-26T16:15:54.974252400Z",
     "start_time": "2024-01-26T16:15:54.141584600Z"
    }
   },
   "id": "1d330e29ef05ed5c"
  },
  {
   "cell_type": "code",
   "execution_count": 79,
   "outputs": [
    {
     "name": "stdout",
     "output_type": "stream",
     "text": [
      "781 comments without an reaction\n"
     ]
    }
   ],
   "source": [
    "countWithoutReaction = 0\n",
    "for index, row in data.iterrows(): \n",
    "    if is_annotated(row) and (pd.isna(row['reaction1']) and pd.isna(row['reaction2'])):\n",
    "        countWithoutReaction += 1\n",
    "        \n",
    "print(str(countWithoutReaction) + ' comments without an reaction')"
   ],
   "metadata": {
    "collapsed": false,
    "ExecuteTime": {
     "end_time": "2024-01-26T16:15:55.819132900Z",
     "start_time": "2024-01-26T16:15:54.980314200Z"
    }
   },
   "id": "2712a47be244b192"
  },
  {
   "cell_type": "code",
   "execution_count": 80,
   "outputs": [
    {
     "name": "stdout",
     "output_type": "stream",
     "text": [
      "2387 comments rated in total\n"
     ]
    }
   ],
   "source": [
    "countTotal = 0\n",
    "\n",
    "for index, row in data.iterrows(): \n",
    "    if is_annotated(row):\n",
    "        countTotal += 1\n",
    "\n",
    "print(str(countTotal) + ' comments rated in total')"
   ],
   "metadata": {
    "collapsed": false,
    "ExecuteTime": {
     "end_time": "2024-01-26T16:15:56.577381200Z",
     "start_time": "2024-01-26T16:15:55.801864500Z"
    }
   },
   "id": "40c1ff362601ac92"
  },
  {
   "cell_type": "code",
   "execution_count": 81,
   "outputs": [],
   "source": [
    "data.to_csv('03_comments_with_immediate_conversations-annotated-clean.csv', sep=';', index=False, header=True, encoding='utf-8-sig') "
   ],
   "metadata": {
    "collapsed": false,
    "ExecuteTime": {
     "end_time": "2024-01-26T16:15:56.768275700Z",
     "start_time": "2024-01-26T16:15:56.567363400Z"
    }
   },
   "id": "71a792a87d9e7fd8"
  }
 ],
 "metadata": {
  "kernelspec": {
   "display_name": "Python 3",
   "language": "python",
   "name": "python3"
  },
  "language_info": {
   "codemirror_mode": {
    "name": "ipython",
    "version": 2
   },
   "file_extension": ".py",
   "mimetype": "text/x-python",
   "name": "python",
   "nbconvert_exporter": "python",
   "pygments_lexer": "ipython2",
   "version": "2.7.6"
  }
 },
 "nbformat": 4,
 "nbformat_minor": 5
}
