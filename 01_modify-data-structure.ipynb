{
 "cells": [
  {
   "cell_type": "markdown",
   "source": [
    "# Import"
   ],
   "metadata": {
    "collapsed": false
   },
   "id": "2586c4a665ee790a"
  },
  {
   "cell_type": "code",
   "execution_count": 9,
   "outputs": [],
   "source": [
    "import pandas as pd\n",
    "from pathlib import Path\n",
    "import sqlite3 as sqlite\n",
    "import numpy as np"
   ],
   "metadata": {
    "collapsed": false,
    "ExecuteTime": {
     "end_time": "2023-12-23T11:56:54.266987600Z",
     "start_time": "2023-12-23T11:56:54.165424800Z"
    }
   },
   "id": "de0a815702fb8e9"
  },
  {
   "cell_type": "markdown",
   "source": [
    "# Connect to database"
   ],
   "metadata": {
    "collapsed": false
   },
   "id": "646887e53b199d78"
  },
  {
   "cell_type": "code",
   "execution_count": 10,
   "outputs": [],
   "source": [
    "database_path = Path(\"detox/DeTox-Dataset_complete.sqlite3\") # path to your database file\n",
    "dbconnect = None\n",
    "cursor = None\n",
    "\n",
    "if not database_path.is_file():\n",
    "    print(f\"Database {database_path} does not exist. Creating a new database now ...\")\n",
    "try:\n",
    "        # open database connection\n",
    "        dbconnect = sqlite.connect(database_path, detect_types=sqlite.PARSE_DECLTYPES | sqlite.PARSE_COLNAMES)\n",
    "        cursor = dbconnect.cursor()\n",
    "        # Check Foreign-Key Constraints can be switched off if needed with the following line:\n",
    "        # cursor.execute(\"PRAGMA foreign_keys = OFF;\")\n",
    "except sqlite.Error as e:\n",
    "        # if errors occur\n",
    "        print(\"Error %s:\" % e.args[0])"
   ],
   "metadata": {
    "collapsed": false,
    "ExecuteTime": {
     "end_time": "2023-12-23T11:56:54.285514800Z",
     "start_time": "2023-12-23T11:56:54.180394100Z"
    }
   },
   "id": "ff186d0be257505f"
  },
  {
   "cell_type": "markdown",
   "source": [
    "## Modify how date is saved"
   ],
   "metadata": {
    "collapsed": false
   },
   "id": "29835b3b1b726ef0"
  },
  {
   "cell_type": "code",
   "execution_count": 11,
   "outputs": [],
   "source": [
    "# change date to valid format\n",
    "cursor.execute('UPDATE Comments SET \"date\" = substr(\"date\", 1, instr(\"date\", \"+\")-1) WHERE date LIKE \"%+%\"')\n",
    "dbconnect.commit()"
   ],
   "metadata": {
    "collapsed": false,
    "ExecuteTime": {
     "end_time": "2023-12-23T11:56:54.465313Z",
     "start_time": "2023-12-23T11:56:54.191965400Z"
    }
   },
   "id": "2096f031ff4ecf63"
  },
  {
   "cell_type": "markdown",
   "source": [
    "# Modify data"
   ],
   "metadata": {
    "collapsed": false
   },
   "id": "f6be6c4256a11065"
  },
  {
   "cell_type": "code",
   "execution_count": 12,
   "outputs": [
    {
     "data": {
      "text/plain": "                   c_id                                             c_text  \\\n0   1406777427234373632  @reitschuster Man sollte keine Diplom-Volkswir...   \n1   1406751155707842561  Das ist, mit Verlaub, Quatsch. Ct-Werte wurden...   \n2   1406751925983395851  @Karl_Lauterbach Aber nach Impfung gibt der Ct...   \n3   1406755191706243077  @travelflo @Karl_Lauterbach und trotzdem ander...   \n4   1406755713548959745  @DeineMeinungung @Karl_Lauterbach nochmal, die...   \n..                  ...                                                ...   \n95  1406748783791255552  @travelflo @Karl_Lauterbach Meister, es forder...   \n96  1406753568699437063  @Karl_Lauterbach Das ist ziemlicher Blödsinn. ...   \n97  1406715695828770825  @reitschuster Nicht mehr Impfschäden als bei a...   \n98  1406710447894630406  @Karl_Lauterbach Wäre gut wenn wir erstmal uns...   \n99  1406718111865315332  Offenbar wurden die Ermittlungen mittlerweile ...   \n\n                  date              conv_id  \n0  2021-06-21 00:54:09  1406756979880742912  \n1  2021-06-20 23:09:46  1406751155707842561  \n2  2021-06-20 23:12:49  1406751155707842561  \n3  2021-06-20 23:25:48  1406751155707842561  \n4  2021-06-20 23:27:53  1406751155707842561  \n..                 ...                  ...  \n95 2021-06-20 23:00:20  1406745651220713479  \n96 2021-06-20 23:19:21  1406745651220713479  \n97 2021-06-20 20:48:52  1406711193490931715  \n98 2021-06-20 20:28:00  1406710025951850500  \n99 2021-06-20 20:58:28  1406706085046726662  \n\n[100 rows x 4 columns]",
      "text/html": "<div>\n<style scoped>\n    .dataframe tbody tr th:only-of-type {\n        vertical-align: middle;\n    }\n\n    .dataframe tbody tr th {\n        vertical-align: top;\n    }\n\n    .dataframe thead th {\n        text-align: right;\n    }\n</style>\n<table border=\"1\" class=\"dataframe\">\n  <thead>\n    <tr style=\"text-align: right;\">\n      <th></th>\n      <th>c_id</th>\n      <th>c_text</th>\n      <th>date</th>\n      <th>conv_id</th>\n    </tr>\n  </thead>\n  <tbody>\n    <tr>\n      <th>0</th>\n      <td>1406777427234373632</td>\n      <td>@reitschuster Man sollte keine Diplom-Volkswir...</td>\n      <td>2021-06-21 00:54:09</td>\n      <td>1406756979880742912</td>\n    </tr>\n    <tr>\n      <th>1</th>\n      <td>1406751155707842561</td>\n      <td>Das ist, mit Verlaub, Quatsch. Ct-Werte wurden...</td>\n      <td>2021-06-20 23:09:46</td>\n      <td>1406751155707842561</td>\n    </tr>\n    <tr>\n      <th>2</th>\n      <td>1406751925983395851</td>\n      <td>@Karl_Lauterbach Aber nach Impfung gibt der Ct...</td>\n      <td>2021-06-20 23:12:49</td>\n      <td>1406751155707842561</td>\n    </tr>\n    <tr>\n      <th>3</th>\n      <td>1406755191706243077</td>\n      <td>@travelflo @Karl_Lauterbach und trotzdem ander...</td>\n      <td>2021-06-20 23:25:48</td>\n      <td>1406751155707842561</td>\n    </tr>\n    <tr>\n      <th>4</th>\n      <td>1406755713548959745</td>\n      <td>@DeineMeinungung @Karl_Lauterbach nochmal, die...</td>\n      <td>2021-06-20 23:27:53</td>\n      <td>1406751155707842561</td>\n    </tr>\n    <tr>\n      <th>...</th>\n      <td>...</td>\n      <td>...</td>\n      <td>...</td>\n      <td>...</td>\n    </tr>\n    <tr>\n      <th>95</th>\n      <td>1406748783791255552</td>\n      <td>@travelflo @Karl_Lauterbach Meister, es forder...</td>\n      <td>2021-06-20 23:00:20</td>\n      <td>1406745651220713479</td>\n    </tr>\n    <tr>\n      <th>96</th>\n      <td>1406753568699437063</td>\n      <td>@Karl_Lauterbach Das ist ziemlicher Blödsinn. ...</td>\n      <td>2021-06-20 23:19:21</td>\n      <td>1406745651220713479</td>\n    </tr>\n    <tr>\n      <th>97</th>\n      <td>1406715695828770825</td>\n      <td>@reitschuster Nicht mehr Impfschäden als bei a...</td>\n      <td>2021-06-20 20:48:52</td>\n      <td>1406711193490931715</td>\n    </tr>\n    <tr>\n      <th>98</th>\n      <td>1406710447894630406</td>\n      <td>@Karl_Lauterbach Wäre gut wenn wir erstmal uns...</td>\n      <td>2021-06-20 20:28:00</td>\n      <td>1406710025951850500</td>\n    </tr>\n    <tr>\n      <th>99</th>\n      <td>1406718111865315332</td>\n      <td>Offenbar wurden die Ermittlungen mittlerweile ...</td>\n      <td>2021-06-20 20:58:28</td>\n      <td>1406706085046726662</td>\n    </tr>\n  </tbody>\n</table>\n<p>100 rows × 4 columns</p>\n</div>"
     },
     "execution_count": 12,
     "metadata": {},
     "output_type": "execute_result"
    }
   ],
   "source": [
    "data = pd.read_sql_query('SELECT c_id, c_text, \"date\", conv_id from Comments NATURAL JOIN Goldstandard ORDER BY conv_id desc, \"date\";', con=dbconnect)\n",
    "data.head(100)"
   ],
   "metadata": {
    "collapsed": false,
    "ExecuteTime": {
     "end_time": "2023-12-23T11:56:55.178751100Z",
     "start_time": "2023-12-23T11:56:54.473802Z"
    }
   },
   "id": "2597c8c4a7ae8a3d"
  },
  {
   "cell_type": "code",
   "execution_count": 13,
   "outputs": [],
   "source": [
    "# Important: close the database connection at the end\n",
    "dbconnect.close();"
   ],
   "metadata": {
    "collapsed": false,
    "ExecuteTime": {
     "end_time": "2023-12-23T11:56:55.179753200Z",
     "start_time": "2023-12-23T11:56:55.173705800Z"
    }
   },
   "id": "28c14cb408636dc1"
  },
  {
   "cell_type": "code",
   "execution_count": 14,
   "outputs": [
    {
     "data": {
      "text/plain": "                   c_id                                             c_text  \\\n0   1406777427234373632  @reitschuster Man sollte keine Diplom-Volkswir...   \n1   1406751155707842561  Das ist, mit Verlaub, Quatsch. Ct-Werte wurden...   \n2   1406751925983395851  @Karl_Lauterbach Aber nach Impfung gibt der Ct...   \n3   1406755191706243077  @travelflo @Karl_Lauterbach und trotzdem ander...   \n4   1406755713548959745  @DeineMeinungung @Karl_Lauterbach nochmal, die...   \n..                  ...                                                ...   \n95  1406748783791255552  @travelflo @Karl_Lauterbach Meister, es forder...   \n96  1406753568699437063  @Karl_Lauterbach Das ist ziemlicher Blödsinn. ...   \n97  1406715695828770825  @reitschuster Nicht mehr Impfschäden als bei a...   \n98  1406710447894630406  @Karl_Lauterbach Wäre gut wenn wir erstmal uns...   \n99  1406718111865315332  Offenbar wurden die Ermittlungen mittlerweile ...   \n\n                  date              conv_id  \\\n0  2021-06-21 00:54:09  1406756979880742912   \n1  2021-06-20 23:09:46  1406751155707842561   \n2  2021-06-20 23:12:49  1406751155707842561   \n3  2021-06-20 23:25:48  1406751155707842561   \n4  2021-06-20 23:27:53  1406751155707842561   \n..                 ...                  ...   \n95 2021-06-20 23:00:20  1406745651220713479   \n96 2021-06-20 23:19:21  1406745651220713479   \n97 2021-06-20 20:48:52  1406711193490931715   \n98 2021-06-20 20:28:00  1406710025951850500   \n99 2021-06-20 20:58:28  1406706085046726662   \n\n                                            reaction1  \\\n0                                                None   \n1   @Karl_Lauterbach Aber nach Impfung gibt der Ct...   \n2   @travelflo @Karl_Lauterbach und trotzdem ander...   \n3   @DeineMeinungung @Karl_Lauterbach nochmal, die...   \n4   @Karl_Lauterbach Was für einen Schwachsinn sie...   \n..                                                ...   \n95  @Karl_Lauterbach Das ist ziemlicher Blödsinn. ...   \n96                                               None   \n97                                               None   \n98                                               None   \n99                                               None   \n\n                                            reaction2  \n0                                                None  \n1   @travelflo @Karl_Lauterbach und trotzdem ander...  \n2   @DeineMeinungung @Karl_Lauterbach nochmal, die...  \n3   @Karl_Lauterbach Was für einen Schwachsinn sie...  \n4   @Karl_Lauterbach Da ist BS, ct-Wert wurde nich...  \n..                                                ...  \n95                                               None  \n96                                               None  \n97                                               None  \n98                                               None  \n99                                               None  \n\n[100 rows x 6 columns]",
      "text/html": "<div>\n<style scoped>\n    .dataframe tbody tr th:only-of-type {\n        vertical-align: middle;\n    }\n\n    .dataframe tbody tr th {\n        vertical-align: top;\n    }\n\n    .dataframe thead th {\n        text-align: right;\n    }\n</style>\n<table border=\"1\" class=\"dataframe\">\n  <thead>\n    <tr style=\"text-align: right;\">\n      <th></th>\n      <th>c_id</th>\n      <th>c_text</th>\n      <th>date</th>\n      <th>conv_id</th>\n      <th>reaction1</th>\n      <th>reaction2</th>\n    </tr>\n  </thead>\n  <tbody>\n    <tr>\n      <th>0</th>\n      <td>1406777427234373632</td>\n      <td>@reitschuster Man sollte keine Diplom-Volkswir...</td>\n      <td>2021-06-21 00:54:09</td>\n      <td>1406756979880742912</td>\n      <td>None</td>\n      <td>None</td>\n    </tr>\n    <tr>\n      <th>1</th>\n      <td>1406751155707842561</td>\n      <td>Das ist, mit Verlaub, Quatsch. Ct-Werte wurden...</td>\n      <td>2021-06-20 23:09:46</td>\n      <td>1406751155707842561</td>\n      <td>@Karl_Lauterbach Aber nach Impfung gibt der Ct...</td>\n      <td>@travelflo @Karl_Lauterbach und trotzdem ander...</td>\n    </tr>\n    <tr>\n      <th>2</th>\n      <td>1406751925983395851</td>\n      <td>@Karl_Lauterbach Aber nach Impfung gibt der Ct...</td>\n      <td>2021-06-20 23:12:49</td>\n      <td>1406751155707842561</td>\n      <td>@travelflo @Karl_Lauterbach und trotzdem ander...</td>\n      <td>@DeineMeinungung @Karl_Lauterbach nochmal, die...</td>\n    </tr>\n    <tr>\n      <th>3</th>\n      <td>1406755191706243077</td>\n      <td>@travelflo @Karl_Lauterbach und trotzdem ander...</td>\n      <td>2021-06-20 23:25:48</td>\n      <td>1406751155707842561</td>\n      <td>@DeineMeinungung @Karl_Lauterbach nochmal, die...</td>\n      <td>@Karl_Lauterbach Was für einen Schwachsinn sie...</td>\n    </tr>\n    <tr>\n      <th>4</th>\n      <td>1406755713548959745</td>\n      <td>@DeineMeinungung @Karl_Lauterbach nochmal, die...</td>\n      <td>2021-06-20 23:27:53</td>\n      <td>1406751155707842561</td>\n      <td>@Karl_Lauterbach Was für einen Schwachsinn sie...</td>\n      <td>@Karl_Lauterbach Da ist BS, ct-Wert wurde nich...</td>\n    </tr>\n    <tr>\n      <th>...</th>\n      <td>...</td>\n      <td>...</td>\n      <td>...</td>\n      <td>...</td>\n      <td>...</td>\n      <td>...</td>\n    </tr>\n    <tr>\n      <th>95</th>\n      <td>1406748783791255552</td>\n      <td>@travelflo @Karl_Lauterbach Meister, es forder...</td>\n      <td>2021-06-20 23:00:20</td>\n      <td>1406745651220713479</td>\n      <td>@Karl_Lauterbach Das ist ziemlicher Blödsinn. ...</td>\n      <td>None</td>\n    </tr>\n    <tr>\n      <th>96</th>\n      <td>1406753568699437063</td>\n      <td>@Karl_Lauterbach Das ist ziemlicher Blödsinn. ...</td>\n      <td>2021-06-20 23:19:21</td>\n      <td>1406745651220713479</td>\n      <td>None</td>\n      <td>None</td>\n    </tr>\n    <tr>\n      <th>97</th>\n      <td>1406715695828770825</td>\n      <td>@reitschuster Nicht mehr Impfschäden als bei a...</td>\n      <td>2021-06-20 20:48:52</td>\n      <td>1406711193490931715</td>\n      <td>None</td>\n      <td>None</td>\n    </tr>\n    <tr>\n      <th>98</th>\n      <td>1406710447894630406</td>\n      <td>@Karl_Lauterbach Wäre gut wenn wir erstmal uns...</td>\n      <td>2021-06-20 20:28:00</td>\n      <td>1406710025951850500</td>\n      <td>None</td>\n      <td>None</td>\n    </tr>\n    <tr>\n      <th>99</th>\n      <td>1406718111865315332</td>\n      <td>Offenbar wurden die Ermittlungen mittlerweile ...</td>\n      <td>2021-06-20 20:58:28</td>\n      <td>1406706085046726662</td>\n      <td>None</td>\n      <td>None</td>\n    </tr>\n  </tbody>\n</table>\n<p>100 rows × 6 columns</p>\n</div>"
     },
     "execution_count": 14,
     "metadata": {},
     "output_type": "execute_result"
    }
   ],
   "source": [
    "reaction1 = np.full(len(data), None)\n",
    "reaction2 = np.full(len(data), None)\n",
    "\n",
    "for index, row in data.iterrows():\n",
    "    if (row['conv_id'] is not None):\n",
    "\n",
    "        if  index + 1 < len(data) and data.iloc[index + 1][\"conv_id\"] == row['conv_id']:\n",
    "            reaction1[index] = data.iloc[index + 1][\"c_text\"]\n",
    "            \n",
    "        if  index + 2 < len(data) and data.iloc[index + 2][\"conv_id\"] == row['conv_id']:\n",
    "            reaction2[index] = data.iloc[index + 2][\"c_text\"]\n",
    "    #data[['reaction1', 'reaction2']] = data.apply(get_reactions, axis=1) \n",
    "    \n",
    "data['reaction1'] = reaction1\n",
    "data['reaction2'] = reaction2\n",
    "\n",
    "data.head(100)"
   ],
   "metadata": {
    "collapsed": false,
    "ExecuteTime": {
     "end_time": "2023-12-23T11:56:58.198605700Z",
     "start_time": "2023-12-23T11:56:55.184749600Z"
    }
   },
   "id": "12f18d2f5ca95687"
  },
  {
   "cell_type": "code",
   "execution_count": 15,
   "outputs": [],
   "source": [
    "# Randomize data\n",
    "data = data.sample(frac=1)"
   ],
   "metadata": {
    "collapsed": false,
    "ExecuteTime": {
     "end_time": "2023-12-23T11:56:58.212759700Z",
     "start_time": "2023-12-23T11:56:58.201608300Z"
    }
   },
   "id": "63c83ae057f2f846"
  },
  {
   "cell_type": "markdown",
   "source": [
    "# Write to CSV"
   ],
   "metadata": {
    "collapsed": false
   },
   "id": "c6cc8bac8d49bd38"
  },
  {
   "cell_type": "code",
   "execution_count": 16,
   "id": "initial_id",
   "metadata": {
    "collapsed": true,
    "ExecuteTime": {
     "end_time": "2023-12-23T11:56:58.418950700Z",
     "start_time": "2023-12-23T11:56:58.217759100Z"
    }
   },
   "outputs": [],
   "source": [
    "data.to_csv('01_comments_with_immediate_conversations-random.csv', sep=';', index=False, header=True) "
   ]
  }
 ],
 "metadata": {
  "kernelspec": {
   "display_name": "Python 3",
   "language": "python",
   "name": "python3"
  },
  "language_info": {
   "codemirror_mode": {
    "name": "ipython",
    "version": 2
   },
   "file_extension": ".py",
   "mimetype": "text/x-python",
   "name": "python",
   "nbconvert_exporter": "python",
   "pygments_lexer": "ipython2",
   "version": "2.7.6"
  }
 },
 "nbformat": 4,
 "nbformat_minor": 5
}
