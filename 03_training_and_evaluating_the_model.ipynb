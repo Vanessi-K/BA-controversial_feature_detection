{
 "cells": [
  {
   "cell_type": "code",
   "execution_count": 1,
   "id": "initial_id",
   "metadata": {
    "collapsed": true,
    "ExecuteTime": {
     "end_time": "2024-04-27T14:00:51.423303100Z",
     "start_time": "2024-04-27T14:00:47.856306200Z"
    }
   },
   "outputs": [],
   "source": [
    "from transformers import DistilBertTokenizer, DistilBertModel\n",
    "import pandas as pd\n",
    "import numpy as np\n",
    "import torch\n",
    "import shutil\n",
    "from timeit import default_timer as timer\n",
    "from torchmetrics.classification import MultilabelF1Score, MultilabelAccuracy, MultilabelStatScores\n",
    "import matplotlib.pyplot as plt"
   ]
  },
  {
   "cell_type": "markdown",
   "source": [
    "# Read the dataset"
   ],
   "metadata": {
    "collapsed": false
   },
   "id": "608458f4411e37bc"
  },
  {
   "cell_type": "code",
   "outputs": [],
   "source": [
    "file_path = 'dataset/04_comments_annotated-values.csv'\n",
    "data = pd.read_csv(file_path, delimiter=';')"
   ],
   "metadata": {
    "collapsed": false,
    "ExecuteTime": {
     "end_time": "2024-04-27T14:00:51.451305500Z",
     "start_time": "2024-04-27T14:00:51.413306600Z"
    }
   },
   "id": "dcbfdf82a33b855d",
   "execution_count": 2
  },
  {
   "cell_type": "code",
   "outputs": [
    {
     "data": {
      "text/plain": "                  c_id                                             c_text  \\\n0  1391717608802631681  Wer so ein Profilbild wie sie hochlädt kann nu...   \n1  1389188826799673345  Willst du jetzt etwa behaupten das Querdenker ...   \n2  1385241285645291521  Aber Bild hat doch gerade deswegen und diesbez...   \n3  1385240437988986887  Das sehe ich auch genau so. Dieser Brinkhaus i...   \n4  1389640445790199809  Mit den Milliarden Unterstützungsgeldern die s...   \n\n               date  conv_id reaction1 reaction2  Ambiguous  Objective  \\\n0  10.05.2021 11:31      NaN       NaN       NaN        0.0        0.0   \n1  03.05.2021 12:03      NaN       NaN       NaN        1.0        0.0   \n2  22.04.2021 14:37      NaN       NaN       NaN        0.0        1.0   \n3  22.04.2021 14:33      NaN       NaN       NaN        1.0        0.0   \n4  04.05.2021 17:57      NaN       NaN       NaN        0.0        0.0   \n\n   Subjective  Disputed  Generalisation0  Generalisation1  Generalisation2  \\\n0         1.0       0.0                0                0                0   \n1         1.0       0.0                0                0                0   \n2         1.0       0.0                0                1                0   \n3         1.0       0.0                1                0                0   \n4         1.0       0.0                0                0                1   \n\n   Generalisation3  \n0                1  \n1                1  \n2                0  \n3                0  \n4                0  ",
      "text/html": "<div>\n<style scoped>\n    .dataframe tbody tr th:only-of-type {\n        vertical-align: middle;\n    }\n\n    .dataframe tbody tr th {\n        vertical-align: top;\n    }\n\n    .dataframe thead th {\n        text-align: right;\n    }\n</style>\n<table border=\"1\" class=\"dataframe\">\n  <thead>\n    <tr style=\"text-align: right;\">\n      <th></th>\n      <th>c_id</th>\n      <th>c_text</th>\n      <th>date</th>\n      <th>conv_id</th>\n      <th>reaction1</th>\n      <th>reaction2</th>\n      <th>Ambiguous</th>\n      <th>Objective</th>\n      <th>Subjective</th>\n      <th>Disputed</th>\n      <th>Generalisation0</th>\n      <th>Generalisation1</th>\n      <th>Generalisation2</th>\n      <th>Generalisation3</th>\n    </tr>\n  </thead>\n  <tbody>\n    <tr>\n      <th>0</th>\n      <td>1391717608802631681</td>\n      <td>Wer so ein Profilbild wie sie hochlädt kann nu...</td>\n      <td>10.05.2021 11:31</td>\n      <td>NaN</td>\n      <td>NaN</td>\n      <td>NaN</td>\n      <td>0.0</td>\n      <td>0.0</td>\n      <td>1.0</td>\n      <td>0.0</td>\n      <td>0</td>\n      <td>0</td>\n      <td>0</td>\n      <td>1</td>\n    </tr>\n    <tr>\n      <th>1</th>\n      <td>1389188826799673345</td>\n      <td>Willst du jetzt etwa behaupten das Querdenker ...</td>\n      <td>03.05.2021 12:03</td>\n      <td>NaN</td>\n      <td>NaN</td>\n      <td>NaN</td>\n      <td>1.0</td>\n      <td>0.0</td>\n      <td>1.0</td>\n      <td>0.0</td>\n      <td>0</td>\n      <td>0</td>\n      <td>0</td>\n      <td>1</td>\n    </tr>\n    <tr>\n      <th>2</th>\n      <td>1385241285645291521</td>\n      <td>Aber Bild hat doch gerade deswegen und diesbez...</td>\n      <td>22.04.2021 14:37</td>\n      <td>NaN</td>\n      <td>NaN</td>\n      <td>NaN</td>\n      <td>0.0</td>\n      <td>1.0</td>\n      <td>1.0</td>\n      <td>0.0</td>\n      <td>0</td>\n      <td>1</td>\n      <td>0</td>\n      <td>0</td>\n    </tr>\n    <tr>\n      <th>3</th>\n      <td>1385240437988986887</td>\n      <td>Das sehe ich auch genau so. Dieser Brinkhaus i...</td>\n      <td>22.04.2021 14:33</td>\n      <td>NaN</td>\n      <td>NaN</td>\n      <td>NaN</td>\n      <td>1.0</td>\n      <td>0.0</td>\n      <td>1.0</td>\n      <td>0.0</td>\n      <td>1</td>\n      <td>0</td>\n      <td>0</td>\n      <td>0</td>\n    </tr>\n    <tr>\n      <th>4</th>\n      <td>1389640445790199809</td>\n      <td>Mit den Milliarden Unterstützungsgeldern die s...</td>\n      <td>04.05.2021 17:57</td>\n      <td>NaN</td>\n      <td>NaN</td>\n      <td>NaN</td>\n      <td>0.0</td>\n      <td>0.0</td>\n      <td>1.0</td>\n      <td>0.0</td>\n      <td>0</td>\n      <td>0</td>\n      <td>1</td>\n      <td>0</td>\n    </tr>\n  </tbody>\n</table>\n</div>"
     },
     "execution_count": 3,
     "metadata": {},
     "output_type": "execute_result"
    }
   ],
   "source": [
    "data.head()"
   ],
   "metadata": {
    "collapsed": false,
    "ExecuteTime": {
     "end_time": "2024-04-27T14:00:51.473304400Z",
     "start_time": "2024-04-27T14:00:51.444304900Z"
    }
   },
   "id": "d4ead10737c28116",
   "execution_count": 3
  },
  {
   "cell_type": "markdown",
   "source": [
    "## Remove test-data"
   ],
   "metadata": {
    "collapsed": false
   },
   "id": "22cedf9382f9c921"
  },
  {
   "cell_type": "code",
   "outputs": [],
   "source": [
    "sample_data_ids = [\n",
    "    1405047474310553601,\n",
    "    1388783647403220994,\n",
    "    1387373196916281344,\n",
    "    1405544796559601673,\n",
    "    1401594561835773957,\n",
    "    1405219910960156675,\n",
    "    1394285068944818176,\n",
    "    1405106839642062848,\n",
    "    1403073727332560902,\n",
    "    1406556368241369090,\n",
    "    1384598185356767235,\n",
    "    1398590532167864320,\n",
    "    1393517517927223301,\n",
    "    1404378018928267264,\n",
    "    1387505263159218179\n",
    "]\n",
    "\n",
    "sample_data = data[data['c_id'].isin(sample_data_ids)]\n",
    "data = data[~data['c_id'].isin(sample_data_ids)]"
   ],
   "metadata": {
    "collapsed": false,
    "ExecuteTime": {
     "end_time": "2024-04-27T14:00:51.507304300Z",
     "start_time": "2024-04-27T14:00:51.462303500Z"
    }
   },
   "id": "a2cf97529c466ffd",
   "execution_count": 4
  },
  {
   "cell_type": "code",
   "outputs": [
    {
     "data": {
      "text/plain": "                     c_id                                             c_text  \\\n1485  1405047474310553601  Nein, nicht in einen Tiopf. Die Mitesser-NGO G...   \n1487  1393517517927223301  Ääähm... da müsste man halt jetzt wissen, dass...   \n1492  1388783647403220994  Wer liest das? Mal ehrlich jetzt, wenn dieses ...   \n1493  1387373196916281344  Im Gegensatz etwa zum \"Flügel\" der AfD damals....   \n1505  1404378018928267264  Biergarten ist gesellschaftlich notwendiger, g...   \n1526  1405544796559601673  ich sage nicht dass wissenschaft gekauft ist. ...   \n1529  1387505263159218179  Corona gibt es sehr wohl, aber wo stecken sich...   \n1545  1401594561835773957  Die brauen Rattenfänger bleiben außen vor und ...   \n1556  1405219910960156675           Dann waren es wohl die falschen Medien..   \n1561  1394285068944818176  Aber das macht doch die Situation für Juden HI...   \n1577  1405106839642062848  Wir übernehmen volle Verantwortung für diesen ...   \n1624  1403073727332560902  Im gegensatz zu dir tue ich das. und für die c...   \n1689  1406556368241369090  Was hat dann Bandenwerbung im Sport verloren? ...   \n1722  1384598185356767235  Wer die Grünen wählt, hat die Kontrolle über s...   \n1733  1398590532167864320  So ein Blödsinn. Fühlt ihr euch frei? Frei von...   \n\n                  date       conv_id  \\\n1485  16.06.2021 06:19  1.404880e+18   \n1487  15.05.2021 10:44  1.393101e+18   \n1492  02.05.2021 09:13  1.388210e+18   \n1493  28.04.2021 11:48  1.387325e+18   \n1505  14.06.2021 09:59  1.403864e+18   \n1526  17.06.2021 15:16  1.404880e+18   \n1529  28.04.2021 20:33  1.387325e+18   \n1545  06.06.2021 17:39  1.401583e+18   \n1556  16.06.2021 17:45  1.405213e+18   \n1561  17.05.2021 13:33  1.393929e+18   \n1577  16.06.2021 10:15  1.404880e+18   \n1624  10.06.2021 19:36  1.401583e+18   \n1689  20.06.2021 10:15  1.406508e+18   \n1722  20.04.2021 20:01  1.384598e+18   \n1733  29.05.2021 10:42  1.398384e+18   \n\n                                              reaction1  \\\n1485  Ich werte das als impulsgetiebene Antwort. Bit...   \n1487  100%. Ich hoffe er schreibt es sich hinter sei...   \n1492  Sie fragen, weshalb er ein Faschist sei. Ich b...   \n1493  Jetzt wird's aber sehr beliebig. Sind denn der...   \n1505  Du scheinst dich sehr auf Herrn Reitschuster e...   \n1526  das problem ist dass die industrielle landwirt...   \n1529  Ja, aber genau das ist doch das Problem. Die L...   \n1545  Jo, das stimmt. Aber dass die Bearbock Crew im...   \n1556  Meinen Sie verantwortungslose Eltern, die den ...   \n1561                       Ja, aber nur auf dem Papier!   \n1577  Die haben Tatsache beim Spiel nicht versucht u...   \n1624  ... wieder Quatsch ... aber Querdenker leben j...   \n1689  Ihre Drogen würde ich auch gerne nehmen😂😂 Also...   \n1722  Und wer die AfD wählt hat die Kontrolle über s...   \n1733  Freizeit ist vor allem Selbstbestimmung und di...   \n\n                                              reaction2  Ambiguous  Objective  \\\n1485  Jeder Mensch mit klarem Verstand erkennt bei d...        1.0        0.0   \n1487  Es ist immer wieder schön zu sehen und zu höre...        0.0        1.0   \n1492                             Dann sagen Sie es mir?        1.0        0.0   \n1493  Das negieren des staatlichen Gewaltmonopols is...        0.0        1.0   \n1505               Dafür hattet ihr ne Ausgangssperre 😉        0.0        1.0   \n1526  Warum ist es \"das Übel\"? Mit vorindustriellen ...        0.0        1.0   \n1529  Ja aber warum müssen denn alle seit einem Jahr...        0.0        1.0   \n1545                 Btw..wieviel hat die Afd verloren?        1.0        0.0   \n1556             Welche sind denn die richtigen Medien?        0.0        0.0   \n1561                     Ja, Deutsche auf dem \"Papier\"!        0.0        0.0   \n1577  Fakt ist aber dass die aktion: - illegal ist -...        0.0        1.0   \n1624  wer zu solchen worten greift, kehrt besser vor...        1.0        0.0   \n1689               Wie dumm ist Ihre Aussage bitte!? 🤦🤦        1.0        0.0   \n1722  Es gibt nichts besseres als die AfD. Alles Men...        0.0        0.0   \n1733  Erkläre mir mal, weshalb ich nicht frei bin. W...        1.0        0.0   \n\n      Subjective  Disputed  Generalisation0  Generalisation1  Generalisation2  \\\n1485         1.0       1.0                1                0                0   \n1487         1.0       0.0                0                1                0   \n1492         1.0       1.0                0                1                0   \n1493         1.0       1.0                1                0                0   \n1505         1.0       1.0                0                0                1   \n1526         1.0       1.0                0                1                0   \n1529         1.0       1.0                0                0                1   \n1545         1.0       1.0                1                0                0   \n1556         1.0       1.0                0                1                0   \n1561         1.0       1.0                0                0                1   \n1577         1.0       1.0                1                0                0   \n1624         1.0       1.0                0                1                0   \n1689         1.0       0.0                0                1                0   \n1722         1.0       1.0                0                1                0   \n1733         1.0       1.0                0                1                0   \n\n      Generalisation3  \n1485                0  \n1487                0  \n1492                0  \n1493                0  \n1505                0  \n1526                0  \n1529                0  \n1545                0  \n1556                0  \n1561                0  \n1577                0  \n1624                0  \n1689                0  \n1722                0  \n1733                0  ",
      "text/html": "<div>\n<style scoped>\n    .dataframe tbody tr th:only-of-type {\n        vertical-align: middle;\n    }\n\n    .dataframe tbody tr th {\n        vertical-align: top;\n    }\n\n    .dataframe thead th {\n        text-align: right;\n    }\n</style>\n<table border=\"1\" class=\"dataframe\">\n  <thead>\n    <tr style=\"text-align: right;\">\n      <th></th>\n      <th>c_id</th>\n      <th>c_text</th>\n      <th>date</th>\n      <th>conv_id</th>\n      <th>reaction1</th>\n      <th>reaction2</th>\n      <th>Ambiguous</th>\n      <th>Objective</th>\n      <th>Subjective</th>\n      <th>Disputed</th>\n      <th>Generalisation0</th>\n      <th>Generalisation1</th>\n      <th>Generalisation2</th>\n      <th>Generalisation3</th>\n    </tr>\n  </thead>\n  <tbody>\n    <tr>\n      <th>1485</th>\n      <td>1405047474310553601</td>\n      <td>Nein, nicht in einen Tiopf. Die Mitesser-NGO G...</td>\n      <td>16.06.2021 06:19</td>\n      <td>1.404880e+18</td>\n      <td>Ich werte das als impulsgetiebene Antwort. Bit...</td>\n      <td>Jeder Mensch mit klarem Verstand erkennt bei d...</td>\n      <td>1.0</td>\n      <td>0.0</td>\n      <td>1.0</td>\n      <td>1.0</td>\n      <td>1</td>\n      <td>0</td>\n      <td>0</td>\n      <td>0</td>\n    </tr>\n    <tr>\n      <th>1487</th>\n      <td>1393517517927223301</td>\n      <td>Ääähm... da müsste man halt jetzt wissen, dass...</td>\n      <td>15.05.2021 10:44</td>\n      <td>1.393101e+18</td>\n      <td>100%. Ich hoffe er schreibt es sich hinter sei...</td>\n      <td>Es ist immer wieder schön zu sehen und zu höre...</td>\n      <td>0.0</td>\n      <td>1.0</td>\n      <td>1.0</td>\n      <td>0.0</td>\n      <td>0</td>\n      <td>1</td>\n      <td>0</td>\n      <td>0</td>\n    </tr>\n    <tr>\n      <th>1492</th>\n      <td>1388783647403220994</td>\n      <td>Wer liest das? Mal ehrlich jetzt, wenn dieses ...</td>\n      <td>02.05.2021 09:13</td>\n      <td>1.388210e+18</td>\n      <td>Sie fragen, weshalb er ein Faschist sei. Ich b...</td>\n      <td>Dann sagen Sie es mir?</td>\n      <td>1.0</td>\n      <td>0.0</td>\n      <td>1.0</td>\n      <td>1.0</td>\n      <td>0</td>\n      <td>1</td>\n      <td>0</td>\n      <td>0</td>\n    </tr>\n    <tr>\n      <th>1493</th>\n      <td>1387373196916281344</td>\n      <td>Im Gegensatz etwa zum \"Flügel\" der AfD damals....</td>\n      <td>28.04.2021 11:48</td>\n      <td>1.387325e+18</td>\n      <td>Jetzt wird's aber sehr beliebig. Sind denn der...</td>\n      <td>Das negieren des staatlichen Gewaltmonopols is...</td>\n      <td>0.0</td>\n      <td>1.0</td>\n      <td>1.0</td>\n      <td>1.0</td>\n      <td>1</td>\n      <td>0</td>\n      <td>0</td>\n      <td>0</td>\n    </tr>\n    <tr>\n      <th>1505</th>\n      <td>1404378018928267264</td>\n      <td>Biergarten ist gesellschaftlich notwendiger, g...</td>\n      <td>14.06.2021 09:59</td>\n      <td>1.403864e+18</td>\n      <td>Du scheinst dich sehr auf Herrn Reitschuster e...</td>\n      <td>Dafür hattet ihr ne Ausgangssperre 😉</td>\n      <td>0.0</td>\n      <td>1.0</td>\n      <td>1.0</td>\n      <td>1.0</td>\n      <td>0</td>\n      <td>0</td>\n      <td>1</td>\n      <td>0</td>\n    </tr>\n    <tr>\n      <th>1526</th>\n      <td>1405544796559601673</td>\n      <td>ich sage nicht dass wissenschaft gekauft ist. ...</td>\n      <td>17.06.2021 15:16</td>\n      <td>1.404880e+18</td>\n      <td>das problem ist dass die industrielle landwirt...</td>\n      <td>Warum ist es \"das Übel\"? Mit vorindustriellen ...</td>\n      <td>0.0</td>\n      <td>1.0</td>\n      <td>1.0</td>\n      <td>1.0</td>\n      <td>0</td>\n      <td>1</td>\n      <td>0</td>\n      <td>0</td>\n    </tr>\n    <tr>\n      <th>1529</th>\n      <td>1387505263159218179</td>\n      <td>Corona gibt es sehr wohl, aber wo stecken sich...</td>\n      <td>28.04.2021 20:33</td>\n      <td>1.387325e+18</td>\n      <td>Ja, aber genau das ist doch das Problem. Die L...</td>\n      <td>Ja aber warum müssen denn alle seit einem Jahr...</td>\n      <td>0.0</td>\n      <td>1.0</td>\n      <td>1.0</td>\n      <td>1.0</td>\n      <td>0</td>\n      <td>0</td>\n      <td>1</td>\n      <td>0</td>\n    </tr>\n    <tr>\n      <th>1545</th>\n      <td>1401594561835773957</td>\n      <td>Die brauen Rattenfänger bleiben außen vor und ...</td>\n      <td>06.06.2021 17:39</td>\n      <td>1.401583e+18</td>\n      <td>Jo, das stimmt. Aber dass die Bearbock Crew im...</td>\n      <td>Btw..wieviel hat die Afd verloren?</td>\n      <td>1.0</td>\n      <td>0.0</td>\n      <td>1.0</td>\n      <td>1.0</td>\n      <td>1</td>\n      <td>0</td>\n      <td>0</td>\n      <td>0</td>\n    </tr>\n    <tr>\n      <th>1556</th>\n      <td>1405219910960156675</td>\n      <td>Dann waren es wohl die falschen Medien..</td>\n      <td>16.06.2021 17:45</td>\n      <td>1.405213e+18</td>\n      <td>Meinen Sie verantwortungslose Eltern, die den ...</td>\n      <td>Welche sind denn die richtigen Medien?</td>\n      <td>0.0</td>\n      <td>0.0</td>\n      <td>1.0</td>\n      <td>1.0</td>\n      <td>0</td>\n      <td>1</td>\n      <td>0</td>\n      <td>0</td>\n    </tr>\n    <tr>\n      <th>1561</th>\n      <td>1394285068944818176</td>\n      <td>Aber das macht doch die Situation für Juden HI...</td>\n      <td>17.05.2021 13:33</td>\n      <td>1.393929e+18</td>\n      <td>Ja, aber nur auf dem Papier!</td>\n      <td>Ja, Deutsche auf dem \"Papier\"!</td>\n      <td>0.0</td>\n      <td>0.0</td>\n      <td>1.0</td>\n      <td>1.0</td>\n      <td>0</td>\n      <td>0</td>\n      <td>1</td>\n      <td>0</td>\n    </tr>\n    <tr>\n      <th>1577</th>\n      <td>1405106839642062848</td>\n      <td>Wir übernehmen volle Verantwortung für diesen ...</td>\n      <td>16.06.2021 10:15</td>\n      <td>1.404880e+18</td>\n      <td>Die haben Tatsache beim Spiel nicht versucht u...</td>\n      <td>Fakt ist aber dass die aktion: - illegal ist -...</td>\n      <td>0.0</td>\n      <td>1.0</td>\n      <td>1.0</td>\n      <td>1.0</td>\n      <td>1</td>\n      <td>0</td>\n      <td>0</td>\n      <td>0</td>\n    </tr>\n    <tr>\n      <th>1624</th>\n      <td>1403073727332560902</td>\n      <td>Im gegensatz zu dir tue ich das. und für die c...</td>\n      <td>10.06.2021 19:36</td>\n      <td>1.401583e+18</td>\n      <td>... wieder Quatsch ... aber Querdenker leben j...</td>\n      <td>wer zu solchen worten greift, kehrt besser vor...</td>\n      <td>1.0</td>\n      <td>0.0</td>\n      <td>1.0</td>\n      <td>1.0</td>\n      <td>0</td>\n      <td>1</td>\n      <td>0</td>\n      <td>0</td>\n    </tr>\n    <tr>\n      <th>1689</th>\n      <td>1406556368241369090</td>\n      <td>Was hat dann Bandenwerbung im Sport verloren? ...</td>\n      <td>20.06.2021 10:15</td>\n      <td>1.406508e+18</td>\n      <td>Ihre Drogen würde ich auch gerne nehmen😂😂 Also...</td>\n      <td>Wie dumm ist Ihre Aussage bitte!? 🤦🤦</td>\n      <td>1.0</td>\n      <td>0.0</td>\n      <td>1.0</td>\n      <td>0.0</td>\n      <td>0</td>\n      <td>1</td>\n      <td>0</td>\n      <td>0</td>\n    </tr>\n    <tr>\n      <th>1722</th>\n      <td>1384598185356767235</td>\n      <td>Wer die Grünen wählt, hat die Kontrolle über s...</td>\n      <td>20.04.2021 20:01</td>\n      <td>1.384598e+18</td>\n      <td>Und wer die AfD wählt hat die Kontrolle über s...</td>\n      <td>Es gibt nichts besseres als die AfD. Alles Men...</td>\n      <td>0.0</td>\n      <td>0.0</td>\n      <td>1.0</td>\n      <td>1.0</td>\n      <td>0</td>\n      <td>1</td>\n      <td>0</td>\n      <td>0</td>\n    </tr>\n    <tr>\n      <th>1733</th>\n      <td>1398590532167864320</td>\n      <td>So ein Blödsinn. Fühlt ihr euch frei? Frei von...</td>\n      <td>29.05.2021 10:42</td>\n      <td>1.398384e+18</td>\n      <td>Freizeit ist vor allem Selbstbestimmung und di...</td>\n      <td>Erkläre mir mal, weshalb ich nicht frei bin. W...</td>\n      <td>1.0</td>\n      <td>0.0</td>\n      <td>1.0</td>\n      <td>1.0</td>\n      <td>0</td>\n      <td>1</td>\n      <td>0</td>\n      <td>0</td>\n    </tr>\n  </tbody>\n</table>\n</div>"
     },
     "execution_count": 5,
     "metadata": {},
     "output_type": "execute_result"
    }
   ],
   "source": [
    "sample_data.head(15)"
   ],
   "metadata": {
    "collapsed": false,
    "ExecuteTime": {
     "end_time": "2024-04-27T14:00:51.527304200Z",
     "start_time": "2024-04-27T14:00:51.475304500Z"
    }
   },
   "id": "de7cb29d3e6249d9",
   "execution_count": 5
  },
  {
   "cell_type": "markdown",
   "source": [
    "## Prepare data structure"
   ],
   "metadata": {
    "collapsed": false
   },
   "id": "7210ac371a7d7f9d"
  },
  {
   "cell_type": "code",
   "outputs": [],
   "source": [
    "data.drop(labels=['c_id', 'date', 'conv_id'], axis=1, inplace=True)"
   ],
   "metadata": {
    "collapsed": false,
    "ExecuteTime": {
     "end_time": "2024-04-27T14:00:51.587303800Z",
     "start_time": "2024-04-27T14:00:51.492307300Z"
    }
   },
   "id": "64a2e61fbac700ff",
   "execution_count": 6
  },
  {
   "cell_type": "code",
   "outputs": [
    {
     "data": {
      "text/plain": "                                              c_text reaction1 reaction2  \\\n0  Wer so ein Profilbild wie sie hochlädt kann nu...       NaN       NaN   \n1  Willst du jetzt etwa behaupten das Querdenker ...       NaN       NaN   \n2  Aber Bild hat doch gerade deswegen und diesbez...       NaN       NaN   \n3  Das sehe ich auch genau so. Dieser Brinkhaus i...       NaN       NaN   \n4  Mit den Milliarden Unterstützungsgeldern die s...       NaN       NaN   \n\n   Ambiguous  Objective  Subjective  Disputed  Generalisation0  \\\n0        0.0        0.0         1.0       0.0                0   \n1        1.0        0.0         1.0       0.0                0   \n2        0.0        1.0         1.0       0.0                0   \n3        1.0        0.0         1.0       0.0                1   \n4        0.0        0.0         1.0       0.0                0   \n\n   Generalisation1  Generalisation2  Generalisation3  \n0                0                0                1  \n1                0                0                1  \n2                1                0                0  \n3                0                0                0  \n4                0                1                0  ",
      "text/html": "<div>\n<style scoped>\n    .dataframe tbody tr th:only-of-type {\n        vertical-align: middle;\n    }\n\n    .dataframe tbody tr th {\n        vertical-align: top;\n    }\n\n    .dataframe thead th {\n        text-align: right;\n    }\n</style>\n<table border=\"1\" class=\"dataframe\">\n  <thead>\n    <tr style=\"text-align: right;\">\n      <th></th>\n      <th>c_text</th>\n      <th>reaction1</th>\n      <th>reaction2</th>\n      <th>Ambiguous</th>\n      <th>Objective</th>\n      <th>Subjective</th>\n      <th>Disputed</th>\n      <th>Generalisation0</th>\n      <th>Generalisation1</th>\n      <th>Generalisation2</th>\n      <th>Generalisation3</th>\n    </tr>\n  </thead>\n  <tbody>\n    <tr>\n      <th>0</th>\n      <td>Wer so ein Profilbild wie sie hochlädt kann nu...</td>\n      <td>NaN</td>\n      <td>NaN</td>\n      <td>0.0</td>\n      <td>0.0</td>\n      <td>1.0</td>\n      <td>0.0</td>\n      <td>0</td>\n      <td>0</td>\n      <td>0</td>\n      <td>1</td>\n    </tr>\n    <tr>\n      <th>1</th>\n      <td>Willst du jetzt etwa behaupten das Querdenker ...</td>\n      <td>NaN</td>\n      <td>NaN</td>\n      <td>1.0</td>\n      <td>0.0</td>\n      <td>1.0</td>\n      <td>0.0</td>\n      <td>0</td>\n      <td>0</td>\n      <td>0</td>\n      <td>1</td>\n    </tr>\n    <tr>\n      <th>2</th>\n      <td>Aber Bild hat doch gerade deswegen und diesbez...</td>\n      <td>NaN</td>\n      <td>NaN</td>\n      <td>0.0</td>\n      <td>1.0</td>\n      <td>1.0</td>\n      <td>0.0</td>\n      <td>0</td>\n      <td>1</td>\n      <td>0</td>\n      <td>0</td>\n    </tr>\n    <tr>\n      <th>3</th>\n      <td>Das sehe ich auch genau so. Dieser Brinkhaus i...</td>\n      <td>NaN</td>\n      <td>NaN</td>\n      <td>1.0</td>\n      <td>0.0</td>\n      <td>1.0</td>\n      <td>0.0</td>\n      <td>1</td>\n      <td>0</td>\n      <td>0</td>\n      <td>0</td>\n    </tr>\n    <tr>\n      <th>4</th>\n      <td>Mit den Milliarden Unterstützungsgeldern die s...</td>\n      <td>NaN</td>\n      <td>NaN</td>\n      <td>0.0</td>\n      <td>0.0</td>\n      <td>1.0</td>\n      <td>0.0</td>\n      <td>0</td>\n      <td>0</td>\n      <td>1</td>\n      <td>0</td>\n    </tr>\n  </tbody>\n</table>\n</div>"
     },
     "execution_count": 7,
     "metadata": {},
     "output_type": "execute_result"
    }
   ],
   "source": [
    "data.head()"
   ],
   "metadata": {
    "collapsed": false,
    "ExecuteTime": {
     "end_time": "2024-04-27T14:00:51.680304500Z",
     "start_time": "2024-04-27T14:00:51.506303400Z"
    }
   },
   "id": "521a979d09eab60f",
   "execution_count": 7
  },
  {
   "cell_type": "markdown",
   "source": [
    "# Process the data"
   ],
   "metadata": {
    "collapsed": false
   },
   "id": "5ba42cb29e4cdfbe"
  },
  {
   "cell_type": "code",
   "outputs": [],
   "source": [
    "target_list = ['Generalisation0', 'Generalisation1', 'Generalisation2', 'Generalisation3', 'Ambiguous', 'Objective', 'Subjective', 'Disputed']"
   ],
   "metadata": {
    "collapsed": false,
    "ExecuteTime": {
     "end_time": "2024-04-27T14:00:51.681303200Z",
     "start_time": "2024-04-27T14:00:51.537305400Z"
    }
   },
   "id": "1422dbc9d69f6b84",
   "execution_count": 8
  },
  {
   "cell_type": "code",
   "outputs": [],
   "source": [
    "MAX_LEN = 256\n",
    "TRAIN_BATCH_SIZE = 64\n",
    "VALID_BATCH_SIZE = 64\n",
    "EPOCHS = 4\n",
    "LEARNING_RATE = 5e-5"
   ],
   "metadata": {
    "collapsed": false,
    "ExecuteTime": {
     "end_time": "2024-04-27T14:00:51.740303600Z",
     "start_time": "2024-04-27T14:00:51.554307500Z"
    }
   },
   "id": "387a20c9131d19a6",
   "execution_count": 9
  },
  {
   "cell_type": "code",
   "outputs": [],
   "source": [
    "tokenizer = DistilBertTokenizer.from_pretrained(\"distilbert-base-multilingual-cased\")\n",
    "\n",
    "def get_encodings(text, reaction1, reaction2):\n",
    "    text = str(text)\n",
    "    text = \" \".join(text.split())\n",
    "    \n",
    "    reaction1 = str(reaction1)\n",
    "    reaction1 = \" \".join(reaction1.split())\n",
    "    \n",
    "    reaction2 = str(reaction2)\n",
    "    reaction2 = \" \".join(reaction2.split())\n",
    "    \n",
    "    encodings = tokenizer.__call__(\n",
    "            text + ' [SEP] ' + reaction1 + ' ' + reaction2, \n",
    "            add_special_tokens=True,\n",
    "            max_length=MAX_LEN,\n",
    "            padding='max_length',\n",
    "            truncation=True,\n",
    "            return_attention_mask=True,\n",
    "            return_token_type_ids=True,\n",
    "            return_tensors='pt'\n",
    "        )\n",
    "    \n",
    "    return encodings['input_ids'], encodings['attention_mask'], encodings['token_type_ids']"
   ],
   "metadata": {
    "collapsed": false,
    "ExecuteTime": {
     "end_time": "2024-04-27T14:00:52.394303600Z",
     "start_time": "2024-04-27T14:00:51.573303900Z"
    }
   },
   "id": "c75a413702e0692a",
   "execution_count": 10
  },
  {
   "cell_type": "code",
   "outputs": [],
   "source": [
    "class CustomDataset (torch.utils.data.Dataset):\n",
    "    def __init__(self, df, tokenizer, max_len):\n",
    "        self.df = df\n",
    "        self.tokenizer = tokenizer\n",
    "        self.max_len = max_len\n",
    "        self.title = self.df['c_text']\n",
    "        self.reaction1 = self.df['reaction1']\n",
    "        self.reaction2 = self.df['reaction2']\n",
    "        self.targets = self.df[target_list].values\n",
    "        \n",
    "    def __len__(self):\n",
    "        return len(self.title)\n",
    "    \n",
    "    def __getitem__(self, index):        \n",
    "        input_ids, attention_mask, token_type_ids = get_encodings(self.title[index], self.reaction1[index], self.reaction2[index])\n",
    "        \n",
    "        return {\n",
    "            'input_ids': input_ids.flatten(),\n",
    "            'attention_mask': attention_mask.flatten(),\n",
    "            'token_type_ids': token_type_ids.flatten(),\n",
    "            'targets': torch.tensor(self.targets[index], dtype=torch.float)\n",
    "        }"
   ],
   "metadata": {
    "collapsed": false,
    "ExecuteTime": {
     "end_time": "2024-04-27T14:00:52.395305Z",
     "start_time": "2024-04-27T14:00:52.370305400Z"
    }
   },
   "id": "19838c24cd78475a",
   "execution_count": 11
  },
  {
   "cell_type": "markdown",
   "source": [
    "# Generate the dataset"
   ],
   "metadata": {
    "collapsed": false
   },
   "id": "c0cce338ae2f8979"
  },
  {
   "cell_type": "code",
   "outputs": [
    {
     "name": "stdout",
     "output_type": "stream",
     "text": [
      "(2373, 11)\n",
      "train_data (1661, 11)\n",
      "validation_data (470, 11)\n",
      "test_data (242, 11)\n"
     ]
    }
   ],
   "source": [
    "train_size = 0.7\n",
    "val_size = 0.66 # (Two thirds of the remaining 30%)\n",
    "\n",
    "print(data.shape)\n",
    "train_data = data.sample(frac=train_size, random_state=200)\n",
    "non_training_data = data.drop(train_data.index)\n",
    "validation_data = non_training_data.sample(frac=val_size, random_state=200)\n",
    "test_data = non_training_data.drop(validation_data.index)\n",
    "\n",
    "train_data = train_data.reset_index(drop=True)\n",
    "validation_data = validation_data.reset_index(drop=True)\n",
    "test_data = test_data.reset_index(drop=True)\n",
    "\n",
    "print('train_data', train_data.shape)\n",
    "print('validation_data', validation_data.shape)\n",
    "print('test_data', test_data.shape)"
   ],
   "metadata": {
    "collapsed": false,
    "ExecuteTime": {
     "end_time": "2024-04-27T14:00:52.433304300Z",
     "start_time": "2024-04-27T14:00:52.380305Z"
    }
   },
   "id": "f6dc9c521b03eb81",
   "execution_count": 12
  },
  {
   "cell_type": "code",
   "outputs": [],
   "source": [
    "train_data = CustomDataset(train_data, tokenizer, MAX_LEN)\n",
    "validation_data = CustomDataset(validation_data, tokenizer, MAX_LEN)"
   ],
   "metadata": {
    "collapsed": false,
    "ExecuteTime": {
     "end_time": "2024-04-27T14:00:52.436308300Z",
     "start_time": "2024-04-27T14:00:52.396308600Z"
    }
   },
   "id": "c98ceceb0f1dec9c",
   "execution_count": 13
  },
  {
   "cell_type": "code",
   "outputs": [],
   "source": [
    "train_data_loader = torch.utils.data.DataLoader(train_data, batch_size=TRAIN_BATCH_SIZE, shuffle=True, num_workers=0)\n",
    "validation_data_loader = torch.utils.data.DataLoader(validation_data, batch_size=VALID_BATCH_SIZE, shuffle=False, num_workers=0)"
   ],
   "metadata": {
    "collapsed": false,
    "ExecuteTime": {
     "end_time": "2024-04-27T14:00:52.466307300Z",
     "start_time": "2024-04-27T14:00:52.412306100Z"
    }
   },
   "id": "47978d8dfe1ea61e",
   "execution_count": 14
  },
  {
   "cell_type": "markdown",
   "source": [
    "# Create model"
   ],
   "metadata": {
    "collapsed": false
   },
   "id": "d13e73dda01415c4"
  },
  {
   "cell_type": "code",
   "outputs": [
    {
     "name": "stdout",
     "output_type": "stream",
     "text": [
      "cuda\n"
     ]
    }
   ],
   "source": [
    "device = torch.device(\"cuda\" if torch.cuda.is_available() else \"cpu\")\n",
    "print(device)"
   ],
   "metadata": {
    "collapsed": false,
    "ExecuteTime": {
     "end_time": "2024-04-27T14:00:52.469306Z",
     "start_time": "2024-04-27T14:00:52.426305Z"
    }
   },
   "id": "ef570748a9fcbd15",
   "execution_count": 15
  },
  {
   "cell_type": "code",
   "outputs": [],
   "source": [
    "def load_checkpoint(filepath, model, optimizer):\n",
    "    checkpoint = torch.load(filepath)\n",
    "    model.load_state_dict(checkpoint['state_dict'])\n",
    "    optimizer.load_state_dict(checkpoint['optimizer'])\n",
    "    valid_f1_score_weight = checkpoint['valid_f1_score_weight']\n",
    "    \n",
    "    print(f'Loaded model with the weighted F1-Score of: {valid_f1_score_weight} and epoch: {checkpoint[\"epoch\"]}')\n",
    "    \n",
    "    return model, optimizer, checkpoint['epoch'], valid_f1_score_weight"
   ],
   "metadata": {
    "collapsed": false,
    "ExecuteTime": {
     "end_time": "2024-04-27T14:00:52.495303500Z",
     "start_time": "2024-04-27T14:00:52.460305800Z"
    }
   },
   "id": "baf1ebf16817107c",
   "execution_count": 16
  },
  {
   "cell_type": "code",
   "outputs": [],
   "source": [
    "def save_checkpoint(state, is_best, file_path, best_model_path):\n",
    "    torch.save(state, file_path)\n",
    "    if is_best:\n",
    "        shutil.copy(file_path, best_model_path)"
   ],
   "metadata": {
    "collapsed": false,
    "ExecuteTime": {
     "end_time": "2024-04-27T14:00:52.514303300Z",
     "start_time": "2024-04-27T14:00:52.475306200Z"
    }
   },
   "id": "cbf72a1ad72fb292",
   "execution_count": 17
  },
  {
   "cell_type": "code",
   "outputs": [],
   "source": [
    "class BERTClass(torch.nn.Module):\n",
    "    def __init__(self):\n",
    "        super(BERTClass, self).__init__()\n",
    "        self.l1 = DistilBertModel.from_pretrained(\"distilbert-base-multilingual-cased\")\n",
    "        self.pre_classifier = torch.nn.Linear(768, 768)\n",
    "        self.dropout = torch.nn.Dropout(0.3)\n",
    "        self.classifier = torch.nn.Linear(768, 8)\n",
    "        self.sigmoid = torch.nn.Sigmoid()\n",
    "        \n",
    "    def forward(self, input_ids, attention_mask, token_type_ids):\n",
    "        output_1 = self.l1(input_ids=input_ids, attention_mask=attention_mask)\n",
    "        hidden_state = output_1[0]\n",
    "        pooler = hidden_state[:, 0]\n",
    "        pooler = self.pre_classifier(pooler)\n",
    "        pooler = self.dropout(pooler)\n",
    "        pooler = self.classifier(pooler)\n",
    "        output = self.sigmoid(pooler)\n",
    "        \n",
    "        return output"
   ],
   "metadata": {
    "collapsed": false,
    "ExecuteTime": {
     "end_time": "2024-04-27T14:00:52.516303900Z",
     "start_time": "2024-04-27T14:00:52.497306100Z"
    }
   },
   "id": "7fccbde71b8662c5",
   "execution_count": 18
  },
  {
   "cell_type": "code",
   "outputs": [
    {
     "data": {
      "text/plain": "BERTClass(\n  (l1): DistilBertModel(\n    (embeddings): Embeddings(\n      (word_embeddings): Embedding(119547, 768, padding_idx=0)\n      (position_embeddings): Embedding(512, 768)\n      (LayerNorm): LayerNorm((768,), eps=1e-12, elementwise_affine=True)\n      (dropout): Dropout(p=0.1, inplace=False)\n    )\n    (transformer): Transformer(\n      (layer): ModuleList(\n        (0-5): 6 x TransformerBlock(\n          (attention): MultiHeadSelfAttention(\n            (dropout): Dropout(p=0.1, inplace=False)\n            (q_lin): Linear(in_features=768, out_features=768, bias=True)\n            (k_lin): Linear(in_features=768, out_features=768, bias=True)\n            (v_lin): Linear(in_features=768, out_features=768, bias=True)\n            (out_lin): Linear(in_features=768, out_features=768, bias=True)\n          )\n          (sa_layer_norm): LayerNorm((768,), eps=1e-12, elementwise_affine=True)\n          (ffn): FFN(\n            (dropout): Dropout(p=0.1, inplace=False)\n            (lin1): Linear(in_features=768, out_features=3072, bias=True)\n            (lin2): Linear(in_features=3072, out_features=768, bias=True)\n            (activation): GELUActivation()\n          )\n          (output_layer_norm): LayerNorm((768,), eps=1e-12, elementwise_affine=True)\n        )\n      )\n    )\n  )\n  (pre_classifier): Linear(in_features=768, out_features=768, bias=True)\n  (dropout): Dropout(p=0.3, inplace=False)\n  (classifier): Linear(in_features=768, out_features=8, bias=True)\n  (sigmoid): Sigmoid()\n)"
     },
     "execution_count": 19,
     "metadata": {},
     "output_type": "execute_result"
    }
   ],
   "source": [
    "model = BERTClass()\n",
    "model.to(device)"
   ],
   "metadata": {
    "collapsed": false,
    "ExecuteTime": {
     "end_time": "2024-04-27T14:00:55.108349400Z",
     "start_time": "2024-04-27T14:00:52.507309300Z"
    }
   },
   "id": "ee90deb2bcb98ceb",
   "execution_count": 19
  },
  {
   "cell_type": "code",
   "outputs": [
    {
     "name": "stdout",
     "output_type": "stream",
     "text": [
      "tensor([ 0.5086,  3.8727,  8.7254, 34.4179,  3.8627,  3.9232,  0.1824,  2.4642],\n",
      "       device='cuda:0')\n"
     ]
    }
   ],
   "source": [
    "pos_weights = []\n",
    "for target in target_list:\n",
    "    num_positive = (data[target] == 1).sum()\n",
    "    num_negative = len(data[target]) - num_positive\n",
    "    pos_weights.append(num_negative/num_positive)\n",
    "\n",
    "pos_weights = torch.Tensor(pos_weights).to(device)\n",
    "print(pos_weights)"
   ],
   "metadata": {
    "collapsed": false,
    "ExecuteTime": {
     "end_time": "2024-04-27T14:00:55.184348300Z",
     "start_time": "2024-04-27T14:00:55.107346800Z"
    }
   },
   "id": "ce93bba7310ff78e",
   "execution_count": 20
  },
  {
   "cell_type": "code",
   "outputs": [],
   "source": [
    "def loss_function(output, target):\n",
    "    return torch.nn.BCEWithLogitsLoss(pos_weight=pos_weights)(output, target)\n",
    "\n",
    "def metrics_function(output, target):\n",
    "    metNone = MultilabelStatScores(num_labels=8, average='none', threshold=0.5).to(device)\n",
    "    metMicro = MultilabelStatScores(num_labels=8, average='micro', threshold=0.5).to(device)\n",
    "    metMacro = MultilabelStatScores(num_labels=8, average='macro', threshold=0.5).to(device)\n",
    "    metWeighted = MultilabelStatScores(num_labels=8, average='weighted', threshold=0.5).to(device)\n",
    "    output_text = f'Metrics [TP, FP, TN, FN, SUP]: \\tNone: {metNone(output, target)} \\tMicro: {metMicro(output, target)} \\tMacro: {metMacro(output, target)} \\tWeighted: {metWeighted(output, target)}'\n",
    "    \n",
    "    del metNone, metMicro, metMacro, metWeighted\n",
    "    torch.cuda.empty_cache()\n",
    "    \n",
    "    return output_text\n",
    "\n",
    "def accuracy_function(output, target):\n",
    "    mlaNone = MultilabelAccuracy(num_labels=8, average='none', threshold=0.5).to(device)\n",
    "    mlaMicro = MultilabelAccuracy(num_labels=8, average='micro', threshold=0.5).to(device)\n",
    "    mlaMacro = MultilabelAccuracy(num_labels=8, average='macro', threshold=0.5).to(device)\n",
    "    mlaWeighted = MultilabelAccuracy(num_labels=8, average='weighted', threshold=0.5).to(device)\n",
    "    output_text = f'Accuracy: \\tNone: {mlaNone(output, target)} \\tMicro: {mlaMicro(output, target)} \\tMacro: {mlaMacro(output, target)} \\tWeighted: {mlaWeighted(output, target)}'\n",
    "    \n",
    "    del mlaNone, mlaMicro, mlaMacro, mlaWeighted\n",
    "    torch.cuda.empty_cache()\n",
    "    \n",
    "    return output_text\n",
    "\n",
    "def f1_score_function(output, target):    \n",
    "    mlf1None = MultilabelF1Score(num_labels=8, average='none', threshold=0.5).to(device)\n",
    "    mlf1Micro = MultilabelF1Score(num_labels=8, average='micro', threshold=0.5).to(device)\n",
    "    mlf1Macro = MultilabelF1Score(num_labels=8, average='macro', threshold=0.5).to(device)\n",
    "    mlf1Weighted = MultilabelF1Score(num_labels=8, average='weighted', threshold=0.5).to(device)\n",
    "    \n",
    "    mlf1WeightedValue = mlf1Weighted(output, target)\n",
    "    mlf1WeightedValue = mlf1WeightedValue.item()\n",
    "    \n",
    "    output_text = f'F1 Score: \\tNone: {mlf1None(output, target)} \\tMicro: {mlf1Micro(output, target)} \\tMacro: {mlf1Macro(output, target)} \\tWeighted: {mlf1WeightedValue}'\n",
    "    \n",
    "    del mlf1None, mlf1Micro, mlf1Macro\n",
    "    torch.cuda.empty_cache()\n",
    "    \n",
    "    return output_text, mlf1WeightedValue\n",
    "\n",
    "optimizer = torch.optim.Adam(params=model.parameters(), lr=LEARNING_RATE)"
   ],
   "metadata": {
    "collapsed": false,
    "ExecuteTime": {
     "end_time": "2024-04-27T14:00:55.916351900Z",
     "start_time": "2024-04-27T14:00:55.174349500Z"
    }
   },
   "id": "5c65abe9e8d153af",
   "execution_count": 21
  },
  {
   "cell_type": "code",
   "outputs": [],
   "source": [
    "train_loss = []\n",
    "train_loss_epoch = []\n",
    "valid_loss = []\n",
    "valid_loss_epoch = []"
   ],
   "metadata": {
    "collapsed": false,
    "ExecuteTime": {
     "end_time": "2024-04-27T14:00:55.934348300Z",
     "start_time": "2024-04-27T14:00:55.917348300Z"
    }
   },
   "id": "3a800df2570f167c",
   "execution_count": 22
  },
  {
   "cell_type": "code",
   "outputs": [],
   "source": [
    "def train_model(n_epochs, training_loader, validation_loader, model, optimizer, checkpoint_path, best_model_path):\n",
    "    valid_f1_score_best = 0.0\n",
    "    model_start_time = timer()\n",
    "    for epoch in range(1, n_epochs+1):\n",
    "        epoch_start_time = timer()\n",
    "        \n",
    "        # Training Loop\n",
    "        model.train()\n",
    "        \n",
    "        train_output = torch.Tensor().to(device)\n",
    "        train_target = torch.Tensor().to(device)\n",
    "        \n",
    "        train_loss_epoch_batches = []\n",
    "        \n",
    "        for index, batch in enumerate(training_loader, 0):\n",
    "            input_ids = batch['input_ids'].to(device, dtype=torch.long)\n",
    "            attention_mask = batch['attention_mask'].to(device, dtype=torch.long)\n",
    "            token_type_ids = batch['token_type_ids'].to(device, dtype=torch.long)\n",
    "            targets = batch['targets'].to(device, dtype=torch.float)\n",
    "            \n",
    "            outputs = model(input_ids, attention_mask, token_type_ids)\n",
    "            \n",
    "            del input_ids, attention_mask, token_type_ids\n",
    "            torch.cuda.empty_cache()\n",
    "            \n",
    "            loss = loss_function(outputs, targets)\n",
    "            train_loss.append(loss.item())\n",
    "            train_loss_epoch_batches.append(loss.item())\n",
    "            optimizer.zero_grad()\n",
    "            loss.backward()\n",
    "            optimizer.step()\n",
    "            \n",
    "            train_output = torch.cat((train_output, outputs), dim=0)\n",
    "            train_target = torch.cat((train_target, targets), dim=0)\n",
    "        \n",
    "        train_metrics = metrics_function(train_output, train_target)\n",
    "        train_accuracy = accuracy_function(train_output, train_target)\n",
    "        train_f1_score, train_f1_score_weight = f1_score_function(train_output, train_target)\n",
    "            \n",
    "        del train_output, train_target\n",
    "        torch.cuda.empty_cache()\n",
    "        \n",
    "        # Validation Loop\n",
    "        model.eval()\n",
    "        \n",
    "        validation_output = torch.Tensor().to(device)\n",
    "        validation_target = torch.Tensor().to(device)\n",
    "        \n",
    "        with torch.no_grad():\n",
    "            \n",
    "            valid_loss_epoch_batches = []\n",
    "            \n",
    "            for index, batch in enumerate(validation_loader, 0):\n",
    "                input_ids = batch['input_ids'].to(device, dtype=torch.long)\n",
    "                attention_mask = batch['attention_mask'].to(device, dtype=torch.long)\n",
    "                token_type_ids = batch['token_type_ids'].to(device, dtype=torch.long)\n",
    "                targets = batch['targets'].to(device, dtype=torch.float)\n",
    "                \n",
    "                outputs = model(input_ids, attention_mask, token_type_ids)\n",
    "                \n",
    "                loss = loss_function(outputs, targets)\n",
    "                valid_loss.append(loss.item())\n",
    "                valid_loss_epoch_batches.append(loss.item())\n",
    "                \n",
    "                del input_ids, attention_mask, token_type_ids\n",
    "                torch.cuda.empty_cache()\n",
    "                \n",
    "                validation_output = torch.cat((validation_output, outputs), dim=0)\n",
    "                validation_target = torch.cat((validation_target, targets), dim=0)\n",
    "        \n",
    "        valid_metrics = metrics_function(validation_output, validation_target)\n",
    "        valid_accuracy = accuracy_function(validation_output, validation_target)\n",
    "        valid_f1_score, valid_f1_score_weight = f1_score_function(validation_output, validation_target)\n",
    "\n",
    "        checkpoint = {\n",
    "            'epoch': epoch,\n",
    "            'valid_f1_score_weight': valid_f1_score_weight,\n",
    "            'state_dict': model.state_dict(),\n",
    "            'optimizer': optimizer.state_dict()\n",
    "        }\n",
    "        \n",
    "        if valid_f1_score_weight > valid_f1_score_best:\n",
    "            valid_f1_score_best = valid_f1_score_weight\n",
    "            save_checkpoint(checkpoint, True, checkpoint_path, best_model_path)\n",
    "        else:\n",
    "            save_checkpoint(checkpoint, False, checkpoint_path, best_model_path)\n",
    "        \n",
    "        print(f'\\n\\nEpoch: {epoch} \\tTime: {int(timer()-epoch_start_time)}s')\n",
    "        print(f'\\tTraining: \\n\\t\\t{train_metrics} \\n\\t\\t{train_accuracy} \\n\\t\\t{train_f1_score}')\n",
    "        print(f'\\tValidation: \\n\\t\\t{valid_metrics} \\n\\t\\t{valid_accuracy} \\n\\t\\t{valid_f1_score}')\n",
    "        \n",
    "        train_loss_epoch.append(np.mean(train_loss_epoch_batches))\n",
    "        valid_loss_epoch.append(np.mean(valid_loss_epoch_batches))\n",
    "        \n",
    "        del valid_metrics, valid_accuracy, valid_f1_score, train_metrics, train_accuracy, train_f1_score\n",
    "        torch.cuda.empty_cache()\n",
    "        \n",
    "    print(f'\\n\\nTraining time: {int(timer()-model_start_time)}s')\n",
    "    return model"
   ],
   "metadata": {
    "collapsed": false,
    "ExecuteTime": {
     "end_time": "2024-04-27T14:00:55.962349400Z",
     "start_time": "2024-04-27T14:00:55.944349100Z"
    }
   },
   "id": "40390e5e2ca36958",
   "execution_count": 23
  },
  {
   "cell_type": "markdown",
   "source": [
    "# Train and evaluate"
   ],
   "metadata": {
    "collapsed": false
   },
   "id": "e6661621cfb8ea3f"
  },
  {
   "cell_type": "code",
   "outputs": [],
   "source": [
    "CHECKPOINT_PATH = './model/checkpoint.pth'\n",
    "BEST_MODEL_PATH = './model/best_model.pth'"
   ],
   "metadata": {
    "collapsed": false,
    "ExecuteTime": {
     "end_time": "2024-04-27T14:00:55.964348300Z",
     "start_time": "2024-04-27T14:00:55.949351Z"
    }
   },
   "id": "ef67bbd5acbea362",
   "execution_count": 24
  },
  {
   "cell_type": "code",
   "outputs": [
    {
     "name": "stdout",
     "output_type": "stream",
     "text": [
      "\n",
      "\n",
      "Epoch: 1 \tTime: 46s\n",
      "\tTraining: \n",
      "\t\tMetrics [TP, FP, TN, FN, SUP]: \tNone: tensor([[   1,    0,  564, 1096, 1097],\n",
      "        [   7,   19, 1301,  334,  341],\n",
      "        [   3,   50, 1439,  169,  172],\n",
      "        [   4,  135, 1476,   46,   50],\n",
      "        [   0,    0, 1312,  349,  349],\n",
      "        [   0,   14, 1311,  336,  336],\n",
      "        [ 228,   41,  222, 1170, 1398],\n",
      "        [ 133,  197,  974,  357,  490]], device='cuda:0') \tMicro: tensor([ 376,  456, 8599, 3857, 4233], device='cuda:0') \tMacro: tensor([  47.0000,   57.0000, 1074.8750,  482.1250,  529.1250],\n",
      "       device='cuda:0') \tWeighted: tensor([ 91.6877,  42.6130, 725.1729, 801.5264, 893.2141], device='cuda:0') \n",
      "\t\tAccuracy: \tNone: tensor([0.3402, 0.7875, 0.8682, 0.8910, 0.7899, 0.7893, 0.2709, 0.6665],\n",
      "       device='cuda:0') \tMicro: 0.675421416759491 \tMacro: 0.675421416759491 \tWeighted: 0.49178844690322876 \n",
      "\t\tF1 Score: \tNone: tensor([0.0018, 0.0381, 0.0267, 0.0423, 0.0000, 0.0000, 0.2735, 0.3244],\n",
      "       device='cuda:0') \tMicro: 0.14846989512443542 \tMacro: 0.08836236596107483 \tWeighted: 0.1330207735300064\n",
      "\tValidation: \n",
      "\t\tMetrics [TP, FP, TN, FN, SUP]: \tNone: tensor([[  0,   0, 159, 311, 311],\n",
      "        [  0,   0, 370, 100, 100],\n",
      "        [  0,   0, 422,  48,  48],\n",
      "        [  0,   0, 459,  11,  11],\n",
      "        [  0,   0, 377,  93,  93],\n",
      "        [  0,   0, 372,  98,  98],\n",
      "        [  0,   0,  71, 399, 399],\n",
      "        [125, 174, 158,  13, 138]], device='cuda:0') \tMicro: tensor([ 125,  174, 2388, 1073, 1198], device='cuda:0') \tMacro: tensor([ 15.6250,  21.7500, 298.5000, 134.1250, 149.7500], device='cuda:0') \tWeighted: tensor([ 14.3990,  20.0434, 194.8280, 240.7295, 255.1285], device='cuda:0') \n",
      "\t\tAccuracy: \tNone: tensor([0.3383, 0.7872, 0.8979, 0.9766, 0.8021, 0.7915, 0.1511, 0.6021],\n",
      "       device='cuda:0') \tMicro: 0.6683510541915894 \tMacro: 0.6683510541915894 \tWeighted: 0.44516393542289734 \n",
      "\t\tF1 Score: \tNone: tensor([0.0000, 0.0000, 0.0000, 0.0000, 0.0000, 0.0000, 0.0000, 0.5721],\n",
      "       device='cuda:0') \tMicro: 0.1670006662607193 \tMacro: 0.07151030004024506 \tWeighted: 0.0658993124961853\n",
      "\n",
      "\n",
      "Epoch: 2 \tTime: 26s\n",
      "\tTraining: \n",
      "\t\tMetrics [TP, FP, TN, FN, SUP]: \tNone: tensor([[   0,    0,  564, 1097, 1097],\n",
      "        [   0,    0, 1320,  341,  341],\n",
      "        [  56,  198, 1291,  116,  172],\n",
      "        [  19,  311, 1300,   31,   50],\n",
      "        [  68,  174, 1138,  281,  349],\n",
      "        [  29,   92, 1233,  307,  336],\n",
      "        [  60,    6,  257, 1338, 1398],\n",
      "        [ 402,  430,  741,   88,  490]], device='cuda:0') \tMicro: tensor([ 634, 1211, 7844, 3599, 4233], device='cuda:0') \tMacro: tensor([ 79.2500, 151.3750, 980.5000, 449.8750, 529.1250], device='cuda:0') \tWeighted: tensor([ 76.7583,  85.1245, 682.6615, 816.4557, 893.2141], device='cuda:0') \n",
      "\t\tAccuracy: \tNone: tensor([0.3396, 0.7947, 0.8110, 0.7941, 0.7261, 0.7598, 0.1908, 0.6881],\n",
      "       device='cuda:0') \tMicro: 0.6380192637443542 \tMacro: 0.6380192637443542 \tWeighted: 0.4572063684463501 \n",
      "\t\tF1 Score: \tNone: tensor([0.0000, 0.0000, 0.2629, 0.1000, 0.2301, 0.1269, 0.0820, 0.6082],\n",
      "       device='cuda:0') \tMicro: 0.20862126350402832 \tMacro: 0.1762600690126419 \tWeighted: 0.13838140666484833\n",
      "\tValidation: \n",
      "\t\tMetrics [TP, FP, TN, FN, SUP]: \tNone: tensor([[  0,   0, 159, 311, 311],\n",
      "        [  0,   0, 370, 100, 100],\n",
      "        [  1,   3, 419,  47,  48],\n",
      "        [  1,  11, 448,  10,  11],\n",
      "        [  0,   0, 377,  93,  93],\n",
      "        [  0,   0, 372,  98,  98],\n",
      "        [  0,   0,  71, 399, 399],\n",
      "        [ 86,  98, 234,  52, 138]], device='cuda:0') \tMicro: tensor([  88,  112, 2450, 1110, 1198], device='cuda:0') \tMacro: tensor([ 11.0000,  14.0000, 306.2500, 138.7500, 149.7500], device='cuda:0') \tWeighted: tensor([  9.9558,  11.5100, 203.3614, 245.1728, 255.1285], device='cuda:0') \n",
      "\t\tAccuracy: \tNone: tensor([0.3383, 0.7872, 0.8936, 0.9553, 0.8021, 0.7915, 0.1511, 0.6809],\n",
      "       device='cuda:0') \tMicro: 0.675000011920929 \tMacro: 0.675000011920929 \tWeighted: 0.4538663625717163 \n",
      "\t\tF1 Score: \tNone: tensor([0.0000, 0.0000, 0.0385, 0.0870, 0.0000, 0.0000, 0.0000, 0.5342],\n",
      "       device='cuda:0') \tMicro: 0.12589412927627563 \tMacro: 0.08244744688272476 \tWeighted: 0.06387058645486832\n",
      "\n",
      "\n",
      "Epoch: 3 \tTime: 48s\n",
      "\tTraining: \n",
      "\t\tMetrics [TP, FP, TN, FN, SUP]: \tNone: tensor([[ 109,   17,  547,  988, 1097],\n",
      "        [  88,  187, 1133,  253,  341],\n",
      "        [  62,  183, 1306,  110,  172],\n",
      "        [  18,  248, 1363,   32,   50],\n",
      "        [  53,  127, 1185,  296,  349],\n",
      "        [ 136,  222, 1103,  200,  336],\n",
      "        [ 181,   13,  250, 1217, 1398],\n",
      "        [ 359,  288,  883,  131,  490]], device='cuda:0') \tMicro: tensor([1006, 1285, 7770, 3227, 4233], device='cuda:0') \tMacro: tensor([125.7500, 160.6250, 971.2500, 403.3750, 529.1250], device='cuda:0') \tWeighted: tensor([154.5679,  95.5589, 672.2270, 738.6461, 893.2141], device='cuda:0') \n",
      "\t\tAccuracy: \tNone: tensor([0.3949, 0.7351, 0.8236, 0.8314, 0.7453, 0.7459, 0.2595, 0.7477],\n",
      "       device='cuda:0') \tMicro: 0.660445511341095 \tMacro: 0.660445511341095 \tWeighted: 0.49776941537857056 \n",
      "\t\tF1 Score: \tNone: tensor([0.1783, 0.2857, 0.2974, 0.1139, 0.2004, 0.3919, 0.2274, 0.6315],\n",
      "       device='cuda:0') \tMicro: 0.3083997666835785 \tMacro: 0.2908041179180145 \tWeighted: 0.27846622467041016\n",
      "\tValidation: \n",
      "\t\tMetrics [TP, FP, TN, FN, SUP]: \tNone: tensor([[141,  31, 128, 170, 311],\n",
      "        [ 27,  55, 315,  73, 100],\n",
      "        [ 14,  72, 350,  34,  48],\n",
      "        [  6,  79, 380,   5,  11],\n",
      "        [ 23,  49, 328,  70,  93],\n",
      "        [ 34,  39, 333,  64,  98],\n",
      "        [120,  10,  61, 279, 399],\n",
      "        [ 73,  69, 263,  65, 138]], device='cuda:0') \tMicro: tensor([ 438,  404, 2158,  760, 1198], device='cuda:0') \tMacro: tensor([ 54.7500,  50.5000, 269.7500,  95.0000, 149.7500], device='cuda:0') \tWeighted: tensor([ 92.4157,  34.5217, 180.3497, 162.7128, 255.1285], device='cuda:0') \n",
      "\t\tAccuracy: \tNone: tensor([0.5723, 0.7277, 0.7745, 0.8213, 0.7468, 0.7809, 0.3851, 0.7149],\n",
      "       device='cuda:0') \tMicro: 0.6904255151748657 \tMacro: 0.6904255151748657 \tWeighted: 0.5803520083427429 \n",
      "\t\tF1 Score: \tNone: tensor([0.5839, 0.2967, 0.2090, 0.1250, 0.2788, 0.3977, 0.4537, 0.5214],\n",
      "       device='cuda:0') \tMicro: 0.42941176891326904 \tMacro: 0.3582591414451599 \tWeighted: 0.45119261741638184\n",
      "\n",
      "\n",
      "Epoch: 4 \tTime: 49s\n",
      "\tTraining: \n",
      "\t\tMetrics [TP, FP, TN, FN, SUP]: \tNone: tensor([[ 480,   92,  472,  617, 1097],\n",
      "        [ 124,  193, 1127,  217,  341],\n",
      "        [  57,  202, 1287,  115,  172],\n",
      "        [  26,  240, 1371,   24,   50],\n",
      "        [  73,  120, 1192,  276,  349],\n",
      "        [ 140,  147, 1178,  196,  336],\n",
      "        [ 513,   30,  233,  885, 1398],\n",
      "        [ 337,  259,  912,  153,  490]], device='cuda:0') \tMicro: tensor([1750, 1283, 7772, 2483, 4233], device='cuda:0') \tMacro: tensor([218.7500, 160.3750, 971.5000, 310.3750, 529.1250], device='cuda:0') \tWeighted: tensor([362.5724, 111.8835, 655.9024, 530.6417, 893.2141], device='cuda:0') \n",
      "\t\tAccuracy: \tNone: tensor([0.5731, 0.7532, 0.8092, 0.8411, 0.7616, 0.7935, 0.4491, 0.7520],\n",
      "       device='cuda:0') \tMicro: 0.7165864109992981 \tMacro: 0.7165863513946533 \tWeighted: 0.6131696701049805 \n",
      "\t\tF1 Score: \tNone: tensor([0.5752, 0.3769, 0.2645, 0.1646, 0.2694, 0.4494, 0.5286, 0.6206],\n",
      "       device='cuda:0') \tMicro: 0.4816955626010895 \tMacro: 0.40614789724349976 \tWeighted: 0.49641770124435425\n",
      "\tValidation: \n",
      "\t\tMetrics [TP, FP, TN, FN, SUP]: \tNone: tensor([[125,  33, 126, 186, 311],\n",
      "        [ 42,  90, 280,  58, 100],\n",
      "        [  8,  44, 378,  40,  48],\n",
      "        [  5,  46, 413,   6,  11],\n",
      "        [ 15,  33, 344,  78,  93],\n",
      "        [ 58,  74, 298,  40,  98],\n",
      "        [171,  12,  59, 228, 399],\n",
      "        [118, 143, 189,  20, 138]], device='cuda:0') \tMicro: tensor([ 542,  475, 2087,  656, 1198], device='cuda:0') \tMacro: tensor([ 67.7500,  59.3750, 260.8750,  82.0000, 149.7500], device='cuda:0') \tWeighted: tensor([112.7763,  47.3489, 167.5226, 142.3522, 255.1285], device='cuda:0') \n",
      "\t\tAccuracy: \tNone: tensor([0.5340, 0.6851, 0.8213, 0.8894, 0.7638, 0.7574, 0.4894, 0.6532],\n",
      "       device='cuda:0') \tMicro: 0.6992021203041077 \tMacro: 0.6992021203041077 \tWeighted: 0.5963804721832275 \n",
      "\t\tF1 Score: \tNone: tensor([0.5330, 0.3621, 0.1600, 0.1613, 0.2128, 0.5043, 0.5876, 0.5915],\n",
      "       device='cuda:0') \tMicro: 0.4893905222415924 \tMacro: 0.38907867670059204 \tWeighted: 0.49811407923698425\n",
      "\n",
      "\n",
      "Training time: 172s\n"
     ]
    }
   ],
   "source": [
    "trained_model = train_model(EPOCHS, train_data_loader, validation_data_loader, model, optimizer, CHECKPOINT_PATH, BEST_MODEL_PATH)"
   ],
   "metadata": {
    "collapsed": false,
    "ExecuteTime": {
     "end_time": "2024-04-27T14:03:48.305022900Z",
     "start_time": "2024-04-27T14:00:55.965352400Z"
    }
   },
   "id": "da94e78a115d5864",
   "execution_count": 25
  },
  {
   "cell_type": "code",
   "outputs": [
    {
     "data": {
      "text/plain": "<Figure size 640x480 with 1 Axes>",
      "image/png": "[encoded data removed]"
     },
     "metadata": {},
     "output_type": "display_data"
    }
   ],
   "source": [
    "plt.plot(list(range(1, EPOCHS+1)), train_loss_epoch, 'r')\n",
    "plt.plot(list(range(1, EPOCHS+1)), valid_loss_epoch, 'b')\n",
    "plt.ylabel('comparison validation loss (b) and train loss (r) by epoch')\n",
    "plt.xlabel('epoch')\n",
    "plt.title('Learning rate: ' + str(LEARNING_RATE) + '; Batch size: ' + str(TRAIN_BATCH_SIZE) + '; Epochs: ' + str(EPOCHS))\n",
    "plt.show()"
   ],
   "metadata": {
    "collapsed": false,
    "ExecuteTime": {
     "end_time": "2024-04-27T14:03:48.417015700Z",
     "start_time": "2024-04-27T14:03:48.289018400Z"
    }
   },
   "id": "daccb9b2031e74eb",
   "execution_count": 26
  },
  {
   "cell_type": "markdown",
   "source": [
    "# Read the model"
   ],
   "metadata": {
    "collapsed": false
   },
   "id": "89299a35ae1a6846"
  },
  {
   "cell_type": "code",
   "outputs": [
    {
     "name": "stdout",
     "output_type": "stream",
     "text": [
      "Loaded model with the weighted F1-Score of: 0.49811407923698425 and epoch: 4\n"
     ]
    }
   ],
   "source": [
    "pred_model = BERTClass()\n",
    "pred_model.to(device)\n",
    "model = load_checkpoint(BEST_MODEL_PATH, pred_model, optimizer)"
   ],
   "metadata": {
    "collapsed": false,
    "ExecuteTime": {
     "end_time": "2024-04-27T14:03:51.614242600Z",
     "start_time": "2024-04-27T14:03:48.415017Z"
    }
   },
   "id": "f18f8acb1f1606ec",
   "execution_count": 27
  },
  {
   "cell_type": "code",
   "outputs": [],
   "source": [
    "pred_tokenizer = DistilBertTokenizer.from_pretrained(\"distilbert-base-multilingual-cased\")"
   ],
   "metadata": {
    "collapsed": false,
    "ExecuteTime": {
     "end_time": "2024-04-27T14:03:52.060284200Z",
     "start_time": "2024-04-27T14:03:51.617248300Z"
    }
   },
   "id": "f70a1da4d04203e1",
   "execution_count": 28
  },
  {
   "cell_type": "markdown",
   "source": [
    "# Test data"
   ],
   "metadata": {
    "collapsed": false
   },
   "id": "d49abb24b05e2fdb"
  },
  {
   "cell_type": "code",
   "outputs": [
    {
     "name": "stdout",
     "output_type": "stream",
     "text": [
      "\tTest: \n",
      "\t\tMetrics [TP, FP, TN, FN, SUP]: \tNone: tensor([[ 73,  13,  64,  92, 165],\n",
      "        [ 17,  42, 154,  29,  46],\n",
      "        [  7,  30, 188,  17,  24],\n",
      "        [  1,  36, 200,   5,   6],\n",
      "        [  9,  26, 170,  37,  46],\n",
      "        [ 27,  44, 150,  21,  48],\n",
      "        [ 98,   2,  30, 112, 210],\n",
      "        [ 45,  70, 115,  12,  57]], device='cuda:0') \tMicro: tensor([ 277,  263, 1071,  325,  602], device='cuda:0') \tMacro: tensor([ 34.6250,  32.8750, 133.8750,  40.6250,  75.2500], device='cuda:0') \tWeighted: tensor([ 62.8837,  21.1478,  85.1013,  72.8671, 135.7508], device='cuda:0') \n",
      "\t\tAccuracy: \tNone: tensor([0.5661, 0.7066, 0.8058, 0.8306, 0.7397, 0.7314, 0.5289, 0.6612],\n",
      "       device='cuda:0') \tMicro: 0.6962810158729553 \tMacro: 0.6962809562683105 \tWeighted: 0.6115084886550903 \n",
      "\t\tF1 Score: \tNone: tensor([0.5817, 0.3238, 0.2295, 0.0465, 0.2222, 0.4538, 0.6323, 0.5233],\n",
      "       device='cuda:0') \tMicro: 0.48511382937431335 \tMacro: 0.3766275644302368 \tWeighted: 0.5170466899871826\n"
     ]
    }
   ],
   "source": [
    "test_output = torch.Tensor().to(device)\n",
    "test_target = torch.Tensor().to(device)\n",
    "\n",
    "for index, row in test_data.iterrows():\n",
    "    input_ids, attention_mask, token_type_ids = get_encodings(row[\"c_text\"], row[\"reaction1\"], row[\"reaction2\"])\n",
    "    pred_model.eval()\n",
    "    with torch.no_grad():\n",
    "        input_ids = input_ids.to(device, dtype=torch.long)\n",
    "        attention_mask = attention_mask.to(device, dtype=torch.long)\n",
    "        token_type_ids = token_type_ids.to(device, dtype=torch.long)\n",
    "        \n",
    "        targets = torch.Tensor([[row[\"Generalisation0\"], row[\"Generalisation1\"], row[\"Generalisation2\"], row[\"Generalisation3\"], row[\"Ambiguous\"], row[\"Objective\"], row[\"Subjective\"], row[\"Disputed\"]]])\n",
    "        targets = targets.to(device, dtype=torch.float)\n",
    "        \n",
    "        outputs = pred_model(input_ids, attention_mask, token_type_ids)\n",
    "        outputs = torch.Tensor(outputs)\n",
    "        outputs = outputs.to(device, dtype=torch.float)\n",
    "        \n",
    "        test_output = torch.cat((test_output, outputs), dim=0)\n",
    "        test_target = torch.cat((test_target, targets), dim=0)\n",
    "\n",
    "test_metrics = metrics_function(test_output, test_target)\n",
    "test_accuracy = accuracy_function(test_output, test_target)\n",
    "test_f1_score, valid_f1_score_weight = f1_score_function(test_output, test_target)\n",
    "\n",
    "print(f'\\tTest: \\n\\t\\t{test_metrics} \\n\\t\\t{test_accuracy} \\n\\t\\t{test_f1_score}')\n",
    "del test_metrics, test_accuracy, test_f1_score\n",
    "torch.cuda.empty_cache()"
   ],
   "metadata": {
    "collapsed": false,
    "ExecuteTime": {
     "end_time": "2024-04-27T14:03:53.866283400Z",
     "start_time": "2024-04-27T14:03:52.065285300Z"
    }
   },
   "id": "719fe9031faacd00",
   "execution_count": 29
  },
  {
   "cell_type": "markdown",
   "source": [
    "# Get Predictions"
   ],
   "metadata": {
    "collapsed": false
   },
   "id": "63794d5155241a97"
  },
  {
   "cell_type": "code",
   "outputs": [],
   "source": [
    "def get_prediction(row): \n",
    "    input_ids, attention_mask, token_type_ids = get_encodings(row[\"c_text\"], row[\"reaction1\"], row[\"reaction2\"])\n",
    "    \n",
    "    pred_model.eval()\n",
    "    with torch.no_grad():\n",
    "        input_ids = input_ids.to(device, dtype=torch.long)\n",
    "        attention_mask = attention_mask.to(device, dtype=torch.long)\n",
    "        token_type_ids = token_type_ids.to(device, dtype=torch.long)\n",
    "        \n",
    "        outputs = pred_model(input_ids, attention_mask, token_type_ids)\n",
    "        \n",
    "        generalisation_pred_value = 0\n",
    "        generalisation_pred_prop = 0\n",
    "        if outputs[0][0].item() > generalisation_pred_prop:\n",
    "            generalisation_pred_value = 0\n",
    "            generalisation_pred_prop = outputs[0][0].item()\n",
    "        \n",
    "        if outputs[0][1].item() > generalisation_pred_prop:\n",
    "            generalisation_pred_value = 1\n",
    "            generalisation_pred_prop = outputs[0][1].item()\n",
    "            \n",
    "        if outputs[0][2].item() > generalisation_pred_prop:\n",
    "            generalisation_pred_value = 2\n",
    "            generalisation_pred_prop = outputs[0][2].item()\n",
    "        \n",
    "        if outputs[0][3].item() > generalisation_pred_prop:\n",
    "            generalisation_pred_value = 3\n",
    "        \n",
    "        row['Generalisation_Pred'] = generalisation_pred_value\n",
    "        row['Ambiguous_Pred'] = 1 if outputs[0][4].item() > 0.5 else 0\n",
    "        row['Objective_Pred'] = 1 if outputs[0][5].item() > 0.5 else 0\n",
    "        row['Subjective_Pred'] = 1 if outputs[0][6].item() > 0.5 else 0\n",
    "        row['Disputed_Pred'] = 1 if outputs[0][7].item() > 0.5 else 0\n",
    "        \n",
    "        return row"
   ],
   "metadata": {
    "collapsed": false,
    "ExecuteTime": {
     "end_time": "2024-04-27T14:03:53.867284200Z",
     "start_time": "2024-04-27T14:03:53.854284100Z"
    }
   },
   "id": "d0cfa2385a37cc09",
   "execution_count": 30
  },
  {
   "cell_type": "code",
   "outputs": [
    {
     "data": {
      "text/plain": "                     c_id                                             c_text  \\\n1485  1405047474310553601  Nein, nicht in einen Tiopf. Die Mitesser-NGO G...   \n1487  1393517517927223301  Ääähm... da müsste man halt jetzt wissen, dass...   \n1492  1388783647403220994  Wer liest das? Mal ehrlich jetzt, wenn dieses ...   \n1493  1387373196916281344  Im Gegensatz etwa zum \"Flügel\" der AfD damals....   \n1505  1404378018928267264  Biergarten ist gesellschaftlich notwendiger, g...   \n\n                  date       conv_id  \\\n1485  16.06.2021 06:19  1.404880e+18   \n1487  15.05.2021 10:44  1.393101e+18   \n1492  02.05.2021 09:13  1.388210e+18   \n1493  28.04.2021 11:48  1.387325e+18   \n1505  14.06.2021 09:59  1.403864e+18   \n\n                                              reaction1  \\\n1485  Ich werte das als impulsgetiebene Antwort. Bit...   \n1487  100%. Ich hoffe er schreibt es sich hinter sei...   \n1492  Sie fragen, weshalb er ein Faschist sei. Ich b...   \n1493  Jetzt wird's aber sehr beliebig. Sind denn der...   \n1505  Du scheinst dich sehr auf Herrn Reitschuster e...   \n\n                                              reaction2  Ambiguous  Objective  \\\n1485  Jeder Mensch mit klarem Verstand erkennt bei d...        1.0        0.0   \n1487  Es ist immer wieder schön zu sehen und zu höre...        0.0        1.0   \n1492                             Dann sagen Sie es mir?        1.0        0.0   \n1493  Das negieren des staatlichen Gewaltmonopols is...        0.0        1.0   \n1505               Dafür hattet ihr ne Ausgangssperre 😉        0.0        1.0   \n\n      Subjective  Disputed  Generalisation0  Generalisation1  Generalisation2  \\\n1485         1.0       1.0                1                0                0   \n1487         1.0       0.0                0                1                0   \n1492         1.0       1.0                0                1                0   \n1493         1.0       1.0                1                0                0   \n1505         1.0       1.0                0                0                1   \n\n      Generalisation3  Generalisation_Pred  Ambiguous_Pred  Objective_Pred  \\\n1485                0                    1               0               1   \n1487                0                    1               0               1   \n1492                0                    0               0               0   \n1493                0                    1               0               1   \n1505                0                    1               0               1   \n\n      Subjective_Pred  Disputed_Pred  \n1485                1              1  \n1487                1              1  \n1492                0              1  \n1493                1              1  \n1505                1              1  ",
      "text/html": "<div>\n<style scoped>\n    .dataframe tbody tr th:only-of-type {\n        vertical-align: middle;\n    }\n\n    .dataframe tbody tr th {\n        vertical-align: top;\n    }\n\n    .dataframe thead th {\n        text-align: right;\n    }\n</style>\n<table border=\"1\" class=\"dataframe\">\n  <thead>\n    <tr style=\"text-align: right;\">\n      <th></th>\n      <th>c_id</th>\n      <th>c_text</th>\n      <th>date</th>\n      <th>conv_id</th>\n      <th>reaction1</th>\n      <th>reaction2</th>\n      <th>Ambiguous</th>\n      <th>Objective</th>\n      <th>Subjective</th>\n      <th>Disputed</th>\n      <th>Generalisation0</th>\n      <th>Generalisation1</th>\n      <th>Generalisation2</th>\n      <th>Generalisation3</th>\n      <th>Generalisation_Pred</th>\n      <th>Ambiguous_Pred</th>\n      <th>Objective_Pred</th>\n      <th>Subjective_Pred</th>\n      <th>Disputed_Pred</th>\n    </tr>\n  </thead>\n  <tbody>\n    <tr>\n      <th>1485</th>\n      <td>1405047474310553601</td>\n      <td>Nein, nicht in einen Tiopf. Die Mitesser-NGO G...</td>\n      <td>16.06.2021 06:19</td>\n      <td>1.404880e+18</td>\n      <td>Ich werte das als impulsgetiebene Antwort. Bit...</td>\n      <td>Jeder Mensch mit klarem Verstand erkennt bei d...</td>\n      <td>1.0</td>\n      <td>0.0</td>\n      <td>1.0</td>\n      <td>1.0</td>\n      <td>1</td>\n      <td>0</td>\n      <td>0</td>\n      <td>0</td>\n      <td>1</td>\n      <td>0</td>\n      <td>1</td>\n      <td>1</td>\n      <td>1</td>\n    </tr>\n    <tr>\n      <th>1487</th>\n      <td>1393517517927223301</td>\n      <td>Ääähm... da müsste man halt jetzt wissen, dass...</td>\n      <td>15.05.2021 10:44</td>\n      <td>1.393101e+18</td>\n      <td>100%. Ich hoffe er schreibt es sich hinter sei...</td>\n      <td>Es ist immer wieder schön zu sehen und zu höre...</td>\n      <td>0.0</td>\n      <td>1.0</td>\n      <td>1.0</td>\n      <td>0.0</td>\n      <td>0</td>\n      <td>1</td>\n      <td>0</td>\n      <td>0</td>\n      <td>1</td>\n      <td>0</td>\n      <td>1</td>\n      <td>1</td>\n      <td>1</td>\n    </tr>\n    <tr>\n      <th>1492</th>\n      <td>1388783647403220994</td>\n      <td>Wer liest das? Mal ehrlich jetzt, wenn dieses ...</td>\n      <td>02.05.2021 09:13</td>\n      <td>1.388210e+18</td>\n      <td>Sie fragen, weshalb er ein Faschist sei. Ich b...</td>\n      <td>Dann sagen Sie es mir?</td>\n      <td>1.0</td>\n      <td>0.0</td>\n      <td>1.0</td>\n      <td>1.0</td>\n      <td>0</td>\n      <td>1</td>\n      <td>0</td>\n      <td>0</td>\n      <td>0</td>\n      <td>0</td>\n      <td>0</td>\n      <td>0</td>\n      <td>1</td>\n    </tr>\n    <tr>\n      <th>1493</th>\n      <td>1387373196916281344</td>\n      <td>Im Gegensatz etwa zum \"Flügel\" der AfD damals....</td>\n      <td>28.04.2021 11:48</td>\n      <td>1.387325e+18</td>\n      <td>Jetzt wird's aber sehr beliebig. Sind denn der...</td>\n      <td>Das negieren des staatlichen Gewaltmonopols is...</td>\n      <td>0.0</td>\n      <td>1.0</td>\n      <td>1.0</td>\n      <td>1.0</td>\n      <td>1</td>\n      <td>0</td>\n      <td>0</td>\n      <td>0</td>\n      <td>1</td>\n      <td>0</td>\n      <td>1</td>\n      <td>1</td>\n      <td>1</td>\n    </tr>\n    <tr>\n      <th>1505</th>\n      <td>1404378018928267264</td>\n      <td>Biergarten ist gesellschaftlich notwendiger, g...</td>\n      <td>14.06.2021 09:59</td>\n      <td>1.403864e+18</td>\n      <td>Du scheinst dich sehr auf Herrn Reitschuster e...</td>\n      <td>Dafür hattet ihr ne Ausgangssperre 😉</td>\n      <td>0.0</td>\n      <td>1.0</td>\n      <td>1.0</td>\n      <td>1.0</td>\n      <td>0</td>\n      <td>0</td>\n      <td>1</td>\n      <td>0</td>\n      <td>1</td>\n      <td>0</td>\n      <td>1</td>\n      <td>1</td>\n      <td>1</td>\n    </tr>\n  </tbody>\n</table>\n</div>"
     },
     "execution_count": 31,
     "metadata": {},
     "output_type": "execute_result"
    }
   ],
   "source": [
    "data_pred = []\n",
    "for index, row in sample_data.iterrows():\n",
    "    data_pred.append(get_prediction(row))\n",
    "    \n",
    "data_pred = pd.DataFrame(data_pred)\n",
    "data_pred.head()"
   ],
   "metadata": {
    "collapsed": false,
    "ExecuteTime": {
     "end_time": "2024-04-27T14:03:54.056287200Z",
     "start_time": "2024-04-27T14:03:53.869283800Z"
    }
   },
   "id": "d1540c8f500c02a",
   "execution_count": 31
  },
  {
   "cell_type": "code",
   "outputs": [],
   "source": [
    "data_pred.to_csv('dataset/05_predictions-for-test-comments.csv', sep=';', index=False, header=True, encoding='utf-8-sig') "
   ],
   "metadata": {
    "collapsed": false,
    "ExecuteTime": {
     "end_time": "2024-04-27T14:03:54.102283300Z",
     "start_time": "2024-04-27T14:03:54.057287800Z"
    }
   },
   "id": "8045b46e5e22c026",
   "execution_count": 32
  }
 ],
 "metadata": {
  "kernelspec": {
   "display_name": "Python 3",
   "language": "python",
   "name": "python3"
  },
  "language_info": {
   "codemirror_mode": {
    "name": "ipython",
    "version": 2
   },
   "file_extension": ".py",
   "mimetype": "text/x-python",
   "name": "python",
   "nbconvert_exporter": "python",
   "pygments_lexer": "ipython2",
   "version": "2.7.6"
  }
 },
 "nbformat": 4,
 "nbformat_minor": 5
}
