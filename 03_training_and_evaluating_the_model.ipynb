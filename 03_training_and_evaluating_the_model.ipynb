{
 "cells": [
  {
   "cell_type": "code",
   "execution_count": 1,
   "id": "initial_id",
   "metadata": {
    "collapsed": true,
    "ExecuteTime": {
     "end_time": "2024-02-26T15:46:39.610087100Z",
     "start_time": "2024-02-26T15:46:36.284087500Z"
    }
   },
   "outputs": [],
   "source": [
    "from transformers import DistilBertTokenizer, DistilBertModel\n",
    "import pandas as pd\n",
    "import torch\n",
    "import numpy as np\n",
    "import shutil\n",
    "from timeit import default_timer as timer\n",
    "from torchmetrics.classification import MultilabelF1Score, MultilabelAccuracy, MultilabelStatScores"
   ]
  },
  {
   "cell_type": "markdown",
   "source": [
    "# Read the dataset"
   ],
   "metadata": {
    "collapsed": false
   },
   "id": "608458f4411e37bc"
  },
  {
   "cell_type": "code",
   "outputs": [],
   "source": [
    "file_path = 'dataset/04_comments_annotated-values.csv'\n",
    "data = pd.read_csv(file_path, delimiter=';')"
   ],
   "metadata": {
    "collapsed": false,
    "ExecuteTime": {
     "end_time": "2024-02-26T15:46:39.655087400Z",
     "start_time": "2024-02-26T15:46:39.612084900Z"
    }
   },
   "id": "dcbfdf82a33b855d",
   "execution_count": 2
  },
  {
   "cell_type": "code",
   "outputs": [
    {
     "data": {
      "text/plain": "                  c_id                                             c_text  \\\n0  1391717608802631681  Wer so ein Profilbild wie sie hochlädt kann nu...   \n1  1389188826799673345  Willst du jetzt etwa behaupten das Querdenker ...   \n2  1385241285645291521  Aber Bild hat doch gerade deswegen und diesbez...   \n3  1385240437988986887  Das sehe ich auch genau so. Dieser Brinkhaus i...   \n4  1389640445790199809  Mit den Milliarden Unterstützungsgeldern die s...   \n\n               date  conv_id reaction1 reaction2  Ambiguous  Objective  \\\n0  10.05.2021 11:31      NaN       NaN       NaN        0.0        0.0   \n1  03.05.2021 12:03      NaN       NaN       NaN        1.0        0.0   \n2  22.04.2021 14:37      NaN       NaN       NaN        0.0        1.0   \n3  22.04.2021 14:33      NaN       NaN       NaN        1.0        0.0   \n4  04.05.2021 17:57      NaN       NaN       NaN        0.0        0.0   \n\n   Subjective  Disputed  Generalisation0  Generalisation1  Generalisation2  \\\n0         1.0       0.0                0                0                0   \n1         1.0       0.0                0                0                0   \n2         1.0       0.0                0                1                0   \n3         1.0       0.0                1                0                0   \n4         1.0       0.0                0                0                1   \n\n   Generalisation3  \n0                1  \n1                1  \n2                0  \n3                0  \n4                0  ",
      "text/html": "<div>\n<style scoped>\n    .dataframe tbody tr th:only-of-type {\n        vertical-align: middle;\n    }\n\n    .dataframe tbody tr th {\n        vertical-align: top;\n    }\n\n    .dataframe thead th {\n        text-align: right;\n    }\n</style>\n<table border=\"1\" class=\"dataframe\">\n  <thead>\n    <tr style=\"text-align: right;\">\n      <th></th>\n      <th>c_id</th>\n      <th>c_text</th>\n      <th>date</th>\n      <th>conv_id</th>\n      <th>reaction1</th>\n      <th>reaction2</th>\n      <th>Ambiguous</th>\n      <th>Objective</th>\n      <th>Subjective</th>\n      <th>Disputed</th>\n      <th>Generalisation0</th>\n      <th>Generalisation1</th>\n      <th>Generalisation2</th>\n      <th>Generalisation3</th>\n    </tr>\n  </thead>\n  <tbody>\n    <tr>\n      <th>0</th>\n      <td>1391717608802631681</td>\n      <td>Wer so ein Profilbild wie sie hochlädt kann nu...</td>\n      <td>10.05.2021 11:31</td>\n      <td>NaN</td>\n      <td>NaN</td>\n      <td>NaN</td>\n      <td>0.0</td>\n      <td>0.0</td>\n      <td>1.0</td>\n      <td>0.0</td>\n      <td>0</td>\n      <td>0</td>\n      <td>0</td>\n      <td>1</td>\n    </tr>\n    <tr>\n      <th>1</th>\n      <td>1389188826799673345</td>\n      <td>Willst du jetzt etwa behaupten das Querdenker ...</td>\n      <td>03.05.2021 12:03</td>\n      <td>NaN</td>\n      <td>NaN</td>\n      <td>NaN</td>\n      <td>1.0</td>\n      <td>0.0</td>\n      <td>1.0</td>\n      <td>0.0</td>\n      <td>0</td>\n      <td>0</td>\n      <td>0</td>\n      <td>1</td>\n    </tr>\n    <tr>\n      <th>2</th>\n      <td>1385241285645291521</td>\n      <td>Aber Bild hat doch gerade deswegen und diesbez...</td>\n      <td>22.04.2021 14:37</td>\n      <td>NaN</td>\n      <td>NaN</td>\n      <td>NaN</td>\n      <td>0.0</td>\n      <td>1.0</td>\n      <td>1.0</td>\n      <td>0.0</td>\n      <td>0</td>\n      <td>1</td>\n      <td>0</td>\n      <td>0</td>\n    </tr>\n    <tr>\n      <th>3</th>\n      <td>1385240437988986887</td>\n      <td>Das sehe ich auch genau so. Dieser Brinkhaus i...</td>\n      <td>22.04.2021 14:33</td>\n      <td>NaN</td>\n      <td>NaN</td>\n      <td>NaN</td>\n      <td>1.0</td>\n      <td>0.0</td>\n      <td>1.0</td>\n      <td>0.0</td>\n      <td>1</td>\n      <td>0</td>\n      <td>0</td>\n      <td>0</td>\n    </tr>\n    <tr>\n      <th>4</th>\n      <td>1389640445790199809</td>\n      <td>Mit den Milliarden Unterstützungsgeldern die s...</td>\n      <td>04.05.2021 17:57</td>\n      <td>NaN</td>\n      <td>NaN</td>\n      <td>NaN</td>\n      <td>0.0</td>\n      <td>0.0</td>\n      <td>1.0</td>\n      <td>0.0</td>\n      <td>0</td>\n      <td>0</td>\n      <td>1</td>\n      <td>0</td>\n    </tr>\n  </tbody>\n</table>\n</div>"
     },
     "execution_count": 3,
     "metadata": {},
     "output_type": "execute_result"
    }
   ],
   "source": [
    "data.head()"
   ],
   "metadata": {
    "collapsed": false,
    "ExecuteTime": {
     "end_time": "2024-02-26T15:46:39.708086700Z",
     "start_time": "2024-02-26T15:46:39.644087900Z"
    }
   },
   "id": "d4ead10737c28116",
   "execution_count": 3
  },
  {
   "cell_type": "markdown",
   "source": [
    "## Remove test-data"
   ],
   "metadata": {
    "collapsed": false
   },
   "id": "22cedf9382f9c921"
  },
  {
   "cell_type": "code",
   "outputs": [],
   "source": [
    "test_data_ids = [\n",
    "    1405047474310553601,\n",
    "    1388783647403220994,\n",
    "    1387373196916281344,\n",
    "    1405544796559601673,\n",
    "    1401594561835773957,\n",
    "    1405219910960156675,\n",
    "    1394285068944818176,\n",
    "    1405106839642062848,\n",
    "    1403073727332560902,\n",
    "    1406556368241369090,\n",
    "    1384598185356767235,\n",
    "    1398590532167864320,\n",
    "    1393517517927223301,\n",
    "    1404378018928267264,\n",
    "    1387505263159218179\n",
    "]\n",
    "\n",
    "test_data = data[data['c_id'].isin(test_data_ids)]\n",
    "data = data[~data['c_id'].isin(test_data_ids)]"
   ],
   "metadata": {
    "collapsed": false,
    "ExecuteTime": {
     "end_time": "2024-02-26T15:46:39.708086700Z",
     "start_time": "2024-02-26T15:46:39.678086Z"
    }
   },
   "id": "a2cf97529c466ffd",
   "execution_count": 4
  },
  {
   "cell_type": "code",
   "outputs": [
    {
     "data": {
      "text/plain": "                     c_id                                             c_text  \\\n1485  1405047474310553601  Nein, nicht in einen Tiopf. Die Mitesser-NGO G...   \n1487  1393517517927223301  Ääähm... da müsste man halt jetzt wissen, dass...   \n1492  1388783647403220994  Wer liest das? Mal ehrlich jetzt, wenn dieses ...   \n1493  1387373196916281344  Im Gegensatz etwa zum \"Flügel\" der AfD damals....   \n1505  1404378018928267264  Biergarten ist gesellschaftlich notwendiger, g...   \n1526  1405544796559601673  ich sage nicht dass wissenschaft gekauft ist. ...   \n1529  1387505263159218179  Corona gibt es sehr wohl, aber wo stecken sich...   \n1545  1401594561835773957  Die brauen Rattenfänger bleiben außen vor und ...   \n1556  1405219910960156675           Dann waren es wohl die falschen Medien..   \n1561  1394285068944818176  Aber das macht doch die Situation für Juden HI...   \n1577  1405106839642062848  Wir übernehmen volle Verantwortung für diesen ...   \n1624  1403073727332560902  Im gegensatz zu dir tue ich das. und für die c...   \n1689  1406556368241369090  Was hat dann Bandenwerbung im Sport verloren? ...   \n1722  1384598185356767235  Wer die Grünen wählt, hat die Kontrolle über s...   \n1733  1398590532167864320  So ein Blödsinn. Fühlt ihr euch frei? Frei von...   \n\n                  date       conv_id  \\\n1485  16.06.2021 06:19  1.404880e+18   \n1487  15.05.2021 10:44  1.393101e+18   \n1492  02.05.2021 09:13  1.388210e+18   \n1493  28.04.2021 11:48  1.387325e+18   \n1505  14.06.2021 09:59  1.403864e+18   \n1526  17.06.2021 15:16  1.404880e+18   \n1529  28.04.2021 20:33  1.387325e+18   \n1545  06.06.2021 17:39  1.401583e+18   \n1556  16.06.2021 17:45  1.405213e+18   \n1561  17.05.2021 13:33  1.393929e+18   \n1577  16.06.2021 10:15  1.404880e+18   \n1624  10.06.2021 19:36  1.401583e+18   \n1689  20.06.2021 10:15  1.406508e+18   \n1722  20.04.2021 20:01  1.384598e+18   \n1733  29.05.2021 10:42  1.398384e+18   \n\n                                              reaction1  \\\n1485  Ich werte das als impulsgetiebene Antwort. Bit...   \n1487  100%. Ich hoffe er schreibt es sich hinter sei...   \n1492  Sie fragen, weshalb er ein Faschist sei. Ich b...   \n1493  Jetzt wird's aber sehr beliebig. Sind denn der...   \n1505  Du scheinst dich sehr auf Herrn Reitschuster e...   \n1526  das problem ist dass die industrielle landwirt...   \n1529  Ja, aber genau das ist doch das Problem. Die L...   \n1545  Jo, das stimmt. Aber dass die Bearbock Crew im...   \n1556  Meinen Sie verantwortungslose Eltern, die den ...   \n1561                       Ja, aber nur auf dem Papier!   \n1577  Die haben Tatsache beim Spiel nicht versucht u...   \n1624  ... wieder Quatsch ... aber Querdenker leben j...   \n1689  Ihre Drogen würde ich auch gerne nehmen😂😂 Also...   \n1722  Und wer die AfD wählt hat die Kontrolle über s...   \n1733  Freizeit ist vor allem Selbstbestimmung und di...   \n\n                                              reaction2  Ambiguous  Objective  \\\n1485  Jeder Mensch mit klarem Verstand erkennt bei d...        1.0        0.0   \n1487  Es ist immer wieder schön zu sehen und zu höre...        0.0        1.0   \n1492                             Dann sagen Sie es mir?        1.0        0.0   \n1493  Das negieren des staatlichen Gewaltmonopols is...        0.0        1.0   \n1505               Dafür hattet ihr ne Ausgangssperre 😉        0.0        1.0   \n1526  Warum ist es \"das Übel\"? Mit vorindustriellen ...        0.0        1.0   \n1529  Ja aber warum müssen denn alle seit einem Jahr...        0.0        1.0   \n1545                 Btw..wieviel hat die Afd verloren?        1.0        0.0   \n1556             Welche sind denn die richtigen Medien?        0.0        0.0   \n1561                     Ja, Deutsche auf dem \"Papier\"!        0.0        0.0   \n1577  Fakt ist aber dass die aktion: - illegal ist -...        0.0        1.0   \n1624  wer zu solchen worten greift, kehrt besser vor...        1.0        0.0   \n1689               Wie dumm ist Ihre Aussage bitte!? 🤦🤦        1.0        0.0   \n1722  Es gibt nichts besseres als die AfD. Alles Men...        0.0        0.0   \n1733  Erkläre mir mal, weshalb ich nicht frei bin. W...        1.0        0.0   \n\n      Subjective  Disputed  Generalisation0  Generalisation1  Generalisation2  \\\n1485         1.0       1.0                1                0                0   \n1487         1.0       0.0                0                1                0   \n1492         1.0       1.0                0                1                0   \n1493         1.0       1.0                1                0                0   \n1505         1.0       1.0                0                0                1   \n1526         1.0       1.0                0                1                0   \n1529         1.0       1.0                0                0                1   \n1545         1.0       1.0                1                0                0   \n1556         1.0       1.0                0                1                0   \n1561         1.0       1.0                0                0                1   \n1577         1.0       1.0                1                0                0   \n1624         1.0       1.0                0                1                0   \n1689         1.0       0.0                0                1                0   \n1722         1.0       1.0                0                1                0   \n1733         1.0       1.0                0                1                0   \n\n      Generalisation3  \n1485                0  \n1487                0  \n1492                0  \n1493                0  \n1505                0  \n1526                0  \n1529                0  \n1545                0  \n1556                0  \n1561                0  \n1577                0  \n1624                0  \n1689                0  \n1722                0  \n1733                0  ",
      "text/html": "<div>\n<style scoped>\n    .dataframe tbody tr th:only-of-type {\n        vertical-align: middle;\n    }\n\n    .dataframe tbody tr th {\n        vertical-align: top;\n    }\n\n    .dataframe thead th {\n        text-align: right;\n    }\n</style>\n<table border=\"1\" class=\"dataframe\">\n  <thead>\n    <tr style=\"text-align: right;\">\n      <th></th>\n      <th>c_id</th>\n      <th>c_text</th>\n      <th>date</th>\n      <th>conv_id</th>\n      <th>reaction1</th>\n      <th>reaction2</th>\n      <th>Ambiguous</th>\n      <th>Objective</th>\n      <th>Subjective</th>\n      <th>Disputed</th>\n      <th>Generalisation0</th>\n      <th>Generalisation1</th>\n      <th>Generalisation2</th>\n      <th>Generalisation3</th>\n    </tr>\n  </thead>\n  <tbody>\n    <tr>\n      <th>1485</th>\n      <td>1405047474310553601</td>\n      <td>Nein, nicht in einen Tiopf. Die Mitesser-NGO G...</td>\n      <td>16.06.2021 06:19</td>\n      <td>1.404880e+18</td>\n      <td>Ich werte das als impulsgetiebene Antwort. Bit...</td>\n      <td>Jeder Mensch mit klarem Verstand erkennt bei d...</td>\n      <td>1.0</td>\n      <td>0.0</td>\n      <td>1.0</td>\n      <td>1.0</td>\n      <td>1</td>\n      <td>0</td>\n      <td>0</td>\n      <td>0</td>\n    </tr>\n    <tr>\n      <th>1487</th>\n      <td>1393517517927223301</td>\n      <td>Ääähm... da müsste man halt jetzt wissen, dass...</td>\n      <td>15.05.2021 10:44</td>\n      <td>1.393101e+18</td>\n      <td>100%. Ich hoffe er schreibt es sich hinter sei...</td>\n      <td>Es ist immer wieder schön zu sehen und zu höre...</td>\n      <td>0.0</td>\n      <td>1.0</td>\n      <td>1.0</td>\n      <td>0.0</td>\n      <td>0</td>\n      <td>1</td>\n      <td>0</td>\n      <td>0</td>\n    </tr>\n    <tr>\n      <th>1492</th>\n      <td>1388783647403220994</td>\n      <td>Wer liest das? Mal ehrlich jetzt, wenn dieses ...</td>\n      <td>02.05.2021 09:13</td>\n      <td>1.388210e+18</td>\n      <td>Sie fragen, weshalb er ein Faschist sei. Ich b...</td>\n      <td>Dann sagen Sie es mir?</td>\n      <td>1.0</td>\n      <td>0.0</td>\n      <td>1.0</td>\n      <td>1.0</td>\n      <td>0</td>\n      <td>1</td>\n      <td>0</td>\n      <td>0</td>\n    </tr>\n    <tr>\n      <th>1493</th>\n      <td>1387373196916281344</td>\n      <td>Im Gegensatz etwa zum \"Flügel\" der AfD damals....</td>\n      <td>28.04.2021 11:48</td>\n      <td>1.387325e+18</td>\n      <td>Jetzt wird's aber sehr beliebig. Sind denn der...</td>\n      <td>Das negieren des staatlichen Gewaltmonopols is...</td>\n      <td>0.0</td>\n      <td>1.0</td>\n      <td>1.0</td>\n      <td>1.0</td>\n      <td>1</td>\n      <td>0</td>\n      <td>0</td>\n      <td>0</td>\n    </tr>\n    <tr>\n      <th>1505</th>\n      <td>1404378018928267264</td>\n      <td>Biergarten ist gesellschaftlich notwendiger, g...</td>\n      <td>14.06.2021 09:59</td>\n      <td>1.403864e+18</td>\n      <td>Du scheinst dich sehr auf Herrn Reitschuster e...</td>\n      <td>Dafür hattet ihr ne Ausgangssperre 😉</td>\n      <td>0.0</td>\n      <td>1.0</td>\n      <td>1.0</td>\n      <td>1.0</td>\n      <td>0</td>\n      <td>0</td>\n      <td>1</td>\n      <td>0</td>\n    </tr>\n    <tr>\n      <th>1526</th>\n      <td>1405544796559601673</td>\n      <td>ich sage nicht dass wissenschaft gekauft ist. ...</td>\n      <td>17.06.2021 15:16</td>\n      <td>1.404880e+18</td>\n      <td>das problem ist dass die industrielle landwirt...</td>\n      <td>Warum ist es \"das Übel\"? Mit vorindustriellen ...</td>\n      <td>0.0</td>\n      <td>1.0</td>\n      <td>1.0</td>\n      <td>1.0</td>\n      <td>0</td>\n      <td>1</td>\n      <td>0</td>\n      <td>0</td>\n    </tr>\n    <tr>\n      <th>1529</th>\n      <td>1387505263159218179</td>\n      <td>Corona gibt es sehr wohl, aber wo stecken sich...</td>\n      <td>28.04.2021 20:33</td>\n      <td>1.387325e+18</td>\n      <td>Ja, aber genau das ist doch das Problem. Die L...</td>\n      <td>Ja aber warum müssen denn alle seit einem Jahr...</td>\n      <td>0.0</td>\n      <td>1.0</td>\n      <td>1.0</td>\n      <td>1.0</td>\n      <td>0</td>\n      <td>0</td>\n      <td>1</td>\n      <td>0</td>\n    </tr>\n    <tr>\n      <th>1545</th>\n      <td>1401594561835773957</td>\n      <td>Die brauen Rattenfänger bleiben außen vor und ...</td>\n      <td>06.06.2021 17:39</td>\n      <td>1.401583e+18</td>\n      <td>Jo, das stimmt. Aber dass die Bearbock Crew im...</td>\n      <td>Btw..wieviel hat die Afd verloren?</td>\n      <td>1.0</td>\n      <td>0.0</td>\n      <td>1.0</td>\n      <td>1.0</td>\n      <td>1</td>\n      <td>0</td>\n      <td>0</td>\n      <td>0</td>\n    </tr>\n    <tr>\n      <th>1556</th>\n      <td>1405219910960156675</td>\n      <td>Dann waren es wohl die falschen Medien..</td>\n      <td>16.06.2021 17:45</td>\n      <td>1.405213e+18</td>\n      <td>Meinen Sie verantwortungslose Eltern, die den ...</td>\n      <td>Welche sind denn die richtigen Medien?</td>\n      <td>0.0</td>\n      <td>0.0</td>\n      <td>1.0</td>\n      <td>1.0</td>\n      <td>0</td>\n      <td>1</td>\n      <td>0</td>\n      <td>0</td>\n    </tr>\n    <tr>\n      <th>1561</th>\n      <td>1394285068944818176</td>\n      <td>Aber das macht doch die Situation für Juden HI...</td>\n      <td>17.05.2021 13:33</td>\n      <td>1.393929e+18</td>\n      <td>Ja, aber nur auf dem Papier!</td>\n      <td>Ja, Deutsche auf dem \"Papier\"!</td>\n      <td>0.0</td>\n      <td>0.0</td>\n      <td>1.0</td>\n      <td>1.0</td>\n      <td>0</td>\n      <td>0</td>\n      <td>1</td>\n      <td>0</td>\n    </tr>\n    <tr>\n      <th>1577</th>\n      <td>1405106839642062848</td>\n      <td>Wir übernehmen volle Verantwortung für diesen ...</td>\n      <td>16.06.2021 10:15</td>\n      <td>1.404880e+18</td>\n      <td>Die haben Tatsache beim Spiel nicht versucht u...</td>\n      <td>Fakt ist aber dass die aktion: - illegal ist -...</td>\n      <td>0.0</td>\n      <td>1.0</td>\n      <td>1.0</td>\n      <td>1.0</td>\n      <td>1</td>\n      <td>0</td>\n      <td>0</td>\n      <td>0</td>\n    </tr>\n    <tr>\n      <th>1624</th>\n      <td>1403073727332560902</td>\n      <td>Im gegensatz zu dir tue ich das. und für die c...</td>\n      <td>10.06.2021 19:36</td>\n      <td>1.401583e+18</td>\n      <td>... wieder Quatsch ... aber Querdenker leben j...</td>\n      <td>wer zu solchen worten greift, kehrt besser vor...</td>\n      <td>1.0</td>\n      <td>0.0</td>\n      <td>1.0</td>\n      <td>1.0</td>\n      <td>0</td>\n      <td>1</td>\n      <td>0</td>\n      <td>0</td>\n    </tr>\n    <tr>\n      <th>1689</th>\n      <td>1406556368241369090</td>\n      <td>Was hat dann Bandenwerbung im Sport verloren? ...</td>\n      <td>20.06.2021 10:15</td>\n      <td>1.406508e+18</td>\n      <td>Ihre Drogen würde ich auch gerne nehmen😂😂 Also...</td>\n      <td>Wie dumm ist Ihre Aussage bitte!? 🤦🤦</td>\n      <td>1.0</td>\n      <td>0.0</td>\n      <td>1.0</td>\n      <td>0.0</td>\n      <td>0</td>\n      <td>1</td>\n      <td>0</td>\n      <td>0</td>\n    </tr>\n    <tr>\n      <th>1722</th>\n      <td>1384598185356767235</td>\n      <td>Wer die Grünen wählt, hat die Kontrolle über s...</td>\n      <td>20.04.2021 20:01</td>\n      <td>1.384598e+18</td>\n      <td>Und wer die AfD wählt hat die Kontrolle über s...</td>\n      <td>Es gibt nichts besseres als die AfD. Alles Men...</td>\n      <td>0.0</td>\n      <td>0.0</td>\n      <td>1.0</td>\n      <td>1.0</td>\n      <td>0</td>\n      <td>1</td>\n      <td>0</td>\n      <td>0</td>\n    </tr>\n    <tr>\n      <th>1733</th>\n      <td>1398590532167864320</td>\n      <td>So ein Blödsinn. Fühlt ihr euch frei? Frei von...</td>\n      <td>29.05.2021 10:42</td>\n      <td>1.398384e+18</td>\n      <td>Freizeit ist vor allem Selbstbestimmung und di...</td>\n      <td>Erkläre mir mal, weshalb ich nicht frei bin. W...</td>\n      <td>1.0</td>\n      <td>0.0</td>\n      <td>1.0</td>\n      <td>1.0</td>\n      <td>0</td>\n      <td>1</td>\n      <td>0</td>\n      <td>0</td>\n    </tr>\n  </tbody>\n</table>\n</div>"
     },
     "execution_count": 5,
     "metadata": {},
     "output_type": "execute_result"
    }
   ],
   "source": [
    "test_data.head(15)"
   ],
   "metadata": {
    "collapsed": false,
    "ExecuteTime": {
     "end_time": "2024-02-26T15:46:39.782090900Z",
     "start_time": "2024-02-26T15:46:39.692086600Z"
    }
   },
   "id": "de7cb29d3e6249d9",
   "execution_count": 5
  },
  {
   "cell_type": "markdown",
   "source": [
    "## Prepare data structure"
   ],
   "metadata": {
    "collapsed": false
   },
   "id": "7210ac371a7d7f9d"
  },
  {
   "cell_type": "code",
   "outputs": [],
   "source": [
    "data.drop(labels=['c_id', 'date', 'conv_id'], axis=1, inplace=True)"
   ],
   "metadata": {
    "collapsed": false,
    "ExecuteTime": {
     "end_time": "2024-02-26T15:46:39.872090600Z",
     "start_time": "2024-02-26T15:46:39.708086700Z"
    }
   },
   "id": "64a2e61fbac700ff",
   "execution_count": 6
  },
  {
   "cell_type": "code",
   "outputs": [
    {
     "data": {
      "text/plain": "                                              c_text reaction1 reaction2  \\\n0  Wer so ein Profilbild wie sie hochlädt kann nu...       NaN       NaN   \n1  Willst du jetzt etwa behaupten das Querdenker ...       NaN       NaN   \n2  Aber Bild hat doch gerade deswegen und diesbez...       NaN       NaN   \n3  Das sehe ich auch genau so. Dieser Brinkhaus i...       NaN       NaN   \n4  Mit den Milliarden Unterstützungsgeldern die s...       NaN       NaN   \n\n   Ambiguous  Objective  Subjective  Disputed  Generalisation0  \\\n0        0.0        0.0         1.0       0.0                0   \n1        1.0        0.0         1.0       0.0                0   \n2        0.0        1.0         1.0       0.0                0   \n3        1.0        0.0         1.0       0.0                1   \n4        0.0        0.0         1.0       0.0                0   \n\n   Generalisation1  Generalisation2  Generalisation3  \n0                0                0                1  \n1                0                0                1  \n2                1                0                0  \n3                0                0                0  \n4                0                1                0  ",
      "text/html": "<div>\n<style scoped>\n    .dataframe tbody tr th:only-of-type {\n        vertical-align: middle;\n    }\n\n    .dataframe tbody tr th {\n        vertical-align: top;\n    }\n\n    .dataframe thead th {\n        text-align: right;\n    }\n</style>\n<table border=\"1\" class=\"dataframe\">\n  <thead>\n    <tr style=\"text-align: right;\">\n      <th></th>\n      <th>c_text</th>\n      <th>reaction1</th>\n      <th>reaction2</th>\n      <th>Ambiguous</th>\n      <th>Objective</th>\n      <th>Subjective</th>\n      <th>Disputed</th>\n      <th>Generalisation0</th>\n      <th>Generalisation1</th>\n      <th>Generalisation2</th>\n      <th>Generalisation3</th>\n    </tr>\n  </thead>\n  <tbody>\n    <tr>\n      <th>0</th>\n      <td>Wer so ein Profilbild wie sie hochlädt kann nu...</td>\n      <td>NaN</td>\n      <td>NaN</td>\n      <td>0.0</td>\n      <td>0.0</td>\n      <td>1.0</td>\n      <td>0.0</td>\n      <td>0</td>\n      <td>0</td>\n      <td>0</td>\n      <td>1</td>\n    </tr>\n    <tr>\n      <th>1</th>\n      <td>Willst du jetzt etwa behaupten das Querdenker ...</td>\n      <td>NaN</td>\n      <td>NaN</td>\n      <td>1.0</td>\n      <td>0.0</td>\n      <td>1.0</td>\n      <td>0.0</td>\n      <td>0</td>\n      <td>0</td>\n      <td>0</td>\n      <td>1</td>\n    </tr>\n    <tr>\n      <th>2</th>\n      <td>Aber Bild hat doch gerade deswegen und diesbez...</td>\n      <td>NaN</td>\n      <td>NaN</td>\n      <td>0.0</td>\n      <td>1.0</td>\n      <td>1.0</td>\n      <td>0.0</td>\n      <td>0</td>\n      <td>1</td>\n      <td>0</td>\n      <td>0</td>\n    </tr>\n    <tr>\n      <th>3</th>\n      <td>Das sehe ich auch genau so. Dieser Brinkhaus i...</td>\n      <td>NaN</td>\n      <td>NaN</td>\n      <td>1.0</td>\n      <td>0.0</td>\n      <td>1.0</td>\n      <td>0.0</td>\n      <td>1</td>\n      <td>0</td>\n      <td>0</td>\n      <td>0</td>\n    </tr>\n    <tr>\n      <th>4</th>\n      <td>Mit den Milliarden Unterstützungsgeldern die s...</td>\n      <td>NaN</td>\n      <td>NaN</td>\n      <td>0.0</td>\n      <td>0.0</td>\n      <td>1.0</td>\n      <td>0.0</td>\n      <td>0</td>\n      <td>0</td>\n      <td>1</td>\n      <td>0</td>\n    </tr>\n  </tbody>\n</table>\n</div>"
     },
     "execution_count": 7,
     "metadata": {},
     "output_type": "execute_result"
    }
   ],
   "source": [
    "data.head()"
   ],
   "metadata": {
    "collapsed": false,
    "ExecuteTime": {
     "end_time": "2024-02-26T15:46:39.937086100Z",
     "start_time": "2024-02-26T15:46:39.733085Z"
    }
   },
   "id": "521a979d09eab60f",
   "execution_count": 7
  },
  {
   "cell_type": "markdown",
   "source": [
    "# Process the data"
   ],
   "metadata": {
    "collapsed": false
   },
   "id": "5ba42cb29e4cdfbe"
  },
  {
   "cell_type": "code",
   "outputs": [],
   "source": [
    "target_list = ['Generalisation0', 'Generalisation1', 'Generalisation2', 'Generalisation3', 'Ambiguous', 'Objective', 'Subjective', 'Disputed']"
   ],
   "metadata": {
    "collapsed": false,
    "ExecuteTime": {
     "end_time": "2024-02-26T15:46:39.938084600Z",
     "start_time": "2024-02-26T15:46:39.740089600Z"
    }
   },
   "id": "1422dbc9d69f6b84",
   "execution_count": 8
  },
  {
   "cell_type": "code",
   "outputs": [],
   "source": [
    "MAX_LEN = 256\n",
    "TRAIN_BATCH_SIZE = 64\n",
    "VALID_BATCH_SIZE = 64\n",
    "EPOCHS = 25\n",
    "LEARNING_RATE = 1e-5"
   ],
   "metadata": {
    "collapsed": false,
    "ExecuteTime": {
     "end_time": "2024-02-26T15:46:39.939088300Z",
     "start_time": "2024-02-26T15:46:39.755088500Z"
    }
   },
   "id": "387a20c9131d19a6",
   "execution_count": 9
  },
  {
   "cell_type": "code",
   "outputs": [],
   "source": [
    "tokenizer = DistilBertTokenizer.from_pretrained(\"distilbert-base-multilingual-cased\")\n",
    "\n",
    "def get_encodings(text, reaction1, reaction2):\n",
    "    text = str(text)\n",
    "    text = \" \".join(text.split())\n",
    "    \n",
    "    reaction1 = str(reaction1)\n",
    "    reaction1 = \" \".join(reaction1.split())\n",
    "    \n",
    "    reaction2 = str(reaction2)\n",
    "    reaction2 = \" \".join(reaction2.split())\n",
    "    \n",
    "    encodings = tokenizer.__call__(\n",
    "            text + ' [SEP] ' + reaction1 + ' ' + reaction2, \n",
    "            add_special_tokens=True,\n",
    "            max_length=MAX_LEN,\n",
    "            padding='max_length',\n",
    "            truncation=True,\n",
    "            return_attention_mask=True,\n",
    "            return_token_type_ids=True,\n",
    "            return_tensors='pt'\n",
    "        )\n",
    "    \n",
    "    return encodings['input_ids'], encodings['attention_mask'], encodings['token_type_ids']"
   ],
   "metadata": {
    "collapsed": false,
    "ExecuteTime": {
     "end_time": "2024-02-26T15:46:40.686087200Z",
     "start_time": "2024-02-26T15:46:39.774088900Z"
    }
   },
   "id": "c75a413702e0692a",
   "execution_count": 10
  },
  {
   "cell_type": "code",
   "outputs": [],
   "source": [
    "class CustomDataset (torch.utils.data.Dataset):\n",
    "    def __init__(self, df, tokenizer, max_len):\n",
    "        self.df = df\n",
    "        self.tokenizer = tokenizer\n",
    "        self.max_len = max_len\n",
    "        self.title = self.df['c_text']\n",
    "        self.reaction1 = self.df['reaction1']\n",
    "        self.reaction2 = self.df['reaction2']\n",
    "        self.targets = self.df[target_list].values\n",
    "        \n",
    "    def __len__(self):\n",
    "        return len(self.title)\n",
    "    \n",
    "    def __getitem__(self, index):        \n",
    "        input_ids, attention_mask, token_type_ids = get_encodings(self.title[index], self.reaction1[index], self.reaction2[index])\n",
    "        \n",
    "        return {\n",
    "            'input_ids': input_ids.flatten(),\n",
    "            'attention_mask': attention_mask.flatten(),\n",
    "            'token_type_ids': token_type_ids.flatten(),\n",
    "            'targets': torch.tensor(self.targets[index], dtype=torch.float)\n",
    "        }"
   ],
   "metadata": {
    "collapsed": false,
    "ExecuteTime": {
     "end_time": "2024-02-26T15:46:40.716089600Z",
     "start_time": "2024-02-26T15:46:40.692086100Z"
    }
   },
   "id": "19838c24cd78475a",
   "execution_count": 11
  },
  {
   "cell_type": "markdown",
   "source": [
    "# Generate the dataset"
   ],
   "metadata": {
    "collapsed": false
   },
   "id": "c0cce338ae2f8979"
  },
  {
   "cell_type": "code",
   "outputs": [
    {
     "name": "stdout",
     "output_type": "stream",
     "text": [
      "(2373, 11)\n"
     ]
    }
   ],
   "source": [
    "train_size = 0.8\n",
    "print(data.shape)\n",
    "train_data = data.sample(frac=train_size, random_state=200)\n",
    "validation_data = data.drop(train_data.index)\n",
    "\n",
    "train_data = train_data.reset_index(drop=True)\n",
    "validation_data = validation_data.reset_index(drop=True)"
   ],
   "metadata": {
    "collapsed": false,
    "ExecuteTime": {
     "end_time": "2024-02-26T15:46:40.774087500Z",
     "start_time": "2024-02-26T15:46:40.706085200Z"
    }
   },
   "id": "f6dc9c521b03eb81",
   "execution_count": 12
  },
  {
   "cell_type": "code",
   "outputs": [],
   "source": [
    "train_data = CustomDataset(train_data, tokenizer, MAX_LEN)\n",
    "validation_data = CustomDataset(validation_data, tokenizer, MAX_LEN)"
   ],
   "metadata": {
    "collapsed": false,
    "ExecuteTime": {
     "end_time": "2024-02-26T15:46:40.776085300Z",
     "start_time": "2024-02-26T15:46:40.724095700Z"
    }
   },
   "id": "c98ceceb0f1dec9c",
   "execution_count": 13
  },
  {
   "cell_type": "code",
   "outputs": [],
   "source": [
    "train_data_loader = torch.utils.data.DataLoader(train_data, batch_size=TRAIN_BATCH_SIZE, shuffle=True, num_workers=0)\n",
    "validation_data_loader = torch.utils.data.DataLoader(validation_data, batch_size=VALID_BATCH_SIZE, shuffle=False, num_workers=0)"
   ],
   "metadata": {
    "collapsed": false,
    "ExecuteTime": {
     "end_time": "2024-02-26T15:46:40.822103200Z",
     "start_time": "2024-02-26T15:46:40.739091500Z"
    }
   },
   "id": "47978d8dfe1ea61e",
   "execution_count": 14
  },
  {
   "cell_type": "markdown",
   "source": [
    "# Create model"
   ],
   "metadata": {
    "collapsed": false
   },
   "id": "d13e73dda01415c4"
  },
  {
   "cell_type": "code",
   "outputs": [
    {
     "name": "stdout",
     "output_type": "stream",
     "text": [
      "cuda\n"
     ]
    }
   ],
   "source": [
    "device = torch.device(\"cuda\" if torch.cuda.is_available() else \"cpu\")\n",
    "print(device)"
   ],
   "metadata": {
    "collapsed": false,
    "ExecuteTime": {
     "end_time": "2024-02-26T15:46:40.826086600Z",
     "start_time": "2024-02-26T15:46:40.764087300Z"
    }
   },
   "id": "ef570748a9fcbd15",
   "execution_count": 15
  },
  {
   "cell_type": "code",
   "outputs": [],
   "source": [
    "def load_checkpoint(filepath, model, optimizer):\n",
    "    checkpoint = torch.load(filepath)\n",
    "    model.load_state_dict(checkpoint['state_dict'])\n",
    "    optimizer.load_state_dict(checkpoint['optimizer'])\n",
    "    valid_loss_min = checkpoint['valid_loss_min']\n",
    "    return model, optimizer, checkpoint['epoch'], valid_loss_min"
   ],
   "metadata": {
    "collapsed": false,
    "ExecuteTime": {
     "end_time": "2024-02-26T15:46:40.856085800Z",
     "start_time": "2024-02-26T15:46:40.785088100Z"
    }
   },
   "id": "baf1ebf16817107c",
   "execution_count": 16
  },
  {
   "cell_type": "code",
   "outputs": [],
   "source": [
    "def save_checkpoint(state, is_best, file_path, best_model_path):\n",
    "    torch.save(state, file_path)\n",
    "    if is_best:\n",
    "        shutil.copy(file_path, best_model_path)"
   ],
   "metadata": {
    "collapsed": false,
    "ExecuteTime": {
     "end_time": "2024-02-26T15:46:40.906084500Z",
     "start_time": "2024-02-26T15:46:40.801089300Z"
    }
   },
   "id": "cbf72a1ad72fb292",
   "execution_count": 17
  },
  {
   "cell_type": "code",
   "outputs": [],
   "source": [
    "class BERTClass(torch.nn.Module):\n",
    "    def __init__(self):\n",
    "        super(BERTClass, self).__init__()\n",
    "        self.l1 = DistilBertModel.from_pretrained(\"distilbert-base-multilingual-cased\")\n",
    "        self.pre_classifier = torch.nn.Linear(768, 768)\n",
    "        self.dropout = torch.nn.Dropout(0.3)\n",
    "        self.classifier = torch.nn.Linear(768, 8)\n",
    "        self.sigmoid = torch.nn.Sigmoid()\n",
    "        \n",
    "    def forward(self, input_ids, attention_mask, token_type_ids):\n",
    "        output_1 = self.l1(input_ids=input_ids, attention_mask=attention_mask)\n",
    "        hidden_state = output_1[0]\n",
    "        pooler = hidden_state[:, 0]\n",
    "        pooler = self.pre_classifier(pooler)\n",
    "        pooler = torch.nn.Tanh()(pooler)\n",
    "        pooler = self.dropout(pooler)\n",
    "        pooler = self.classifier(pooler)\n",
    "        output = self.sigmoid(pooler)\n",
    "        \n",
    "        return output"
   ],
   "metadata": {
    "collapsed": false,
    "ExecuteTime": {
     "end_time": "2024-02-26T15:46:40.909085800Z",
     "start_time": "2024-02-26T15:46:40.815086400Z"
    }
   },
   "id": "7fccbde71b8662c5",
   "execution_count": 18
  },
  {
   "cell_type": "code",
   "outputs": [
    {
     "data": {
      "text/plain": "BERTClass(\n  (l1): DistilBertModel(\n    (embeddings): Embeddings(\n      (word_embeddings): Embedding(119547, 768, padding_idx=0)\n      (position_embeddings): Embedding(512, 768)\n      (LayerNorm): LayerNorm((768,), eps=1e-12, elementwise_affine=True)\n      (dropout): Dropout(p=0.1, inplace=False)\n    )\n    (transformer): Transformer(\n      (layer): ModuleList(\n        (0-5): 6 x TransformerBlock(\n          (attention): MultiHeadSelfAttention(\n            (dropout): Dropout(p=0.1, inplace=False)\n            (q_lin): Linear(in_features=768, out_features=768, bias=True)\n            (k_lin): Linear(in_features=768, out_features=768, bias=True)\n            (v_lin): Linear(in_features=768, out_features=768, bias=True)\n            (out_lin): Linear(in_features=768, out_features=768, bias=True)\n          )\n          (sa_layer_norm): LayerNorm((768,), eps=1e-12, elementwise_affine=True)\n          (ffn): FFN(\n            (dropout): Dropout(p=0.1, inplace=False)\n            (lin1): Linear(in_features=768, out_features=3072, bias=True)\n            (lin2): Linear(in_features=3072, out_features=768, bias=True)\n            (activation): GELUActivation()\n          )\n          (output_layer_norm): LayerNorm((768,), eps=1e-12, elementwise_affine=True)\n        )\n      )\n    )\n  )\n  (pre_classifier): Linear(in_features=768, out_features=768, bias=True)\n  (dropout): Dropout(p=0.3, inplace=False)\n  (classifier): Linear(in_features=768, out_features=8, bias=True)\n  (sigmoid): Sigmoid()\n)"
     },
     "execution_count": 19,
     "metadata": {},
     "output_type": "execute_result"
    }
   ],
   "source": [
    "model = BERTClass()\n",
    "model.to(device)"
   ],
   "metadata": {
    "collapsed": false,
    "ExecuteTime": {
     "end_time": "2024-02-26T15:46:43.617127Z",
     "start_time": "2024-02-26T15:46:40.830086800Z"
    }
   },
   "id": "ee90deb2bcb98ceb",
   "execution_count": 19
  },
  {
   "cell_type": "code",
   "outputs": [
    {
     "name": "stdout",
     "output_type": "stream",
     "text": [
      "tensor([ 0.5086,  3.8727,  8.7254, 34.4179,  3.8627,  3.9232,  0.1824,  2.4642],\n",
      "       device='cuda:0')\n"
     ]
    }
   ],
   "source": [
    "pos_weights = []\n",
    "for target in target_list:\n",
    "    num_positive = (data[target] == 1).sum()\n",
    "    num_negative = len(data[target]) - num_positive\n",
    "    pos_weights.append(num_negative/num_positive)\n",
    "\n",
    "pos_weights = torch.Tensor(pos_weights).to(device)\n",
    "print(pos_weights)"
   ],
   "metadata": {
    "collapsed": false,
    "ExecuteTime": {
     "end_time": "2024-02-26T15:46:43.707127700Z",
     "start_time": "2024-02-26T15:46:43.606150300Z"
    }
   },
   "id": "ce93bba7310ff78e",
   "execution_count": 20
  },
  {
   "cell_type": "code",
   "outputs": [],
   "source": [
    "def loss_function(output, target):\n",
    "    return torch.nn.BCEWithLogitsLoss(pos_weight=pos_weights)(output, target)\n",
    "\n",
    "def metrics_function(output, target):\n",
    "    metNone = MultilabelStatScores(num_labels=8, average='none', threshold=0.5).to(device)\n",
    "    metMicro = MultilabelStatScores(num_labels=8, average='micro', threshold=0.5).to(device)\n",
    "    metMacro = MultilabelStatScores(num_labels=8, average='macro', threshold=0.5).to(device)\n",
    "    metWeighted = MultilabelStatScores(num_labels=8, average='weighted', threshold=0.5).to(device)\n",
    "    output_text = f'Metrics [TP, FP, TN, FN, SUP]: \\tNone: {metNone(output, target)} \\tMicro: {metMicro(output, target)} \\tMacro: {metMacro(output, target)} \\tWeighted: {metWeighted(output, target)}'\n",
    "    \n",
    "    del metNone, metMicro, metMacro, metWeighted\n",
    "    torch.cuda.empty_cache()\n",
    "    \n",
    "    return output_text\n",
    "\n",
    "def accuracy_function(output, target):\n",
    "    mlaNone = MultilabelAccuracy(num_labels=8, average='none', threshold=0.5).to(device)\n",
    "    mlaMicro = MultilabelAccuracy(num_labels=8, average='micro', threshold=0.5).to(device)\n",
    "    mlaMacro = MultilabelAccuracy(num_labels=8, average='macro', threshold=0.5).to(device)\n",
    "    mlaWeighted = MultilabelAccuracy(num_labels=8, average='weighted', threshold=0.5).to(device)\n",
    "    output_text = f'Accuracy: \\tNone: {mlaNone(output, target)} \\tMicro: {mlaMicro(output, target)} \\tMacro: {mlaMacro(output, target)} \\tWeighted: {mlaWeighted(output, target)}'\n",
    "    \n",
    "    del mlaNone, mlaMicro, mlaMacro, mlaWeighted\n",
    "    torch.cuda.empty_cache()\n",
    "    \n",
    "    return output_text\n",
    "\n",
    "def f1_score_function(output, target):    \n",
    "    mlf1None = MultilabelF1Score(num_labels=8, average='none', threshold=0.5).to(device)\n",
    "    mlf1Micro = MultilabelF1Score(num_labels=8, average='micro', threshold=0.5).to(device)\n",
    "    mlf1Macro = MultilabelF1Score(num_labels=8, average='macro', threshold=0.5).to(device)\n",
    "    mlf1Weighted = MultilabelF1Score(num_labels=8, average='weighted', threshold=0.5).to(device)\n",
    "    output_text = f'F1 Score: \\tNone: {mlf1None(output, target)} \\tMicro: {mlf1Micro(output, target)} \\tMacro: {mlf1Macro(output, target)} \\tWeighted: {mlf1Weighted(output, target)}'\n",
    "    \n",
    "    del mlf1None, mlf1Micro, mlf1Macro, mlf1Weighted\n",
    "    torch.cuda.empty_cache()\n",
    "    \n",
    "    return output_text\n",
    "\n",
    "optimizer = torch.optim.Adam(params=model.parameters(), lr=LEARNING_RATE)"
   ],
   "metadata": {
    "collapsed": false,
    "ExecuteTime": {
     "end_time": "2024-02-26T15:46:44.613130500Z",
     "start_time": "2024-02-26T15:46:43.691133300Z"
    }
   },
   "id": "5c65abe9e8d153af",
   "execution_count": 21
  },
  {
   "cell_type": "code",
   "outputs": [],
   "source": [
    "def train_model(n_epochs, training_loader, validation_loader, model, optimizer, checkpoint_path, best_model_path):\n",
    "    valid_loss_min = np.Inf\n",
    "    model_start_time = timer()\n",
    "    for epoch in range(1, n_epochs+1):\n",
    "        epoch_start_time = timer()\n",
    "        train_loss = 0.0\n",
    "        valid_loss = 0.0\n",
    "        \n",
    "        # Training Loop\n",
    "        model.train()\n",
    "        \n",
    "        train_output = torch.Tensor().to(device)\n",
    "        train_target = torch.Tensor().to(device)\n",
    "        \n",
    "        for index, batch in enumerate(training_loader, 0):\n",
    "            input_ids = batch['input_ids'].to(device, dtype=torch.long)\n",
    "            attention_mask = batch['attention_mask'].to(device, dtype=torch.long)\n",
    "            token_type_ids = batch['token_type_ids'].to(device, dtype=torch.long)\n",
    "            targets = batch['targets'].to(device, dtype=torch.float)\n",
    "            \n",
    "            outputs = model(input_ids, attention_mask, token_type_ids)\n",
    "            \n",
    "            del input_ids, attention_mask, token_type_ids\n",
    "            torch.cuda.empty_cache()\n",
    "            \n",
    "            # optimizer.zero_grad()\n",
    "            loss = loss_function(outputs, targets)\n",
    "            optimizer.zero_grad()\n",
    "            loss.backward()\n",
    "            optimizer.step()\n",
    "            train_loss += (1/(index+1))*(loss.item()-train_loss)\n",
    "            \n",
    "            train_output = torch.cat((train_output, outputs), dim=0)\n",
    "            train_target = torch.cat((train_target, targets), dim=0)\n",
    "        \n",
    "        train_metrics = metrics_function(train_output, train_target)\n",
    "        train_accuracy = accuracy_function(train_output, train_target)\n",
    "        train_f1_score = f1_score_function(train_output, train_target)\n",
    "            \n",
    "        del train_output, train_target\n",
    "        torch.cuda.empty_cache()\n",
    "        \n",
    "        # Validation Loop\n",
    "        model.eval()\n",
    "        \n",
    "        validation_output = torch.Tensor().to(device)\n",
    "        validation_target = torch.Tensor().to(device)\n",
    "        \n",
    "        with torch.no_grad():\n",
    "            for index, batch in enumerate(validation_loader, 0):\n",
    "                input_ids = batch['input_ids'].to(device, dtype=torch.long)\n",
    "                attention_mask = batch['attention_mask'].to(device, dtype=torch.long)\n",
    "                token_type_ids = batch['token_type_ids'].to(device, dtype=torch.long)\n",
    "                targets = batch['targets'].to(device, dtype=torch.float)\n",
    "                \n",
    "                outputs = model(input_ids, attention_mask, token_type_ids)\n",
    "                \n",
    "                del input_ids, attention_mask, token_type_ids\n",
    "                torch.cuda.empty_cache()\n",
    "                \n",
    "                loss = loss_function(outputs, targets)\n",
    "                valid_loss += (1/(index+1))*(loss.item()-valid_loss)\n",
    "                \n",
    "                validation_output = torch.cat((validation_output, outputs), dim=0)\n",
    "                validation_target = torch.cat((validation_target, targets), dim=0)\n",
    "        \n",
    "        valid_metrics = metrics_function(validation_output, validation_target)\n",
    "        valid_accuracy = accuracy_function(validation_output, validation_target)\n",
    "        valid_f1_score = f1_score_function(validation_output, validation_target)\n",
    "                \n",
    "        checkpoint = {\n",
    "            'epoch': epoch,\n",
    "            'valid_loss_min': valid_loss,\n",
    "            'state_dict': model.state_dict(),\n",
    "            'optimizer': optimizer.state_dict()\n",
    "        }\n",
    "        \n",
    "        if valid_loss < valid_loss_min:\n",
    "            valid_loss_min = valid_loss\n",
    "            save_checkpoint(checkpoint, True, checkpoint_path, best_model_path)\n",
    "        else:\n",
    "            save_checkpoint(checkpoint, False, checkpoint_path, best_model_path)\n",
    "        \n",
    "        print(f'\\n\\nEpoch: {epoch} \\tTime: {int(timer()-epoch_start_time)}s \\tTraining Loss: {train_loss} \\tValidation Loss: {valid_loss}')\n",
    "        print(f'\\tTraining: \\n\\t\\t{train_metrics} \\n\\t\\t{train_accuracy} \\n\\t\\t{train_f1_score}')\n",
    "        print(f'\\tValidation: \\n\\t\\t{valid_metrics} \\n\\t\\t{valid_accuracy} \\n\\t\\t{valid_f1_score}')\n",
    "        del valid_loss, valid_metrics, valid_accuracy, valid_f1_score, train_metrics, train_accuracy, train_f1_score\n",
    "        torch.cuda.empty_cache()\n",
    "        \n",
    "    print(f'\\n\\nTraining time: {int(timer()-model_start_time)}s')\n",
    "    return model"
   ],
   "metadata": {
    "collapsed": false,
    "ExecuteTime": {
     "end_time": "2024-02-26T15:46:44.641130200Z",
     "start_time": "2024-02-26T15:46:44.614131600Z"
    }
   },
   "id": "40390e5e2ca36958",
   "execution_count": 22
  },
  {
   "cell_type": "markdown",
   "source": [
    "# Train and evaluate"
   ],
   "metadata": {
    "collapsed": false
   },
   "id": "e6661621cfb8ea3f"
  },
  {
   "cell_type": "code",
   "outputs": [],
   "source": [
    "CHECKPOINT_PATH = './model/checkpoint.pth'\n",
    "BEST_MODEL_PATH = './model/best_model.pth'"
   ],
   "metadata": {
    "collapsed": false,
    "ExecuteTime": {
     "end_time": "2024-02-26T15:46:44.680128200Z",
     "start_time": "2024-02-26T15:46:44.632130400Z"
    }
   },
   "id": "ef67bbd5acbea362",
   "execution_count": 23
  },
  {
   "cell_type": "code",
   "outputs": [
    {
     "name": "stdout",
     "output_type": "stream",
     "text": [
      "\n",
      "\n",
      "Epoch: 1 \tTime: 55s \tTraining Loss: 0.9838847200075783 \tValidation Loss: 0.9167718067765235\n",
      "\tTraining: \n",
      "\t\tMetrics [TP, FP, TN, FN, SUP]: \tNone: tensor([[ 768,  391,  256,  483, 1251],\n",
      "        [  14,   57, 1454,  373,  387],\n",
      "        [  36,  362, 1337,  163,  199],\n",
      "        [  13,  200, 1638,   47,   60],\n",
      "        [  89,  272, 1223,  314,  403],\n",
      "        [  23,   69, 1446,  360,  383],\n",
      "        [ 339,   52,  238, 1269, 1608],\n",
      "        [ 107,  173, 1169,  449,  556]], device='cuda:0') \tMicro: tensor([1389, 1576, 8761, 3458, 4847], device='cuda:0') \tMacro: tensor([ 173.6250,  197.0000, 1095.1250,  432.2500,  605.8750],\n",
      "       device='cuda:0') \tWeighted: tensor([ 334.9309,  187.9688,  686.3322,  688.7681, 1023.6990],\n",
      "       device='cuda:0') \n",
      "\t\tAccuracy: \tNone: tensor([0.5395, 0.7734, 0.7234, 0.8699, 0.6913, 0.7740, 0.3040, 0.6723],\n",
      "       device='cuda:0') \tMicro: 0.6684668064117432 \tMacro: 0.6684668064117432 \tWeighted: 0.5380732417106628 \n",
      "\t\tF1 Score: \tNone: tensor([0.6373, 0.0611, 0.1206, 0.0952, 0.2330, 0.0968, 0.3392, 0.2560],\n",
      "       device='cuda:0') \tMicro: 0.3556067645549774 \tMacro: 0.22991222143173218 \tWeighted: 0.344416081905365\n",
      "\tValidation: \n",
      "\t\tMetrics [TP, FP, TN, FN, SUP]: \tNone: tensor([[ 10,   8, 145, 312, 322],\n",
      "        [  0,   0, 375, 100, 100],\n",
      "        [  0,   0, 430,  45,  45],\n",
      "        [  0,   0, 468,   7,   7],\n",
      "        [  0,   0, 390,  85,  85],\n",
      "        [  0,   0, 376,  99,  99],\n",
      "        [  6,   0,  76, 393, 399],\n",
      "        [  0,   0, 346, 129, 129]], device='cuda:0') \tMicro: tensor([  16,    8, 2606, 1170, 1186], device='cuda:0') \tMacro: tensor([  2.0000,   1.0000, 325.7500, 146.2500, 148.2500], device='cuda:0') \tWeighted: tensor([  4.7336,   2.1720, 212.6037, 255.4907, 260.2243], device='cuda:0') \n",
      "\t\tAccuracy: \tNone: tensor([0.3263, 0.7895, 0.9053, 0.9853, 0.8211, 0.7916, 0.1726, 0.7284],\n",
      "       device='cuda:0') \tMicro: 0.6899999976158142 \tMacro: 0.6899999976158142 \tWeighted: 0.45755213499069214 \n",
      "\t\tF1 Score: \tNone: tensor([0.0588, 0.0000, 0.0000, 0.0000, 0.0000, 0.0000, 0.0296, 0.0000],\n",
      "       device='cuda:0') \tMicro: 0.026446281000971794 \tMacro: 0.011056644842028618 \tWeighted: 0.025938784703612328\n",
      "\n",
      "\n",
      "Epoch: 2 \tTime: 53s \tTraining Loss: 0.9618155042330424 \tValidation Loss: 0.899542234838009\n",
      "\tTraining: \n",
      "\t\tMetrics [TP, FP, TN, FN, SUP]: \tNone: tensor([[  85,   39,  608, 1166, 1251],\n",
      "        [   0,    0, 1511,  387,  387],\n",
      "        [   0,    0, 1699,  199,  199],\n",
      "        [   1,    3, 1835,   59,   60],\n",
      "        [   0,    0, 1495,  403,  403],\n",
      "        [   0,    1, 1514,  383,  383],\n",
      "        [  84,   18,  272, 1524, 1608],\n",
      "        [   7,    3, 1339,  549,  556]], device='cuda:0') \tMicro: tensor([  177,    64, 10273,  4670,  4847], device='cuda:0') \tMacro: tensor([  22.1250,    8.0000, 1284.1250,  583.7500,  605.8750],\n",
      "       device='cuda:0') \tWeighted: tensor([  50.6208,   16.4976,  857.8034,  973.0782, 1023.6990],\n",
      "       device='cuda:0') \n",
      "\t\tAccuracy: \tNone: tensor([0.3651, 0.7961, 0.8952, 0.9673, 0.7877, 0.7977, 0.1876, 0.7092],\n",
      "       device='cuda:0') \tMicro: 0.6882244348526001 \tMacro: 0.6882244348526001 \tWeighted: 0.47862178087234497 \n",
      "\t\tF1 Score: \tNone: tensor([0.1236, 0.0000, 0.0000, 0.0312, 0.0000, 0.0000, 0.0982, 0.0247],\n",
      "       device='cuda:0') \tMicro: 0.0695754736661911 \tMacro: 0.0347333699464798 \tWeighted: 0.06772760301828384\n",
      "\tValidation: \n",
      "\t\tMetrics [TP, FP, TN, FN, SUP]: \tNone: tensor([[  0,   0, 153, 322, 322],\n",
      "        [  0,   0, 375, 100, 100],\n",
      "        [  0,   0, 430,  45,  45],\n",
      "        [  2,  81, 387,   5,   7],\n",
      "        [  0,   0, 390,  85,  85],\n",
      "        [  0,   0, 376,  99,  99],\n",
      "        [  0,   0,  76, 399, 399],\n",
      "        [  0,   0, 346, 129, 129]], device='cuda:0') \tMicro: tensor([   2,   81, 2533, 1184, 1186], device='cuda:0') \tMacro: tensor([2.5000e-01, 1.0125e+01, 3.1662e+02, 1.4800e+02, 1.4825e+02],\n",
      "       device='cuda:0') \tWeighted: tensor([1.1804e-02, 4.7808e-01, 2.1430e+02, 2.6021e+02, 2.6022e+02],\n",
      "       device='cuda:0') \n",
      "\t\tAccuracy: \tNone: tensor([0.3221, 0.7895, 0.9053, 0.8189, 0.8211, 0.7916, 0.1600, 0.7284],\n",
      "       device='cuda:0') \tMicro: 0.6671052575111389 \tMacro: 0.6671052575111389 \tWeighted: 0.4511777460575104 \n",
      "\t\tF1 Score: \tNone: tensor([0.0000, 0.0000, 0.0000, 0.0444, 0.0000, 0.0000, 0.0000, 0.0000],\n",
      "       device='cuda:0') \tMicro: 0.003152088262140751 \tMacro: 0.0055555556900799274 \tWeighted: 0.0002623196633066982\n",
      "\n",
      "\n",
      "Epoch: 3 \tTime: 51s \tTraining Loss: 0.947700794537862 \tValidation Loss: 0.8945722952485085\n",
      "\tTraining: \n",
      "\t\tMetrics [TP, FP, TN, FN, SUP]: \tNone: tensor([[   8,    8,  639, 1243, 1251],\n",
      "        [   0,    1, 1510,  387,  387],\n",
      "        [   1,    9, 1690,  198,  199],\n",
      "        [  29,  450, 1388,   31,   60],\n",
      "        [  29,   33, 1462,  374,  403],\n",
      "        [   0,    0, 1515,  383,  383],\n",
      "        [  57,    4,  286, 1551, 1608],\n",
      "        [ 273,  314, 1028,  283,  556]], device='cuda:0') \tMicro: tensor([ 397,  819, 9518, 4450, 4847], device='cuda:0') \tMacro: tensor([  49.6250,  102.3750, 1189.7500,  556.2500,  605.8750],\n",
      "       device='cuda:0') \tWeighted: tensor([  55.1017,   48.1743,  826.1266,  968.5973, 1023.6990],\n",
      "       device='cuda:0') \n",
      "\t\tAccuracy: \tNone: tensor([0.3409, 0.7956, 0.8909, 0.7466, 0.7856, 0.7982, 0.1807, 0.6855],\n",
      "       device='cuda:0') \tMicro: 0.6529899835586548 \tMacro: 0.6529899835586548 \tWeighted: 0.46429315209388733 \n",
      "\t\tF1 Score: \tNone: tensor([0.0126, 0.0000, 0.0096, 0.1076, 0.1247, 0.0000, 0.0683, 0.4777],\n",
      "       device='cuda:0') \tMicro: 0.13095827400684357 \tMacro: 0.10006626695394516 \tWeighted: 0.09281092882156372\n",
      "\tValidation: \n",
      "\t\tMetrics [TP, FP, TN, FN, SUP]: \tNone: tensor([[  0,   0, 153, 322, 322],\n",
      "        [  0,   0, 375, 100, 100],\n",
      "        [  8,  40, 390,  37,  45],\n",
      "        [  3, 111, 357,   4,   7],\n",
      "        [ 16,  42, 348,  69,  85],\n",
      "        [  0,   0, 376,  99,  99],\n",
      "        [  2,   0,  76, 397, 399],\n",
      "        [103, 159, 187,  26, 129]], device='cuda:0') \tMicro: tensor([ 132,  352, 2262, 1054, 1186], device='cuda:0') \tMacro: tensor([ 16.5000,  44.0000, 282.7500, 131.7500, 148.2500], device='cuda:0') \tWeighted: tensor([ 13.3440,  22.4772, 192.2985, 246.8803, 260.2243], device='cuda:0') \n",
      "\t\tAccuracy: \tNone: tensor([0.3221, 0.7895, 0.8379, 0.7579, 0.7663, 0.7916, 0.1642, 0.6105],\n",
      "       device='cuda:0') \tMicro: 0.6299999952316284 \tMacro: 0.6299999952316284 \tWeighted: 0.4329315721988678 \n",
      "\t\tF1 Score: \tNone: tensor([0.0000, 0.0000, 0.1720, 0.0496, 0.2238, 0.0000, 0.0100, 0.5269],\n",
      "       device='cuda:0') \tMicro: 0.15808382630348206 \tMacro: 0.12277941405773163 \tWeighted: 0.08351961523294449\n",
      "\n",
      "\n",
      "Epoch: 4 \tTime: 51s \tTraining Loss: 0.9391643365224204 \tValidation Loss: 0.8931262642145157\n",
      "\tTraining: \n",
      "\t\tMetrics [TP, FP, TN, FN, SUP]: \tNone: tensor([[   4,    4,  643, 1247, 1251],\n",
      "        [   1,    0, 1511,  386,  387],\n",
      "        [  67,  276, 1423,  132,  199],\n",
      "        [  31,  426, 1412,   29,   60],\n",
      "        [  98,  179, 1316,  305,  403],\n",
      "        [   0,    2, 1513,  383,  383],\n",
      "        [ 104,    6,  284, 1504, 1608],\n",
      "        [ 375,  406,  936,  181,  556]], device='cuda:0') \tMicro: tensor([ 680, 1299, 9038, 4167, 4847], device='cuda:0') \tMacro: tensor([  85.0000,  162.3750, 1129.7500,  520.8750,  605.8750],\n",
      "       device='cuda:0') \tWeighted: tensor([  89.9134,   81.2410,  793.0601,  933.7856, 1023.6990],\n",
      "       device='cuda:0') \n",
      "\t\tAccuracy: \tNone: tensor([0.3409, 0.7966, 0.7850, 0.7603, 0.7450, 0.7972, 0.2044, 0.6907],\n",
      "       device='cuda:0') \tMicro: 0.6400157809257507 \tMacro: 0.6400158405303955 \tWeighted: 0.46521252393722534 \n",
      "\t\tF1 Score: \tNone: tensor([0.0064, 0.0052, 0.2472, 0.1199, 0.2882, 0.0000, 0.1211, 0.5610],\n",
      "       device='cuda:0') \tMicro: 0.19923821091651917 \tMacro: 0.16861596703529358 \tWeighted: 0.14216461777687073\n",
      "\tValidation: \n",
      "\t\tMetrics [TP, FP, TN, FN, SUP]: \tNone: tensor([[  0,   0, 153, 322, 322],\n",
      "        [  0,   0, 375, 100, 100],\n",
      "        [ 13,  70, 360,  32,  45],\n",
      "        [  3, 101, 367,   4,   7],\n",
      "        [ 19,  55, 335,  66,  85],\n",
      "        [  0,   0, 376,  99,  99],\n",
      "        [ 24,   0,  76, 375, 399],\n",
      "        [102, 149, 197,  27, 129]], device='cuda:0') \tMicro: tensor([ 161,  375, 2239, 1025, 1186], device='cuda:0') \tMacro: tensor([ 20.1250,  46.8750, 279.8750, 128.1250, 148.2500], device='cuda:0') \tWeighted: tensor([ 21.0413,  23.4005, 191.3752, 239.1830, 260.2243], device='cuda:0') \n",
      "\t\tAccuracy: \tNone: tensor([0.3221, 0.7895, 0.7853, 0.7789, 0.7453, 0.7916, 0.2105, 0.6295],\n",
      "       device='cuda:0') \tMicro: 0.6315789222717285 \tMacro: 0.6315789222717285 \tWeighted: 0.4471926689147949 \n",
      "\t\tF1 Score: \tNone: tensor([0.0000, 0.0000, 0.2031, 0.0541, 0.2390, 0.0000, 0.1135, 0.5368],\n",
      "       device='cuda:0') \tMicro: 0.1869918704032898 \tMacro: 0.1433112621307373 \tWeighted: 0.12172234058380127\n",
      "\n",
      "\n",
      "Epoch: 5 \tTime: 51s \tTraining Loss: 0.9318790396054586 \tValidation Loss: 0.8887900710105895\n",
      "\tTraining: \n",
      "\t\tMetrics [TP, FP, TN, FN, SUP]: \tNone: tensor([[   3,    0,  647, 1248, 1251],\n",
      "        [   3,    1, 1510,  384,  387],\n",
      "        [  58,  221, 1478,  141,  199],\n",
      "        [  32,  378, 1460,   28,   60],\n",
      "        [  97,  180, 1315,  306,  403],\n",
      "        [   7,    6, 1509,  376,  383],\n",
      "        [ 122,    3,  287, 1486, 1608],\n",
      "        [ 405,  412,  930,  151,  556]], device='cuda:0') \tMicro: tensor([ 727, 1201, 9136, 4120, 4847], device='cuda:0') \tMacro: tensor([  90.8750,  150.1250, 1142.0000,  515.0000,  605.8750],\n",
      "       device='cuda:0') \tWeighted: tensor([  99.3406,   77.5284,  796.7726,  924.3584, 1023.6990],\n",
      "       device='cuda:0') \n",
      "\t\tAccuracy: \tNone: tensor([0.3425, 0.7972, 0.8093, 0.7861, 0.7439, 0.7987, 0.2155, 0.7034],\n",
      "       device='cuda:0') \tMicro: 0.6495653390884399 \tMacro: 0.6495653390884399 \tWeighted: 0.4721355438232422 \n",
      "\t\tF1 Score: \tNone: tensor([0.0048, 0.0153, 0.2427, 0.1362, 0.2853, 0.0354, 0.1408, 0.5899],\n",
      "       device='cuda:0') \tMicro: 0.21461254358291626 \tMacro: 0.18129637837409973 \tWeighted: 0.15500585734844208\n",
      "\tValidation: \n",
      "\t\tMetrics [TP, FP, TN, FN, SUP]: \tNone: tensor([[  0,   0, 153, 322, 322],\n",
      "        [  0,   0, 375, 100, 100],\n",
      "        [ 13,  60, 370,  32,  45],\n",
      "        [  3,  96, 372,   4,   7],\n",
      "        [ 17,  55, 335,  68,  85],\n",
      "        [  7,   7, 369,  92,  99],\n",
      "        [ 53,   1,  75, 346, 399],\n",
      "        [ 95, 131, 215,  34, 129]], device='cuda:0') \tMicro: tensor([ 188,  350, 2264,  998, 1186], device='cuda:0') \tMacro: tensor([ 23.5000,  43.7500, 283.0000, 124.7500, 148.2500], device='cuda:0') \tWeighted: tensor([ 30.4772,  21.9545, 192.8212, 229.7471, 260.2243], device='cuda:0') \n",
      "\t\tAccuracy: \tNone: tensor([0.3221, 0.7895, 0.8063, 0.7895, 0.7411, 0.7916, 0.2695, 0.6526],\n",
      "       device='cuda:0') \tMicro: 0.645263135433197 \tMacro: 0.6452631950378418 \tWeighted: 0.47010207176208496 \n",
      "\t\tF1 Score: \tNone: tensor([0.0000, 0.0000, 0.2203, 0.0566, 0.2166, 0.1239, 0.2340, 0.5352],\n",
      "       device='cuda:0') \tMicro: 0.21809744834899902 \tMacro: 0.17332549393177032 \tWeighted: 0.17149335145950317\n",
      "\n",
      "\n",
      "Epoch: 6 \tTime: 30s \tTraining Loss: 0.9229248027006784 \tValidation Loss: 0.8909902125597\n",
      "\tTraining: \n",
      "\t\tMetrics [TP, FP, TN, FN, SUP]: \tNone: tensor([[  62,    8,  639, 1189, 1251],\n",
      "        [  12,   10, 1501,  375,  387],\n",
      "        [  65,  205, 1494,  134,  199],\n",
      "        [  33,  282, 1556,   27,   60],\n",
      "        [  83,  149, 1346,  320,  403],\n",
      "        [  50,   63, 1452,  333,  383],\n",
      "        [ 160,    6,  284, 1448, 1608],\n",
      "        [ 408,  385,  957,  148,  556]], device='cuda:0') \tMicro: tensor([ 873, 1108, 9229, 3974, 4847], device='cuda:0') \tMacro: tensor([ 109.1250,  138.5000, 1153.6250,  496.7500,  605.8750],\n",
      "       device='cuda:0') \tWeighted: tensor([ 130.7712,   78.2911,  796.0099,  892.9278, 1023.6990],\n",
      "       device='cuda:0') \n",
      "\t\tAccuracy: \tNone: tensor([0.3693, 0.7972, 0.8214, 0.8372, 0.7529, 0.7914, 0.2339, 0.7192],\n",
      "       device='cuda:0') \tMicro: 0.6653056144714355 \tMacro: 0.6653056144714355 \tWeighted: 0.48829349875450134 \n",
      "\t\tF1 Score: \tNone: tensor([0.0939, 0.0587, 0.2772, 0.1760, 0.2614, 0.2016, 0.1804, 0.6049],\n",
      "       device='cuda:0') \tMicro: 0.25571176409721375 \tMacro: 0.23175494372844696 \tWeighted: 0.20936739444732666\n",
      "\tValidation: \n",
      "\t\tMetrics [TP, FP, TN, FN, SUP]: \tNone: tensor([[  1,   0, 153, 321, 322],\n",
      "        [  8,  12, 363,  92, 100],\n",
      "        [ 10,  64, 366,  35,  45],\n",
      "        [  2,  74, 394,   5,   7],\n",
      "        [ 15,  53, 337,  70,  85],\n",
      "        [ 38,  57, 319,  61,  99],\n",
      "        [ 58,   2,  74, 341, 399],\n",
      "        [ 95, 123, 223,  34, 129]], device='cuda:0') \tMicro: tensor([ 227,  385, 2229,  959, 1186], device='cuda:0') \tMacro: tensor([ 28.3750,  48.1250, 278.6250, 119.8750, 148.2500], device='cuda:0') \tWeighted: tensor([ 35.4300,  26.4848, 188.2909, 224.7943, 260.2243], device='cuda:0') \n",
      "\t\tAccuracy: \tNone: tensor([0.3242, 0.7811, 0.7916, 0.8337, 0.7411, 0.7516, 0.2779, 0.6695],\n",
      "       device='cuda:0') \tMicro: 0.6463158130645752 \tMacro: 0.6463158130645752 \tWeighted: 0.4709913730621338 \n",
      "\t\tF1 Score: \tNone: tensor([0.0062, 0.1333, 0.1681, 0.0482, 0.1961, 0.3918, 0.2527, 0.5476],\n",
      "       device='cuda:0') \tMicro: 0.25250276923179626 \tMacro: 0.21798625588417053 \tWeighted: 0.2109176218509674\n",
      "\n",
      "\n",
      "Epoch: 7 \tTime: 48s \tTraining Loss: 0.9112017552057902 \tValidation Loss: 0.8840600475668907\n",
      "\tTraining: \n",
      "\t\tMetrics [TP, FP, TN, FN, SUP]: \tNone: tensor([[ 147,   14,  633, 1104, 1251],\n",
      "        [  36,   68, 1443,  351,  387],\n",
      "        [  73,  174, 1525,  126,  199],\n",
      "        [  38,  217, 1621,   22,   60],\n",
      "        [ 100,  139, 1356,  303,  403],\n",
      "        [ 130,  162, 1353,  253,  383],\n",
      "        [ 190,    3,  287, 1418, 1608],\n",
      "        [ 370,  307, 1035,  186,  556]], device='cuda:0') \tMicro: tensor([1084, 1084, 9253, 3763, 4847], device='cuda:0') \tMacro: tensor([ 135.5000,  135.5000, 1156.6250,  470.3750,  605.8750],\n",
      "       device='cuda:0') \tWeighted: tensor([ 168.3445,   79.4419,  794.8591,  855.3544, 1023.6990],\n",
      "       device='cuda:0') \n",
      "\t\tAccuracy: \tNone: tensor([0.4110, 0.7792, 0.8419, 0.8741, 0.7671, 0.7813, 0.2513, 0.7403],\n",
      "       device='cuda:0') \tMicro: 0.6807823777198792 \tMacro: 0.6807824373245239 \tWeighted: 0.5074834823608398 \n",
      "\t\tF1 Score: \tNone: tensor([0.2082, 0.1466, 0.3274, 0.2413, 0.3115, 0.3852, 0.2110, 0.6002],\n",
      "       device='cuda:0') \tMicro: 0.3090520203113556 \tMacro: 0.30391833186149597 \tWeighted: 0.2770550847053528\n",
      "\tValidation: \n",
      "\t\tMetrics [TP, FP, TN, FN, SUP]: \tNone: tensor([[ 56,  16, 137, 266, 322],\n",
      "        [  9,  18, 357,  91, 100],\n",
      "        [  5,  32, 398,  40,  45],\n",
      "        [  1,  26, 442,   6,   7],\n",
      "        [  4,  23, 367,  81,  85],\n",
      "        [ 37,  40, 336,  62,  99],\n",
      "        [ 26,   0,  76, 373, 399],\n",
      "        [ 73,  92, 254,  56, 129]], device='cuda:0') \tMicro: tensor([ 211,  247, 2367,  975, 1186], device='cuda:0') \tMacro: tensor([ 26.3750,  30.8750, 295.8750, 121.8750, 148.2500], device='cuda:0') \tWeighted: tensor([ 36.2209,  22.2234, 192.5523, 224.0034, 260.2243], device='cuda:0') \n",
      "\t\tAccuracy: \tNone: tensor([0.4063, 0.7705, 0.8484, 0.9326, 0.7811, 0.7853, 0.2147, 0.6884],\n",
      "       device='cuda:0') \tMicro: 0.6784210801124573 \tMacro: 0.6784210801124573 \tWeighted: 0.48162776231765747 \n",
      "\t\tF1 Score: \tNone: tensor([0.2843, 0.1417, 0.1220, 0.0588, 0.0714, 0.4205, 0.1224, 0.4966],\n",
      "       device='cuda:0') \tMicro: 0.25669100880622864 \tMacro: 0.21470069885253906 \tWeighted: 0.22949601709842682\n",
      "\n",
      "\n",
      "Epoch: 8 \tTime: 29s \tTraining Loss: 0.9024610559145609 \tValidation Loss: 0.8896906077861786\n",
      "\tTraining: \n",
      "\t\tMetrics [TP, FP, TN, FN, SUP]: \tNone: tensor([[ 302,   46,  601,  949, 1251],\n",
      "        [  67,  123, 1388,  320,  387],\n",
      "        [  77,  199, 1500,  122,  199],\n",
      "        [  42,  197, 1641,   18,   60],\n",
      "        [ 103,  140, 1355,  300,  403],\n",
      "        [ 161,  173, 1342,  222,  383],\n",
      "        [ 243,   10,  280, 1365, 1608],\n",
      "        [ 360,  277, 1065,  196,  556]], device='cuda:0') \tMicro: tensor([1355, 1165, 9172, 3492, 4847], device='cuda:0') \tMacro: tensor([ 169.3750,  145.6250, 1146.5000,  436.5000,  605.8750],\n",
      "       device='cuda:0') \tWeighted: tensor([ 230.1733,   92.7046,  781.5964,  793.5257, 1023.6990],\n",
      "       device='cuda:0') \n",
      "\t\tAccuracy: \tNone: tensor([0.4758, 0.7666, 0.8309, 0.8867, 0.7682, 0.7919, 0.2756, 0.7508],\n",
      "       device='cuda:0') \tMicro: 0.6932955980300903 \tMacro: 0.6932955980300903 \tWeighted: 0.5330715179443359 \n",
      "\t\tF1 Score: \tNone: tensor([0.3777, 0.2322, 0.3242, 0.2809, 0.3189, 0.4491, 0.2611, 0.6035],\n",
      "       device='cuda:0') \tMicro: 0.3678566515445709 \tMacro: 0.35597100853919983 \tWeighted: 0.3506905734539032\n",
      "\tValidation: \n",
      "\t\tMetrics [TP, FP, TN, FN, SUP]: \tNone: tensor([[ 58,  15, 138, 264, 322],\n",
      "        [ 20,  50, 325,  80, 100],\n",
      "        [ 10,  76, 354,  35,  45],\n",
      "        [  1,  68, 400,   6,   7],\n",
      "        [ 16,  55, 335,  69,  85],\n",
      "        [ 54,  76, 300,  45,  99],\n",
      "        [ 88,   2,  74, 311, 399],\n",
      "        [ 82, 115, 231,  47, 129]], device='cuda:0') \tMicro: tensor([ 329,  457, 2157,  857, 1186], device='cuda:0') \tMacro: tensor([ 41.1250,  57.1250, 269.6250, 107.1250, 148.2500], device='cuda:0') \tWeighted: tensor([ 61.9975,  35.0405, 179.7352, 198.2268, 260.2243], device='cuda:0') \n",
      "\t\tAccuracy: \tNone: tensor([0.4126, 0.7263, 0.7663, 0.8442, 0.7389, 0.7453, 0.3411, 0.6589],\n",
      "       device='cuda:0') \tMicro: 0.6542105078697205 \tMacro: 0.6542105078697205 \tWeighted: 0.5089110136032104 \n",
      "\t\tF1 Score: \tNone: tensor([0.2937, 0.2353, 0.1527, 0.0263, 0.2051, 0.4716, 0.3599, 0.5031],\n",
      "       device='cuda:0') \tMicro: 0.3336713910102844 \tMacro: 0.2809602618217468 \tWeighted: 0.33539190888404846\n",
      "\n",
      "\n",
      "Epoch: 9 \tTime: 28s \tTraining Loss: 0.8923114577929179 \tValidation Loss: 0.893313929438591\n",
      "\tTraining: \n",
      "\t\tMetrics [TP, FP, TN, FN, SUP]: \tNone: tensor([[ 524,   85,  562,  727, 1251],\n",
      "        [  87,  142, 1369,  300,  387],\n",
      "        [  87,  202, 1497,  112,  199],\n",
      "        [  49,  192, 1646,   11,   60],\n",
      "        [ 122,  145, 1350,  281,  403],\n",
      "        [ 185,  197, 1318,  198,  383],\n",
      "        [ 278,    8,  282, 1330, 1608],\n",
      "        [ 329,  254, 1088,  227,  556]], device='cuda:0') \tMicro: tensor([1661, 1225, 9112, 3186, 4847], device='cuda:0') \tMacro: tensor([ 207.6250,  153.1250, 1139.0000,  398.2500,  605.8750],\n",
      "       device='cuda:0') \tWeighted: tensor([ 301.0966,  103.3590,  770.9420,  722.6024, 1023.6990],\n",
      "       device='cuda:0') \n",
      "\t\tAccuracy: \tNone: tensor([0.5722, 0.7671, 0.8346, 0.8930, 0.7756, 0.7919, 0.2950, 0.7466],\n",
      "       device='cuda:0') \tMicro: 0.7094968557357788 \tMacro: 0.7094968557357788 \tWeighted: 0.5648254156112671 \n",
      "\t\tF1 Score: \tNone: tensor([0.5634, 0.2825, 0.3566, 0.3256, 0.3642, 0.4837, 0.2936, 0.5777],\n",
      "       device='cuda:0') \tMicro: 0.4295874834060669 \tMacro: 0.40589308738708496 \tWeighted: 0.4187989830970764\n",
      "\tValidation: \n",
      "\t\tMetrics [TP, FP, TN, FN, SUP]: \tNone: tensor([[ 71,  15, 138, 251, 322],\n",
      "        [ 33,  93, 282,  67, 100],\n",
      "        [ 19, 134, 296,  26,  45],\n",
      "        [  2, 116, 352,   5,   7],\n",
      "        [ 38, 100, 290,  47,  85],\n",
      "        [ 52,  67, 309,  47,  99],\n",
      "        [161,   9,  67, 238, 399],\n",
      "        [ 87, 116, 230,  42, 129]], device='cuda:0') \tMicro: tensor([ 463,  650, 1964,  723, 1186], device='cuda:0') \tMacro: tensor([ 57.8750,  81.2500, 245.5000,  90.3750, 148.2500], device='cuda:0') \tWeighted: tensor([ 93.4831,  46.0877, 168.6880, 166.7411, 260.2243], device='cuda:0') \n",
      "\t\tAccuracy: \tNone: tensor([0.4400, 0.6632, 0.6632, 0.7453, 0.6905, 0.7600, 0.4800, 0.6674],\n",
      "       device='cuda:0') \tMicro: 0.6386842131614685 \tMacro: 0.6386842131614685 \tWeighted: 0.5519392490386963 \n",
      "\t\tF1 Score: \tNone: tensor([0.3480, 0.2920, 0.1919, 0.0320, 0.3408, 0.4771, 0.5659, 0.5241],\n",
      "       device='cuda:0') \tMicro: 0.4027838110923767 \tMacro: 0.34648334980010986 \tWeighted: 0.4382251799106598\n",
      "\n",
      "\n",
      "Epoch: 10 \tTime: 49s \tTraining Loss: 0.8849922180175782 \tValidation Loss: 0.8811665028333664\n",
      "\tTraining: \n",
      "\t\tMetrics [TP, FP, TN, FN, SUP]: \tNone: tensor([[ 577,   88,  559,  674, 1251],\n",
      "        [ 102,  167, 1344,  285,  387],\n",
      "        [ 102,  246, 1453,   97,  199],\n",
      "        [  53,  183, 1655,    7,   60],\n",
      "        [ 120,  169, 1326,  283,  403],\n",
      "        [ 191,  174, 1341,  192,  383],\n",
      "        [ 339,    9,  281, 1269, 1608],\n",
      "        [ 326,  241, 1101,  230,  556]], device='cuda:0') \tMicro: tensor([1810, 1277, 9060, 3037, 4847], device='cuda:0') \tMacro: tensor([ 226.2500,  159.6250, 1132.5000,  379.6250,  605.8750],\n",
      "       device='cuda:0') \tWeighted: tensor([ 336.8393,  106.8430,  767.4580,  686.8597, 1023.6990],\n",
      "       device='cuda:0') \n",
      "\t\tAccuracy: \tNone: tensor([0.5985, 0.7619, 0.8193, 0.8999, 0.7619, 0.8072, 0.3267, 0.7518],\n",
      "       device='cuda:0') \tMicro: 0.7158851623535156 \tMacro: 0.7158851623535156 \tWeighted: 0.5818215608596802 \n",
      "\t\tF1 Score: \tNone: tensor([0.6023, 0.3110, 0.3729, 0.3581, 0.3468, 0.5107, 0.3466, 0.5806],\n",
      "       device='cuda:0') \tMicro: 0.4562641680240631 \tMacro: 0.42863160371780396 \tWeighted: 0.45080846548080444\n",
      "\tValidation: \n",
      "\t\tMetrics [TP, FP, TN, FN, SUP]: \tNone: tensor([[130,  36, 117, 192, 322],\n",
      "        [ 18,  47, 328,  82, 100],\n",
      "        [  7,  68, 362,  38,  45],\n",
      "        [  1,  37, 431,   6,   7],\n",
      "        [ 14,  45, 345,  71,  85],\n",
      "        [ 55,  62, 314,  44,  99],\n",
      "        [ 68,   2,  74, 331, 399],\n",
      "        [ 66,  71, 275,  63, 129]], device='cuda:0') \tMicro: tensor([ 359,  368, 2246,  827, 1186], device='cuda:0') \tMacro: tensor([ 44.8750,  46.0000, 280.7500, 103.3750, 148.2500], device='cuda:0') \tWeighted: tensor([ 72.7344,  33.3314, 181.4444, 187.4899, 260.2243], device='cuda:0') \n",
      "\t\tAccuracy: \tNone: tensor([0.5200, 0.7284, 0.7768, 0.9095, 0.7558, 0.7768, 0.2989, 0.7179],\n",
      "       device='cuda:0') \tMicro: 0.6855263113975525 \tMacro: 0.6855263113975525 \tWeighted: 0.5351131558418274 \n",
      "\t\tF1 Score: \tNone: tensor([0.5328, 0.2182, 0.1167, 0.0444, 0.1944, 0.5093, 0.2900, 0.4962],\n",
      "       device='cuda:0') \tMicro: 0.3753267228603363 \tMacro: 0.3002503514289856 \tWeighted: 0.3757147192955017\n",
      "\n",
      "\n",
      "Epoch: 11 \tTime: 30s \tTraining Loss: 0.8752900282541912 \tValidation Loss: 0.8839695006608963\n",
      "\tTraining: \n",
      "\t\tMetrics [TP, FP, TN, FN, SUP]: \tNone: tensor([[ 703,  114,  533,  548, 1251],\n",
      "        [ 107,  158, 1353,  280,  387],\n",
      "        [ 111,  246, 1453,   88,  199],\n",
      "        [  53,  183, 1655,    7,   60],\n",
      "        [ 149,  178, 1317,  254,  403],\n",
      "        [ 214,  165, 1350,  169,  383],\n",
      "        [ 350,   13,  277, 1258, 1608],\n",
      "        [ 350,  242, 1100,  206,  556]], device='cuda:0') \tMicro: tensor([2037, 1299, 9038, 2810, 4847], device='cuda:0') \tMacro: tensor([ 254.6250,  162.3750, 1129.7500,  351.2500,  605.8750],\n",
      "       device='cuda:0') \tWeighted: tensor([ 380.7592,  114.3138,  759.9872,  642.9397, 1023.6990],\n",
      "       device='cuda:0') \n",
      "\t\tAccuracy: \tNone: tensor([0.6512, 0.7692, 0.8240, 0.8999, 0.7724, 0.8240, 0.3303, 0.7640],\n",
      "       device='cuda:0') \tMicro: 0.7293862104415894 \tMacro: 0.7293862104415894 \tWeighted: 0.6010255813598633 \n",
      "\t\tF1 Score: \tNone: tensor([0.6799, 0.3282, 0.3993, 0.3581, 0.4082, 0.5617, 0.3551, 0.6098],\n",
      "       device='cuda:0') \tMicro: 0.49786141514778137 \tMacro: 0.4625372886657715 \tWeighted: 0.48859918117523193\n",
      "\tValidation: \n",
      "\t\tMetrics [TP, FP, TN, FN, SUP]: \tNone: tensor([[144,  37, 116, 178, 322],\n",
      "        [ 22,  57, 318,  78, 100],\n",
      "        [  8,  71, 359,  37,  45],\n",
      "        [  1,  47, 421,   6,   7],\n",
      "        [ 17,  58, 332,  68,  85],\n",
      "        [ 63,  85, 291,  36,  99],\n",
      "        [ 85,   1,  75, 314, 399],\n",
      "        [ 81,  99, 247,  48, 129]], device='cuda:0') \tMicro: tensor([ 421,  455, 2159,  765, 1186], device='cuda:0') \tMacro: tensor([ 52.6250,  56.8750, 269.8750,  95.6250, 148.2500], device='cuda:0') \tWeighted: tensor([ 85.1442,  40.1796, 174.5961, 175.0801, 260.2243], device='cuda:0') \n",
      "\t\tAccuracy: \tNone: tensor([0.5474, 0.7158, 0.7726, 0.8884, 0.7347, 0.7453, 0.3368, 0.6905],\n",
      "       device='cuda:0') \tMicro: 0.678947389125824 \tMacro: 0.678947389125824 \tWeighted: 0.5468217134475708 \n",
      "\t\tF1 Score: \tNone: tensor([0.5726, 0.2458, 0.1290, 0.0364, 0.2125, 0.5101, 0.3505, 0.5243],\n",
      "       device='cuda:0') \tMicro: 0.4083414077758789 \tMacro: 0.3226473927497864 \tWeighted: 0.4140464663505554\n",
      "\n",
      "\n",
      "Epoch: 12 \tTime: 29s \tTraining Loss: 0.8658844530582429 \tValidation Loss: 0.8827647119760513\n",
      "\tTraining: \n",
      "\t\tMetrics [TP, FP, TN, FN, SUP]: \tNone: tensor([[ 753,  117,  530,  498, 1251],\n",
      "        [ 143,  195, 1316,  244,  387],\n",
      "        [ 128,  217, 1482,   71,  199],\n",
      "        [  54,  166, 1672,    6,   60],\n",
      "        [ 158,  159, 1336,  245,  403],\n",
      "        [ 235,  184, 1331,  148,  383],\n",
      "        [ 383,   13,  277, 1225, 1608],\n",
      "        [ 359,  240, 1102,  197,  556]], device='cuda:0') \tMicro: tensor([2213, 1291, 9046, 2634, 4847], device='cuda:0') \tMacro: tensor([ 276.6250,  161.3750, 1130.7500,  329.2500,  605.8750],\n",
      "       device='cuda:0') \tWeighted: tensor([ 411.6367,  116.3334,  757.9677,  612.0623, 1023.6990],\n",
      "       device='cuda:0') \n",
      "\t\tAccuracy: \tNone: tensor([0.6760, 0.7687, 0.8483, 0.9094, 0.7871, 0.8251, 0.3477, 0.7698],\n",
      "       device='cuda:0') \tMicro: 0.7415041923522949 \tMacro: 0.7415041923522949 \tWeighted: 0.6162298917770386 \n",
      "\t\tF1 Score: \tNone: tensor([0.7100, 0.3945, 0.4706, 0.3857, 0.4389, 0.5860, 0.3822, 0.6216],\n",
      "       device='cuda:0') \tMicro: 0.529996395111084 \tMacro: 0.4987040162086487 \tWeighted: 0.5197670459747314\n",
      "\tValidation: \n",
      "\t\tMetrics [TP, FP, TN, FN, SUP]: \tNone: tensor([[164,  48, 105, 158, 322],\n",
      "        [ 24,  61, 314,  76, 100],\n",
      "        [  9,  78, 352,  36,  45],\n",
      "        [  0,  37, 431,   7,   7],\n",
      "        [ 16,  57, 333,  69,  85],\n",
      "        [ 62,  80, 296,  37,  99],\n",
      "        [ 96,   2,  74, 303, 399],\n",
      "        [ 78,  92, 254,  51, 129]], device='cuda:0') \tMicro: tensor([ 449,  455, 2159,  737, 1186], device='cuda:0') \tMacro: tensor([ 56.1250,  56.8750, 269.8750,  92.1250, 148.2500], device='cuda:0') \tWeighted: tensor([ 93.9941,  42.7960, 171.9798, 166.2302, 260.2243], device='cuda:0') \n",
      "\t\tAccuracy: \tNone: tensor([0.5663, 0.7116, 0.7600, 0.9074, 0.7347, 0.7537, 0.3579, 0.6989],\n",
      "       device='cuda:0') \tMicro: 0.6863157749176025 \tMacro: 0.6863157749176025 \tWeighted: 0.5599449872970581 \n",
      "\t\tF1 Score: \tNone: tensor([0.6142, 0.2595, 0.1364, 0.0000, 0.2025, 0.5145, 0.3863, 0.5217],\n",
      "       device='cuda:0') \tMicro: 0.42966505885124207 \tMacro: 0.3293958604335785 \tWeighted: 0.437995970249176\n",
      "\n",
      "\n",
      "Epoch: 13 \tTime: 30s \tTraining Loss: 0.8584177434444427 \tValidation Loss: 0.8833678439259529\n",
      "\tTraining: \n",
      "\t\tMetrics [TP, FP, TN, FN, SUP]: \tNone: tensor([[ 850,  136,  511,  401, 1251],\n",
      "        [ 151,  175, 1336,  236,  387],\n",
      "        [ 136,  218, 1481,   63,  199],\n",
      "        [  54,  146, 1692,    6,   60],\n",
      "        [ 172,  174, 1321,  231,  403],\n",
      "        [ 239,  149, 1366,  144,  383],\n",
      "        [ 406,   11,  279, 1202, 1608],\n",
      "        [ 361,  227, 1115,  195,  556]], device='cuda:0') \tMicro: tensor([2369, 1236, 9101, 2478, 4847], device='cuda:0') \tMacro: tensor([ 296.1250,  154.5000, 1137.6250,  309.7500,  605.8750],\n",
      "       device='cuda:0') \tWeighted: tensor([ 446.9792,  115.7607,  758.5403,  576.7198, 1023.6990],\n",
      "       device='cuda:0') \n",
      "\t\tAccuracy: \tNone: tensor([0.7171, 0.7835, 0.8519, 0.9199, 0.7866, 0.8456, 0.3609, 0.7777],\n",
      "       device='cuda:0') \tMicro: 0.7554004192352295 \tMacro: 0.7554004192352295 \tWeighted: 0.6351525187492371 \n",
      "\t\tF1 Score: \tNone: tensor([0.7599, 0.4236, 0.4919, 0.4154, 0.4593, 0.6200, 0.4010, 0.6311],\n",
      "       device='cuda:0') \tMicro: 0.560577392578125 \tMacro: 0.5252644419670105 \tWeighted: 0.5478945970535278\n",
      "\tValidation: \n",
      "\t\tMetrics [TP, FP, TN, FN, SUP]: \tNone: tensor([[170,  50, 103, 152, 322],\n",
      "        [ 32,  85, 290,  68, 100],\n",
      "        [ 16,  87, 343,  29,  45],\n",
      "        [  0,  38, 430,   7,   7],\n",
      "        [ 21,  73, 317,  64,  85],\n",
      "        [ 62,  74, 302,  37,  99],\n",
      "        [121,   6,  70, 278, 399],\n",
      "        [ 87, 110, 236,  42, 129]], device='cuda:0') \tMicro: tensor([ 509,  523, 2091,  677, 1186], device='cuda:0') \tMacro: tensor([ 63.6250,  65.3750, 261.3750,  84.6250, 148.2500], device='cuda:0') \tWeighted: tensor([106.3111,  49.6594, 165.1164, 153.9132, 260.2243], device='cuda:0') \n",
      "\t\tAccuracy: \tNone: tensor([0.5747, 0.6779, 0.7558, 0.9053, 0.7116, 0.7663, 0.4021, 0.6800],\n",
      "       device='cuda:0') \tMicro: 0.6842105388641357 \tMacro: 0.6842105388641357 \tWeighted: 0.571426272392273 \n",
      "\t\tF1 Score: \tNone: tensor([0.6273, 0.2949, 0.2162, 0.0000, 0.2346, 0.5277, 0.4601, 0.5337],\n",
      "       device='cuda:0') \tMicro: 0.4589720368385315 \tMacro: 0.3618209958076477 \tWeighted: 0.4770834743976593\n",
      "\n",
      "\n",
      "Epoch: 14 \tTime: 52s \tTraining Loss: 0.8502078711986545 \tValidation Loss: 0.8801827877759933\n",
      "\tTraining: \n",
      "\t\tMetrics [TP, FP, TN, FN, SUP]: \tNone: tensor([[ 847,  119,  528,  404, 1251],\n",
      "        [ 165,  191, 1320,  222,  387],\n",
      "        [ 152,  237, 1462,   47,  199],\n",
      "        [  56,  144, 1694,    4,   60],\n",
      "        [ 190,  195, 1300,  213,  403],\n",
      "        [ 258,  153, 1362,  125,  383],\n",
      "        [ 469,   17,  273, 1139, 1608],\n",
      "        [ 356,  214, 1128,  200,  556]], device='cuda:0') \tMicro: tensor([2493, 1270, 9067, 2354, 4847], device='cuda:0') \tMacro: tensor([ 311.6250,  158.7500, 1133.3750,  294.2500,  605.8750],\n",
      "       device='cuda:0') \tWeighted: tensor([ 471.3290,  115.9672,  758.3337,  552.3699, 1023.6990],\n",
      "       device='cuda:0') \n",
      "\t\tAccuracy: \tNone: tensor([0.7244, 0.7824, 0.8504, 0.9220, 0.7850, 0.8535, 0.3909, 0.7819],\n",
      "       device='cuda:0') \tMicro: 0.7613276839256287 \tMacro: 0.7613277435302734 \tWeighted: 0.6478729248046875 \n",
      "\t\tF1 Score: \tNone: tensor([0.7641, 0.4441, 0.5170, 0.4308, 0.4822, 0.6499, 0.4479, 0.6323],\n",
      "       device='cuda:0') \tMicro: 0.5790940523147583 \tMacro: 0.5460497140884399 \tWeighted: 0.571820080280304\n",
      "\tValidation: \n",
      "\t\tMetrics [TP, FP, TN, FN, SUP]: \tNone: tensor([[188,  51, 102, 134, 322],\n",
      "        [ 25,  67, 308,  75, 100],\n",
      "        [ 13,  82, 348,  32,  45],\n",
      "        [  0,  28, 440,   7,   7],\n",
      "        [ 24,  79, 311,  61,  85],\n",
      "        [ 56,  47, 329,  43,  99],\n",
      "        [113,   3,  73, 286, 399],\n",
      "        [ 67,  71, 275,  62, 129]], device='cuda:0') \tMicro: tensor([ 486,  428, 2186,  700, 1186], device='cuda:0') \tMacro: tensor([ 60.7500,  53.5000, 273.2500,  87.5000, 148.2500], device='cuda:0') \tWeighted: tensor([105.3415,  41.0894, 173.6863, 154.8828, 260.2243], device='cuda:0') \n",
      "\t\tAccuracy: \tNone: tensor([0.6105, 0.7011, 0.7600, 0.9263, 0.7053, 0.8105, 0.3916, 0.7200],\n",
      "       device='cuda:0') \tMicro: 0.703157901763916 \tMacro: 0.703157901763916 \tWeighted: 0.587427020072937 \n",
      "\t\tF1 Score: \tNone: tensor([0.6702, 0.2604, 0.1857, 0.0000, 0.2553, 0.5545, 0.4388, 0.5019],\n",
      "       device='cuda:0') \tMicro: 0.4628571569919586 \tMacro: 0.3583556115627289 \tWeighted: 0.4777768552303314\n",
      "\n",
      "\n",
      "Epoch: 15 \tTime: 54s \tTraining Loss: 0.8426525672276814 \tValidation Loss: 0.8797905892133713\n",
      "\tTraining: \n",
      "\t\tMetrics [TP, FP, TN, FN, SUP]: \tNone: tensor([[ 956,  138,  509,  295, 1251],\n",
      "        [ 179,  163, 1348,  208,  387],\n",
      "        [ 153,  209, 1490,   46,  199],\n",
      "        [  56,  140, 1698,    4,   60],\n",
      "        [ 216,  184, 1311,  187,  403],\n",
      "        [ 258,  135, 1380,  125,  383],\n",
      "        [ 453,   11,  279, 1155, 1608],\n",
      "        [ 360,  200, 1142,  196,  556]], device='cuda:0') \tMicro: tensor([2631, 1180, 9157, 2216, 4847], device='cuda:0') \tMacro: tensor([ 328.8750,  147.5000, 1144.6250,  277.0000,  605.8750],\n",
      "       device='cuda:0') \tWeighted: tensor([ 497.9331,  111.5030,  762.7980,  525.7658, 1023.6990],\n",
      "       device='cuda:0') \n",
      "\t\tAccuracy: \tNone: tensor([0.7719, 0.8045, 0.8656, 0.9241, 0.8045, 0.8630, 0.3857, 0.7914],\n",
      "       device='cuda:0') \tMicro: 0.7763435244560242 \tMacro: 0.7763435244560242 \tWeighted: 0.6642419099807739 \n",
      "\t\tF1 Score: \tNone: tensor([0.8154, 0.4911, 0.5455, 0.4375, 0.5380, 0.6649, 0.4373, 0.6452],\n",
      "       device='cuda:0') \tMicro: 0.6077616214752197 \tMacro: 0.5718426704406738 \tWeighted: 0.5938010215759277\n",
      "\tValidation: \n",
      "\t\tMetrics [TP, FP, TN, FN, SUP]: \tNone: tensor([[203,  60,  93, 119, 322],\n",
      "        [ 24,  68, 307,  76, 100],\n",
      "        [ 12,  80, 350,  33,  45],\n",
      "        [  0,  30, 438,   7,   7],\n",
      "        [ 22,  78, 312,  63,  85],\n",
      "        [ 61,  60, 316,  38,  99],\n",
      "        [108,   4,  72, 291, 399],\n",
      "        [ 73,  78, 268,  56, 129]], device='cuda:0') \tMicro: tensor([ 503,  458, 2156,  683, 1186], device='cuda:0') \tMacro: tensor([ 62.8750,  57.2500, 269.5000,  85.3750, 148.2500], device='cuda:0') \tWeighted: tensor([108.5362,  45.6644, 169.1113, 151.6880, 260.2243], device='cuda:0') \n",
      "\t\tAccuracy: \tNone: tensor([0.6232, 0.6968, 0.7621, 0.9221, 0.7032, 0.7937, 0.3789, 0.7179],\n",
      "       device='cuda:0') \tMicro: 0.6997368335723877 \tMacro: 0.6997368335723877 \tWeighted: 0.5845211744308472 \n",
      "\t\tF1 Score: \tNone: tensor([0.6940, 0.2500, 0.1752, 0.0000, 0.2378, 0.5545, 0.4227, 0.5214],\n",
      "       device='cuda:0') \tMicro: 0.4685607850551605 \tMacro: 0.35696399211883545 \tWeighted: 0.47841042280197144\n",
      "\n",
      "\n",
      "Epoch: 16 \tTime: 55s \tTraining Loss: 0.8362059076627095 \tValidation Loss: 0.8793610483407974\n",
      "\tTraining: \n",
      "\t\tMetrics [TP, FP, TN, FN, SUP]: \tNone: tensor([[ 943,  121,  526,  308, 1251],\n",
      "        [ 202,  173, 1338,  185,  387],\n",
      "        [ 155,  207, 1492,   44,  199],\n",
      "        [  56,  112, 1726,    4,   60],\n",
      "        [ 216,  220, 1275,  187,  403],\n",
      "        [ 276,  135, 1380,  107,  383],\n",
      "        [ 501,   12,  278, 1107, 1608],\n",
      "        [ 393,  213, 1129,  163,  556]], device='cuda:0') \tMicro: tensor([2742, 1193, 9144, 2105, 4847], device='cuda:0') \tMacro: tensor([ 342.7500,  149.1250, 1143.0000,  263.1250,  605.8750],\n",
      "       device='cuda:0') \tWeighted: tensor([ 517.6282,  112.3012,  761.9998,  506.0707, 1023.6990],\n",
      "       device='cuda:0') \n",
      "\t\tAccuracy: \tNone: tensor([0.7740, 0.8114, 0.8678, 0.9389, 0.7856, 0.8725, 0.4104, 0.8019],\n",
      "       device='cuda:0') \tMicro: 0.7827976942062378 \tMacro: 0.7827976942062378 \tWeighted: 0.6741981506347656 \n",
      "\t\tF1 Score: \tNone: tensor([0.8147, 0.5302, 0.5526, 0.4912, 0.5149, 0.6952, 0.4724, 0.6764],\n",
      "       device='cuda:0') \tMicro: 0.6244591474533081 \tMacro: 0.5934543609619141 \tWeighted: 0.613431453704834\n",
      "\tValidation: \n",
      "\t\tMetrics [TP, FP, TN, FN, SUP]: \tNone: tensor([[175,  43, 110, 147, 322],\n",
      "        [ 36,  93, 282,  64, 100],\n",
      "        [ 13,  92, 338,  32,  45],\n",
      "        [  1,  30, 438,   6,   7],\n",
      "        [ 27, 103, 287,  58,  85],\n",
      "        [ 58,  58, 318,  41,  99],\n",
      "        [144,   7,  69, 255, 399],\n",
      "        [ 76,  91, 255,  53, 129]], device='cuda:0') \tMicro: tensor([ 530,  517, 2097,  656, 1186], device='cuda:0') \tMacro: tensor([ 66.2500,  64.6250, 262.1250,  82.0000, 148.2500], device='cuda:0') \tWeighted: tensor([114.5354,  47.6602, 167.1155, 145.6889, 260.2243], device='cuda:0') \n",
      "\t\tAccuracy: \tNone: tensor([0.6000, 0.6695, 0.7389, 0.9242, 0.6611, 0.7916, 0.4484, 0.6968],\n",
      "       device='cuda:0') \tMicro: 0.691315770149231 \tMacro: 0.691315770149231 \tWeighted: 0.5929493308067322 \n",
      "\t\tF1 Score: \tNone: tensor([0.6481, 0.3144, 0.1733, 0.0526, 0.2512, 0.5395, 0.5236, 0.5135],\n",
      "       device='cuda:0') \tMicro: 0.47469770908355713 \tMacro: 0.3770464062690735 \tWeighted: 0.5044267177581787\n",
      "\n",
      "\n",
      "Epoch: 17 \tTime: 51s \tTraining Loss: 0.8295181234677631 \tValidation Loss: 0.8788259923458099\n",
      "\tTraining: \n",
      "\t\tMetrics [TP, FP, TN, FN, SUP]: \tNone: tensor([[ 963,  122,  525,  288, 1251],\n",
      "        [ 239,  210, 1301,  148,  387],\n",
      "        [ 169,  209, 1490,   30,  199],\n",
      "        [  57,   96, 1742,    3,   60],\n",
      "        [ 222,  217, 1278,  181,  403],\n",
      "        [ 292,  118, 1397,   91,  383],\n",
      "        [ 520,   10,  280, 1088, 1608],\n",
      "        [ 379,  186, 1156,  177,  556]], device='cuda:0') \tMicro: tensor([2841, 1168, 9169, 2006, 4847], device='cuda:0') \tMacro: tensor([ 355.1250,  146.0000, 1146.1250,  250.7500,  605.8750],\n",
      "       device='cuda:0') \tWeighted: tensor([ 532.7921,  110.0441,  764.2569,  490.9070, 1023.6990],\n",
      "       device='cuda:0') \n",
      "\t\tAccuracy: \tNone: tensor([0.7840, 0.8114, 0.8741, 0.9478, 0.7903, 0.8899, 0.4215, 0.8087],\n",
      "       device='cuda:0') \tMicro: 0.7909641861915588 \tMacro: 0.7909641265869141 \tWeighted: 0.6833766102790833 \n",
      "\t\tF1 Score: \tNone: tensor([0.8245, 0.5718, 0.5858, 0.5352, 0.5273, 0.7364, 0.4864, 0.6762],\n",
      "       device='cuda:0') \tMicro: 0.6415989398956299 \tMacro: 0.6179542541503906 \tWeighted: 0.6301020383834839\n",
      "\tValidation: \n",
      "\t\tMetrics [TP, FP, TN, FN, SUP]: \tNone: tensor([[206,  60,  93, 116, 322],\n",
      "        [ 23,  63, 312,  77, 100],\n",
      "        [ 10,  74, 356,  35,  45],\n",
      "        [  1,  30, 438,   6,   7],\n",
      "        [ 20,  91, 299,  65,  85],\n",
      "        [ 62,  64, 312,  37,  99],\n",
      "        [118,   4,  72, 281, 399],\n",
      "        [ 76,  87, 259,  53, 129]], device='cuda:0') \tMicro: tensor([ 516,  473, 2141,  670, 1186], device='cuda:0') \tMacro: tensor([ 64.5000,  59.1250, 267.6250,  83.7500, 148.2500], device='cuda:0') \tWeighted: tensor([112.8271,  47.2597, 167.5160, 147.3971, 260.2243], device='cuda:0') \n",
      "\t\tAccuracy: \tNone: tensor([0.6295, 0.7053, 0.7705, 0.9242, 0.6716, 0.7874, 0.4000, 0.7053],\n",
      "       device='cuda:0') \tMicro: 0.699210524559021 \tMacro: 0.699210524559021 \tWeighted: 0.5901961326599121 \n",
      "\t\tF1 Score: \tNone: tensor([0.7007, 0.2473, 0.1550, 0.0526, 0.2041, 0.5511, 0.4530, 0.5205],\n",
      "       device='cuda:0') \tMicro: 0.4744827449321747 \tMacro: 0.3605472445487976 \tWeighted: 0.4869224727153778\n",
      "\n",
      "\n",
      "Epoch: 18 \tTime: 30s \tTraining Loss: 0.8219696144262949 \tValidation Loss: 0.8795361295342445\n",
      "\tTraining: \n",
      "\t\tMetrics [TP, FP, TN, FN, SUP]: \tNone: tensor([[1034,  113,  534,  217, 1251],\n",
      "        [ 242,  179, 1332,  145,  387],\n",
      "        [ 172,  183, 1516,   27,  199],\n",
      "        [  57,   96, 1742,    3,   60],\n",
      "        [ 241,  217, 1278,  162,  403],\n",
      "        [ 291,   94, 1421,   92,  383],\n",
      "        [ 513,   12,  278, 1095, 1608],\n",
      "        [ 384,  187, 1155,  172,  556]], device='cuda:0') \tMicro: tensor([2934, 1081, 9256, 1913, 4847], device='cuda:0') \tMacro: tensor([ 366.7500,  135.1250, 1157.0000,  239.1250,  605.8750],\n",
      "       device='cuda:0') \tWeighted: tensor([ 551.2317,  103.0604,  771.2406,  472.4673, 1023.6990],\n",
      "       device='cuda:0') \n",
      "\t\tAccuracy: \tNone: tensor([0.8261, 0.8293, 0.8894, 0.9478, 0.8003, 0.9020, 0.4168, 0.8109],\n",
      "       device='cuda:0') \tMicro: 0.802818775177002 \tMacro: 0.802818775177002 \tWeighted: 0.696771502494812 \n",
      "\t\tF1 Score: \tNone: tensor([0.8624, 0.5990, 0.6209, 0.5352, 0.5598, 0.7578, 0.4810, 0.6815],\n",
      "       device='cuda:0') \tMicro: 0.6621530055999756 \tMacro: 0.6372049450874329 \tWeighted: 0.646697998046875\n",
      "\tValidation: \n",
      "\t\tMetrics [TP, FP, TN, FN, SUP]: \tNone: tensor([[206,  60,  93, 116, 322],\n",
      "        [ 30,  83, 292,  70, 100],\n",
      "        [ 12,  83, 347,  33,  45],\n",
      "        [  0,  26, 442,   7,   7],\n",
      "        [ 27,  90, 300,  58,  85],\n",
      "        [ 66,  81, 295,  33,  99],\n",
      "        [134,   4,  72, 265, 399],\n",
      "        [ 82,  96, 250,  47, 129]], device='cuda:0') \tMicro: tensor([ 557,  523, 2091,  629, 1186], device='cuda:0') \tMacro: tensor([ 69.6250,  65.3750, 261.3750,  78.6250, 148.2500], device='cuda:0') \tWeighted: tensor([120.3584,  51.5902, 163.1855, 139.8659, 260.2243], device='cuda:0') \n",
      "\t\tAccuracy: \tNone: tensor([0.6295, 0.6779, 0.7558, 0.9305, 0.6884, 0.7600, 0.4337, 0.6989],\n",
      "       device='cuda:0') \tMicro: 0.6968421339988708 \tMacro: 0.6968420743942261 \tWeighted: 0.5969343781471252 \n",
      "\t\tF1 Score: \tNone: tensor([0.7007, 0.2817, 0.1714, 0.0000, 0.2673, 0.5366, 0.4991, 0.5342],\n",
      "       device='cuda:0') \tMicro: 0.4916151762008667 \tMacro: 0.3738727569580078 \tWeighted: 0.5104448795318604\n",
      "\n",
      "\n",
      "Epoch: 19 \tTime: 30s \tTraining Loss: 0.8164990107218423 \tValidation Loss: 0.8802994564175606\n",
      "\tTraining: \n",
      "\t\tMetrics [TP, FP, TN, FN, SUP]: \tNone: tensor([[1035,  103,  544,  216, 1251],\n",
      "        [ 261,  139, 1372,  126,  387],\n",
      "        [ 177,  180, 1519,   22,  199],\n",
      "        [  56,  102, 1736,    4,   60],\n",
      "        [ 252,  221, 1274,  151,  403],\n",
      "        [ 301,  109, 1406,   82,  383],\n",
      "        [ 532,   12,  278, 1076, 1608],\n",
      "        [ 405,  190, 1152,  151,  556]], device='cuda:0') \tMicro: tensor([3019, 1056, 9281, 1828, 4847], device='cuda:0') \tMacro: tensor([ 377.3750,  132.0000, 1160.1250,  228.5000,  605.8750],\n",
      "       device='cuda:0') \tWeighted: tensor([ 563.6166,   99.0988,  775.2021,  460.0823, 1023.6990],\n",
      "       device='cuda:0') \n",
      "\t\tAccuracy: \tNone: tensor([0.8319, 0.8604, 0.8936, 0.9442, 0.8040, 0.8994, 0.4268, 0.8203],\n",
      "       device='cuda:0') \tMicro: 0.8100632429122925 \tMacro: 0.8100632429122925 \tWeighted: 0.7053840160369873 \n",
      "\t\tF1 Score: \tNone: tensor([0.8665, 0.6633, 0.6367, 0.5138, 0.5753, 0.7591, 0.4944, 0.7037],\n",
      "       device='cuda:0') \tMicro: 0.6767541170120239 \tMacro: 0.6516058444976807 \tWeighted: 0.6616663336753845\n",
      "\tValidation: \n",
      "\t\tMetrics [TP, FP, TN, FN, SUP]: \tNone: tensor([[199,  56,  97, 123, 322],\n",
      "        [ 40, 116, 259,  60, 100],\n",
      "        [  8,  70, 360,  37,  45],\n",
      "        [  0,  20, 448,   7,   7],\n",
      "        [ 25,  89, 301,  60,  85],\n",
      "        [ 63,  69, 307,  36,  99],\n",
      "        [154,   6,  70, 245, 399],\n",
      "        [ 96, 115, 231,  33, 129]], device='cuda:0') \tMicro: tensor([ 585,  541, 2073,  601, 1186], device='cuda:0') \tMacro: tensor([ 73.1250,  67.6250, 259.1250,  75.1250, 148.2500], device='cuda:0') \tWeighted: tensor([127.0067,  54.4241, 160.3516, 133.2175, 260.2243], device='cuda:0') \n",
      "\t\tAccuracy: \tNone: tensor([0.6232, 0.6295, 0.7747, 0.9432, 0.6863, 0.7789, 0.4716, 0.6884],\n",
      "       device='cuda:0') \tMicro: 0.6994736790657043 \tMacro: 0.6994737386703491 \tWeighted: 0.6049649715423584 \n",
      "\t\tF1 Score: \tNone: tensor([0.6898, 0.3125, 0.1301, 0.0000, 0.2513, 0.5455, 0.5510, 0.5647],\n",
      "       device='cuda:0') \tMicro: 0.5060553550720215 \tMacro: 0.3805945813655853 \tWeighted: 0.5288849472999573\n",
      "\n",
      "\n",
      "Epoch: 20 \tTime: 31s \tTraining Loss: 0.8100991129875182 \tValidation Loss: 0.8835100159049034\n",
      "\tTraining: \n",
      "\t\tMetrics [TP, FP, TN, FN, SUP]: \tNone: tensor([[1051,   86,  561,  200, 1251],\n",
      "        [ 271,  152, 1359,  116,  387],\n",
      "        [ 174,  183, 1516,   25,  199],\n",
      "        [  57,   72, 1766,    3,   60],\n",
      "        [ 266,  234, 1261,  137,  403],\n",
      "        [ 309,   86, 1429,   74,  383],\n",
      "        [ 586,   11,  279, 1022, 1608],\n",
      "        [ 418,  194, 1148,  138,  556]], device='cuda:0') \tMicro: tensor([3132, 1018, 9319, 1715, 4847], device='cuda:0') \tMacro: tensor([ 391.5000,  127.2500, 1164.8750,  214.3750,  605.8750],\n",
      "       device='cuda:0') \tWeighted: tensor([ 589.6359,   94.8915,  779.4095,  434.0631, 1023.6990],\n",
      "       device='cuda:0') \n",
      "\t\tAccuracy: \tNone: tensor([0.8493, 0.8588, 0.8904, 0.9605, 0.8045, 0.9157, 0.4557, 0.8251],\n",
      "       device='cuda:0') \tMicro: 0.8200079202651978 \tMacro: 0.8200079202651978 \tWeighted: 0.7213094830513 \n",
      "\t\tF1 Score: \tNone: tensor([0.8802, 0.6691, 0.6259, 0.6032, 0.5891, 0.7943, 0.5315, 0.7158],\n",
      "       device='cuda:0') \tMicro: 0.6962320804595947 \tMacro: 0.6761510968208313 \tWeighted: 0.6839644908905029\n",
      "\tValidation: \n",
      "\t\tMetrics [TP, FP, TN, FN, SUP]: \tNone: tensor([[199,  55,  98, 123, 322],\n",
      "        [ 32,  81, 294,  68, 100],\n",
      "        [ 12, 102, 328,  33,  45],\n",
      "        [  0,  41, 427,   7,   7],\n",
      "        [ 35, 116, 274,  50,  85],\n",
      "        [ 56,  57, 319,  43,  99],\n",
      "        [168,   8,  68, 231, 399],\n",
      "        [ 74,  99, 247,  55, 129]], device='cuda:0') \tMicro: tensor([ 576,  559, 2055,  610, 1186], device='cuda:0') \tMacro: tensor([ 72.0000,  69.8750, 256.8750,  76.2500, 148.2500], device='cuda:0') \tWeighted: tensor([128.9334,  52.4056, 162.3701, 131.2909, 260.2243], device='cuda:0') \n",
      "\t\tAccuracy: \tNone: tensor([0.6253, 0.6863, 0.7158, 0.8989, 0.6505, 0.7895, 0.4968, 0.6758],\n",
      "       device='cuda:0') \tMicro: 0.6923684477806091 \tMacro: 0.6923684477806091 \tWeighted: 0.61327064037323 \n",
      "\t\tF1 Score: \tNone: tensor([0.6910, 0.3005, 0.1509, 0.0000, 0.2966, 0.5283, 0.5843, 0.4901],\n",
      "       device='cuda:0') \tMicro: 0.49633777141571045 \tMacro: 0.3802139163017273 \tWeighted: 0.533911943435669\n",
      "\n",
      "\n",
      "Epoch: 21 \tTime: 50s \tTraining Loss: 0.8067828973134359 \tValidation Loss: 0.8788010850548745\n",
      "\tTraining: \n",
      "\t\tMetrics [TP, FP, TN, FN, SUP]: \tNone: tensor([[1031,   94,  553,  220, 1251],\n",
      "        [ 293,  179, 1332,   94,  387],\n",
      "        [ 175,  167, 1532,   24,  199],\n",
      "        [  57,   94, 1744,    3,   60],\n",
      "        [ 266,  229, 1266,  137,  403],\n",
      "        [ 314,   77, 1438,   69,  383],\n",
      "        [ 597,   11,  279, 1011, 1608],\n",
      "        [ 400,  183, 1159,  156,  556]], device='cuda:0') \tMicro: tensor([3133, 1034, 9303, 1714, 4847], device='cuda:0') \tMacro: tensor([ 391.6250,  129.2500, 1162.8750,  214.2500,  605.8750],\n",
      "       device='cuda:0') \tWeighted: tensor([ 588.2511,   96.3388,  777.9622,  435.4479, 1023.6990],\n",
      "       device='cuda:0') \n",
      "\t\tAccuracy: \tNone: tensor([0.8346, 0.8562, 0.8994, 0.9489, 0.8072, 0.9231, 0.4615, 0.8214],\n",
      "       device='cuda:0') \tMicro: 0.8190200328826904 \tMacro: 0.8190200328826904 \tWeighted: 0.7198173999786377 \n",
      "\t\tF1 Score: \tNone: tensor([0.8678, 0.6822, 0.6470, 0.5403, 0.5924, 0.8114, 0.5388, 0.7024],\n",
      "       device='cuda:0') \tMicro: 0.6951408982276917 \tMacro: 0.6727805137634277 \tWeighted: 0.6843958497047424\n",
      "\tValidation: \n",
      "\t\tMetrics [TP, FP, TN, FN, SUP]: \tNone: tensor([[218,  72,  81, 104, 322],\n",
      "        [ 25,  63, 312,  75, 100],\n",
      "        [  8,  61, 369,  37,  45],\n",
      "        [  0,  17, 451,   7,   7],\n",
      "        [ 25,  85, 305,  60,  85],\n",
      "        [ 58,  60, 316,  41,  99],\n",
      "        [122,   7,  69, 277, 399],\n",
      "        [ 68,  82, 264,  61, 129]], device='cuda:0') \tMicro: tensor([ 524,  447, 2167,  662, 1186], device='cuda:0') \tMacro: tensor([ 65.5000,  55.8750, 270.8750,  82.7500, 148.2500], device='cuda:0') \tWeighted: tensor([116.6720,  49.6492, 165.1265, 143.5523, 260.2243], device='cuda:0') \n",
      "\t\tAccuracy: \tNone: tensor([0.6295, 0.7095, 0.7937, 0.9495, 0.6947, 0.7874, 0.4021, 0.6989],\n",
      "       device='cuda:0') \tMicro: 0.7081578969955444 \tMacro: 0.7081578969955444 \tWeighted: 0.5932599306106567 \n",
      "\t\tF1 Score: \tNone: tensor([0.7124, 0.2660, 0.1404, 0.0000, 0.2564, 0.5346, 0.4621, 0.4875],\n",
      "       device='cuda:0') \tMicro: 0.4858599901199341 \tMacro: 0.35740944743156433 \tWeighted: 0.4926601052284241\n",
      "\n",
      "\n",
      "Epoch: 22 \tTime: 29s \tTraining Loss: 0.8001700997352602 \tValidation Loss: 0.879956565797329\n",
      "\tTraining: \n",
      "\t\tMetrics [TP, FP, TN, FN, SUP]: \tNone: tensor([[1061,   82,  565,  190, 1251],\n",
      "        [ 296,  132, 1379,   91,  387],\n",
      "        [ 180,  168, 1531,   19,  199],\n",
      "        [  57,   72, 1766,    3,   60],\n",
      "        [ 273,  221, 1274,  130,  403],\n",
      "        [ 320,   78, 1437,   63,  383],\n",
      "        [ 584,   10,  280, 1024, 1608],\n",
      "        [ 403,  168, 1174,  153,  556]], device='cuda:0') \tMicro: tensor([3174,  931, 9406, 1673, 4847], device='cuda:0') \tMacro: tensor([ 396.7500,  116.3750, 1175.7500,  209.1250,  605.8750],\n",
      "       device='cuda:0') \tWeighted: tensor([ 593.5263,   86.6191,  787.6819,  430.1727, 1023.6990],\n",
      "       device='cuda:0') \n",
      "\t\tAccuracy: \tNone: tensor([0.8567, 0.8825, 0.9015, 0.9605, 0.8151, 0.9257, 0.4552, 0.8309],\n",
      "       device='cuda:0') \tMicro: 0.8285036683082581 \tMacro: 0.8285036683082581 \tWeighted: 0.7277176380157471 \n",
      "\t\tF1 Score: \tNone: tensor([0.8864, 0.7264, 0.6581, 0.6032, 0.6087, 0.8195, 0.5304, 0.7152],\n",
      "       device='cuda:0') \tMicro: 0.7091152667999268 \tMacro: 0.6934788227081299 \tWeighted: 0.6946264505386353\n",
      "\tValidation: \n",
      "\t\tMetrics [TP, FP, TN, FN, SUP]: \tNone: tensor([[205,  55,  98, 117, 322],\n",
      "        [ 34, 100, 275,  66, 100],\n",
      "        [  7,  66, 364,  38,  45],\n",
      "        [  0,  13, 455,   7,   7],\n",
      "        [ 29, 102, 288,  56,  85],\n",
      "        [ 58,  65, 311,  41,  99],\n",
      "        [157,   9,  67, 242, 399],\n",
      "        [ 95, 109, 237,  34, 129]], device='cuda:0') \tMicro: tensor([ 585,  519, 2095,  601, 1186], device='cuda:0') \tMacro: tensor([ 73.1250,  64.8750, 261.8750,  75.1250, 148.2500], device='cuda:0') \tWeighted: tensor([128.8617,  53.5649, 161.2108, 131.3626, 260.2243], device='cuda:0') \n",
      "\t\tAccuracy: \tNone: tensor([0.6379, 0.6505, 0.7811, 0.9579, 0.6674, 0.7768, 0.4716, 0.6989],\n",
      "       device='cuda:0') \tMicro: 0.7052631378173828 \tMacro: 0.7052631378173828 \tWeighted: 0.610679030418396 \n",
      "\t\tF1 Score: \tNone: tensor([0.7045, 0.2906, 0.1186, 0.0000, 0.2685, 0.5225, 0.5558, 0.5706],\n",
      "       device='cuda:0') \tMicro: 0.5109170079231262 \tMacro: 0.3788841962814331 \tWeighted: 0.532158374786377\n",
      "\n",
      "\n",
      "Epoch: 23 \tTime: 51s \tTraining Loss: 0.7945886711279551 \tValidation Loss: 0.8785846233367919\n",
      "\tTraining: \n",
      "\t\tMetrics [TP, FP, TN, FN, SUP]: \tNone: tensor([[1063,   68,  579,  188, 1251],\n",
      "        [ 314,  130, 1381,   73,  387],\n",
      "        [ 183,  146, 1553,   16,  199],\n",
      "        [  57,   90, 1748,    3,   60],\n",
      "        [ 286,  231, 1264,  117,  403],\n",
      "        [ 324,   73, 1442,   59,  383],\n",
      "        [ 623,    9,  281,  985, 1608],\n",
      "        [ 431,  177, 1165,  125,  556]], device='cuda:0') \tMicro: tensor([3281,  924, 9413, 1566, 4847], device='cuda:0') \tMacro: tensor([ 410.1250,  115.5000, 1176.6250,  195.7500,  605.8750],\n",
      "       device='cuda:0') \tWeighted: tensor([ 613.1500,   83.3027,  790.9983,  410.5490, 1023.6990],\n",
      "       device='cuda:0') \n",
      "\t\tAccuracy: \tNone: tensor([0.8651, 0.8930, 0.9146, 0.9510, 0.8166, 0.9305, 0.4763, 0.8409],\n",
      "       device='cuda:0') \tMicro: 0.8360115885734558 \tMacro: 0.8360115885734558 \tWeighted: 0.7398041486740112 \n",
      "\t\tF1 Score: \tNone: tensor([0.8925, 0.7557, 0.6932, 0.5507, 0.6217, 0.8308, 0.5562, 0.7405],\n",
      "       device='cuda:0') \tMicro: 0.7249226570129395 \tMacro: 0.7051822543144226 \tWeighted: 0.7128000259399414\n",
      "\tValidation: \n",
      "\t\tMetrics [TP, FP, TN, FN, SUP]: \tNone: tensor([[214,  63,  90, 108, 322],\n",
      "        [ 37, 105, 270,  63, 100],\n",
      "        [  6,  48, 382,  39,  45],\n",
      "        [  0,   8, 460,   7,   7],\n",
      "        [ 22,  82, 308,  63,  85],\n",
      "        [ 60,  74, 302,  39,  99],\n",
      "        [143,   8,  68, 256, 399],\n",
      "        [ 88, 104, 242,  41, 129]], device='cuda:0') \tMicro: tensor([ 570,  492, 2122,  616, 1186], device='cuda:0') \tMacro: tensor([ 71.2500,  61.5000, 265.2500,  77.0000, 148.2500], device='cuda:0') \tWeighted: tensor([125.7142,  53.8836, 160.8921, 134.5101, 260.2243], device='cuda:0') \n",
      "\t\tAccuracy: \tNone: tensor([0.6400, 0.6463, 0.8168, 0.9684, 0.6947, 0.7621, 0.4442, 0.6947],\n",
      "       device='cuda:0') \tMicro: 0.7084210515022278 \tMacro: 0.7084210515022278 \tWeighted: 0.6033816337585449 \n",
      "\t\tF1 Score: \tNone: tensor([0.7145, 0.3058, 0.1212, 0.0000, 0.2328, 0.5150, 0.5200, 0.5483],\n",
      "       device='cuda:0') \tMicro: 0.5071174502372742 \tMacro: 0.3697042167186737 \tWeighted: 0.518629252910614\n",
      "\n",
      "\n",
      "Epoch: 24 \tTime: 33s \tTraining Loss: 0.7904816846052805 \tValidation Loss: 0.8807238414883614\n",
      "\tTraining: \n",
      "\t\tMetrics [TP, FP, TN, FN, SUP]: \tNone: tensor([[1076,   52,  595,  175, 1251],\n",
      "        [ 324,  109, 1402,   63,  387],\n",
      "        [ 183,  152, 1547,   16,  199],\n",
      "        [  57,   63, 1775,    3,   60],\n",
      "        [ 298,  228, 1267,  105,  403],\n",
      "        [ 323,   71, 1444,   60,  383],\n",
      "        [ 631,   13,  277,  977, 1608],\n",
      "        [ 429,  164, 1178,  127,  556]], device='cuda:0') \tMicro: tensor([3321,  852, 9485, 1526, 4847], device='cuda:0') \tMacro: tensor([ 415.1250,  106.5000, 1185.6250,  190.7500,  605.8750],\n",
      "       device='cuda:0') \tWeighted: tensor([ 620.6470,   76.8368,  797.4642,  403.0520, 1023.6990],\n",
      "       device='cuda:0') \n",
      "\t\tAccuracy: \tNone: tensor([0.8804, 0.9094, 0.9115, 0.9652, 0.8246, 0.9310, 0.4784, 0.8467],\n",
      "       device='cuda:0') \tMicro: 0.8433877825737 \tMacro: 0.8433877825737 \tWeighted: 0.747160792350769 \n",
      "\t\tF1 Score: \tNone: tensor([0.9046, 0.7902, 0.6854, 0.6333, 0.6416, 0.8314, 0.5604, 0.7467],\n",
      "       device='cuda:0') \tMicro: 0.7363636493682861 \tMacro: 0.7242040038108826 \tWeighted: 0.723151445388794\n",
      "\tValidation: \n",
      "\t\tMetrics [TP, FP, TN, FN, SUP]: \tNone: tensor([[213,  64,  89, 109, 322],\n",
      "        [ 24,  72, 303,  76, 100],\n",
      "        [  9,  71, 359,  36,  45],\n",
      "        [  0,  13, 455,   7,   7],\n",
      "        [ 23, 100, 290,  62,  85],\n",
      "        [ 62,  75, 301,  37,  99],\n",
      "        [142,   9,  67, 257, 399],\n",
      "        [ 79,  98, 248,  50, 129]], device='cuda:0') \tMicro: tensor([ 552,  502, 2112,  634, 1186], device='cuda:0') \tMacro: tensor([ 69.0000,  62.7500, 264.0000,  79.2500, 148.2500], device='cuda:0') \tWeighted: tensor([123.3836,  53.3322, 161.4435, 136.8406, 260.2243], device='cuda:0') \n",
      "\t\tAccuracy: \tNone: tensor([0.6358, 0.6884, 0.7747, 0.9579, 0.6589, 0.7642, 0.4400, 0.6884],\n",
      "       device='cuda:0') \tMicro: 0.7010526061058044 \tMacro: 0.7010526657104492 \tWeighted: 0.5996360778808594 \n",
      "\t\tF1 Score: \tNone: tensor([0.7112, 0.2449, 0.1440, 0.0000, 0.2212, 0.5254, 0.5164, 0.5163],\n",
      "       device='cuda:0') \tMicro: 0.4928571283817291 \tMacro: 0.35992056131362915 \tWeighted: 0.5087887048721313\n",
      "\n",
      "\n",
      "Epoch: 25 \tTime: 30s \tTraining Loss: 0.7861623863379161 \tValidation Loss: 0.8799380734562874\n",
      "\tTraining: \n",
      "\t\tMetrics [TP, FP, TN, FN, SUP]: \tNone: tensor([[1079,   59,  588,  172, 1251],\n",
      "        [ 323,  118, 1393,   64,  387],\n",
      "        [ 185,  125, 1574,   14,  199],\n",
      "        [  58,   67, 1771,    2,   60],\n",
      "        [ 299,  223, 1272,  104,  403],\n",
      "        [ 332,   58, 1457,   51,  383],\n",
      "        [ 633,   13,  277,  975, 1608],\n",
      "        [ 435,  164, 1178,  121,  556]], device='cuda:0') \tMicro: tensor([3344,  827, 9510, 1503, 4847], device='cuda:0') \tMacro: tensor([ 418.0000,  103.3750, 1188.7500,  187.8750,  605.8750],\n",
      "       device='cuda:0') \tWeighted: tensor([ 623.5820,   76.8601,  797.4409,  400.1170, 1023.6990],\n",
      "       device='cuda:0') \n",
      "\t\tAccuracy: \tNone: tensor([0.8783, 0.9041, 0.9268, 0.9636, 0.8277, 0.9426, 0.4795, 0.8498],\n",
      "       device='cuda:0') \tMicro: 0.8465489745140076 \tMacro: 0.8465489745140076 \tWeighted: 0.748694896697998 \n",
      "\t\tF1 Score: \tNone: tensor([0.9033, 0.7802, 0.7269, 0.6270, 0.6465, 0.8590, 0.5617, 0.7532],\n",
      "       device='cuda:0') \tMicro: 0.7416278719902039 \tMacro: 0.7322293519973755 \tWeighted: 0.7274076342582703\n",
      "\tValidation: \n",
      "\t\tMetrics [TP, FP, TN, FN, SUP]: \tNone: tensor([[179,  44, 109, 143, 322],\n",
      "        [ 42, 111, 264,  58, 100],\n",
      "        [  8,  73, 357,  37,  45],\n",
      "        [  0,   9, 459,   7,   7],\n",
      "        [ 36, 128, 262,  49,  85],\n",
      "        [ 54,  61, 315,  45,  99],\n",
      "        [179,  11,  65, 220, 399],\n",
      "        [ 86, 113, 233,  43, 129]], device='cuda:0') \tMicro: tensor([ 584,  550, 2064,  602, 1186], device='cuda:0') \tMacro: tensor([ 73.0000,  68.7500, 258.0000,  75.2500, 148.2500], device='cuda:0') \tWeighted: tensor([129.1054,  54.3853, 160.3904, 131.1189, 260.2243], device='cuda:0') \n",
      "\t\tAccuracy: \tNone: tensor([0.6063, 0.6442, 0.7684, 0.9663, 0.6274, 0.7768, 0.5137, 0.6716],\n",
      "       device='cuda:0') \tMicro: 0.6968421339988708 \tMacro: 0.6968421339988708 \tWeighted: 0.6094648241996765 \n",
      "\t\tF1 Score: \tNone: tensor([0.6569, 0.3320, 0.1270, 0.0000, 0.2892, 0.5047, 0.6078, 0.5244],\n",
      "       device='cuda:0') \tMicro: 0.5034482479095459 \tMacro: 0.38023877143859863 \tWeighted: 0.5355268716812134\n",
      "\n",
      "\n",
      "Training time: 1041s\n"
     ]
    }
   ],
   "source": [
    "trained_model = train_model(EPOCHS, train_data_loader, validation_data_loader, model, optimizer, CHECKPOINT_PATH, BEST_MODEL_PATH)"
   ],
   "metadata": {
    "collapsed": false,
    "ExecuteTime": {
     "end_time": "2024-02-26T16:04:06.363418200Z",
     "start_time": "2024-02-26T15:46:44.648130600Z"
    }
   },
   "id": "da94e78a115d5864",
   "execution_count": 24
  },
  {
   "cell_type": "markdown",
   "source": [
    "# Read the model"
   ],
   "metadata": {
    "collapsed": false
   },
   "id": "89299a35ae1a6846"
  },
  {
   "cell_type": "code",
   "outputs": [],
   "source": [
    "pred_model = BERTClass()\n",
    "pred_model.to(device)\n",
    "model = load_checkpoint(BEST_MODEL_PATH, pred_model, optimizer)"
   ],
   "metadata": {
    "collapsed": false,
    "ExecuteTime": {
     "end_time": "2024-02-26T16:04:08.426475Z",
     "start_time": "2024-02-26T16:04:06.357400600Z"
    }
   },
   "id": "f18f8acb1f1606ec",
   "execution_count": 25
  },
  {
   "cell_type": "code",
   "outputs": [],
   "source": [
    "pred_tokenizer = DistilBertTokenizer.from_pretrained(\"distilbert-base-multilingual-cased\")"
   ],
   "metadata": {
    "collapsed": false,
    "ExecuteTime": {
     "end_time": "2024-02-26T16:04:08.985113900Z",
     "start_time": "2024-02-26T16:04:08.429487700Z"
    }
   },
   "id": "f70a1da4d04203e1",
   "execution_count": 26
  },
  {
   "cell_type": "markdown",
   "source": [
    "# Get Predictions"
   ],
   "metadata": {
    "collapsed": false
   },
   "id": "63794d5155241a97"
  },
  {
   "cell_type": "code",
   "outputs": [],
   "source": [
    "def get_prediction(row): \n",
    "    input_ids, attention_mask, token_type_ids = get_encodings(row[\"c_text\"], row[\"reaction1\"], row[\"reaction2\"])\n",
    "    \n",
    "    pred_model.eval()\n",
    "    with torch.no_grad():\n",
    "        input_ids = input_ids.to(device, dtype=torch.long)\n",
    "        attention_mask = attention_mask.to(device, dtype=torch.long)\n",
    "        token_type_ids = token_type_ids.to(device, dtype=torch.long)\n",
    "        \n",
    "        outputs = pred_model(input_ids, attention_mask, token_type_ids)\n",
    "        \n",
    "        generalisation_pred_value = 0\n",
    "        generalisation_pred_prop = 0\n",
    "        if outputs[0][0].item() > generalisation_pred_prop:\n",
    "            generalisation_pred_value = 0\n",
    "            generalisation_pred_prop = outputs[0][0].item()\n",
    "        \n",
    "        if outputs[0][1].item() > generalisation_pred_prop:\n",
    "            generalisation_pred_value = 1\n",
    "            generalisation_pred_prop = outputs[0][1].item()\n",
    "            \n",
    "        if outputs[0][2].item() > generalisation_pred_prop:\n",
    "            generalisation_pred_value = 2\n",
    "            generalisation_pred_prop = outputs[0][2].item()\n",
    "        \n",
    "        if outputs[0][3].item() > generalisation_pred_prop:\n",
    "            generalisation_pred_value = 3\n",
    "        \n",
    "        row['Generalisation_Pred'] = generalisation_pred_value\n",
    "        row['Ambiguous_Pred'] = 1 if outputs[0][4].item() > 0.5 else 0\n",
    "        row['Objective_Pred'] = 1 if outputs[0][5].item() > 0.5 else 0\n",
    "        row['Subjective_Pred'] = 1 if outputs[0][6].item() > 0.5 else 0\n",
    "        row['Disputed_Pred'] = 1 if outputs[0][7].item() > 0.5 else 0\n",
    "        \n",
    "        return row"
   ],
   "metadata": {
    "collapsed": false,
    "ExecuteTime": {
     "end_time": "2024-02-26T16:04:09.003115400Z",
     "start_time": "2024-02-26T16:04:08.991111400Z"
    }
   },
   "id": "d0cfa2385a37cc09",
   "execution_count": 27
  },
  {
   "cell_type": "code",
   "outputs": [
    {
     "data": {
      "text/plain": "                     c_id                                             c_text  \\\n1485  1405047474310553601  Nein, nicht in einen Tiopf. Die Mitesser-NGO G...   \n1487  1393517517927223301  Ääähm... da müsste man halt jetzt wissen, dass...   \n1492  1388783647403220994  Wer liest das? Mal ehrlich jetzt, wenn dieses ...   \n1493  1387373196916281344  Im Gegensatz etwa zum \"Flügel\" der AfD damals....   \n1505  1404378018928267264  Biergarten ist gesellschaftlich notwendiger, g...   \n\n                  date       conv_id  \\\n1485  16.06.2021 06:19  1.404880e+18   \n1487  15.05.2021 10:44  1.393101e+18   \n1492  02.05.2021 09:13  1.388210e+18   \n1493  28.04.2021 11:48  1.387325e+18   \n1505  14.06.2021 09:59  1.403864e+18   \n\n                                              reaction1  \\\n1485  Ich werte das als impulsgetiebene Antwort. Bit...   \n1487  100%. Ich hoffe er schreibt es sich hinter sei...   \n1492  Sie fragen, weshalb er ein Faschist sei. Ich b...   \n1493  Jetzt wird's aber sehr beliebig. Sind denn der...   \n1505  Du scheinst dich sehr auf Herrn Reitschuster e...   \n\n                                              reaction2  Ambiguous  Objective  \\\n1485  Jeder Mensch mit klarem Verstand erkennt bei d...        1.0        0.0   \n1487  Es ist immer wieder schön zu sehen und zu höre...        0.0        1.0   \n1492                             Dann sagen Sie es mir?        1.0        0.0   \n1493  Das negieren des staatlichen Gewaltmonopols is...        0.0        1.0   \n1505               Dafür hattet ihr ne Ausgangssperre 😉        0.0        1.0   \n\n      Subjective  Disputed  Generalisation0  Generalisation1  Generalisation2  \\\n1485         1.0       1.0                1                0                0   \n1487         1.0       0.0                0                1                0   \n1492         1.0       1.0                0                1                0   \n1493         1.0       1.0                1                0                0   \n1505         1.0       1.0                0                0                1   \n\n      Generalisation3  Generalisation_Pred  Ambiguous_Pred  Objective_Pred  \\\n1485                0                    0               0               1   \n1487                0                    1               0               1   \n1492                0                    0               0               0   \n1493                0                    1               0               0   \n1505                0                    1               0               1   \n\n      Subjective_Pred  Disputed_Pred  \n1485                0              1  \n1487                1              1  \n1492                0              1  \n1493                1              1  \n1505                1              1  ",
      "text/html": "<div>\n<style scoped>\n    .dataframe tbody tr th:only-of-type {\n        vertical-align: middle;\n    }\n\n    .dataframe tbody tr th {\n        vertical-align: top;\n    }\n\n    .dataframe thead th {\n        text-align: right;\n    }\n</style>\n<table border=\"1\" class=\"dataframe\">\n  <thead>\n    <tr style=\"text-align: right;\">\n      <th></th>\n      <th>c_id</th>\n      <th>c_text</th>\n      <th>date</th>\n      <th>conv_id</th>\n      <th>reaction1</th>\n      <th>reaction2</th>\n      <th>Ambiguous</th>\n      <th>Objective</th>\n      <th>Subjective</th>\n      <th>Disputed</th>\n      <th>Generalisation0</th>\n      <th>Generalisation1</th>\n      <th>Generalisation2</th>\n      <th>Generalisation3</th>\n      <th>Generalisation_Pred</th>\n      <th>Ambiguous_Pred</th>\n      <th>Objective_Pred</th>\n      <th>Subjective_Pred</th>\n      <th>Disputed_Pred</th>\n    </tr>\n  </thead>\n  <tbody>\n    <tr>\n      <th>1485</th>\n      <td>1405047474310553601</td>\n      <td>Nein, nicht in einen Tiopf. Die Mitesser-NGO G...</td>\n      <td>16.06.2021 06:19</td>\n      <td>1.404880e+18</td>\n      <td>Ich werte das als impulsgetiebene Antwort. Bit...</td>\n      <td>Jeder Mensch mit klarem Verstand erkennt bei d...</td>\n      <td>1.0</td>\n      <td>0.0</td>\n      <td>1.0</td>\n      <td>1.0</td>\n      <td>1</td>\n      <td>0</td>\n      <td>0</td>\n      <td>0</td>\n      <td>0</td>\n      <td>0</td>\n      <td>1</td>\n      <td>0</td>\n      <td>1</td>\n    </tr>\n    <tr>\n      <th>1487</th>\n      <td>1393517517927223301</td>\n      <td>Ääähm... da müsste man halt jetzt wissen, dass...</td>\n      <td>15.05.2021 10:44</td>\n      <td>1.393101e+18</td>\n      <td>100%. Ich hoffe er schreibt es sich hinter sei...</td>\n      <td>Es ist immer wieder schön zu sehen und zu höre...</td>\n      <td>0.0</td>\n      <td>1.0</td>\n      <td>1.0</td>\n      <td>0.0</td>\n      <td>0</td>\n      <td>1</td>\n      <td>0</td>\n      <td>0</td>\n      <td>1</td>\n      <td>0</td>\n      <td>1</td>\n      <td>1</td>\n      <td>1</td>\n    </tr>\n    <tr>\n      <th>1492</th>\n      <td>1388783647403220994</td>\n      <td>Wer liest das? Mal ehrlich jetzt, wenn dieses ...</td>\n      <td>02.05.2021 09:13</td>\n      <td>1.388210e+18</td>\n      <td>Sie fragen, weshalb er ein Faschist sei. Ich b...</td>\n      <td>Dann sagen Sie es mir?</td>\n      <td>1.0</td>\n      <td>0.0</td>\n      <td>1.0</td>\n      <td>1.0</td>\n      <td>0</td>\n      <td>1</td>\n      <td>0</td>\n      <td>0</td>\n      <td>0</td>\n      <td>0</td>\n      <td>0</td>\n      <td>0</td>\n      <td>1</td>\n    </tr>\n    <tr>\n      <th>1493</th>\n      <td>1387373196916281344</td>\n      <td>Im Gegensatz etwa zum \"Flügel\" der AfD damals....</td>\n      <td>28.04.2021 11:48</td>\n      <td>1.387325e+18</td>\n      <td>Jetzt wird's aber sehr beliebig. Sind denn der...</td>\n      <td>Das negieren des staatlichen Gewaltmonopols is...</td>\n      <td>0.0</td>\n      <td>1.0</td>\n      <td>1.0</td>\n      <td>1.0</td>\n      <td>1</td>\n      <td>0</td>\n      <td>0</td>\n      <td>0</td>\n      <td>1</td>\n      <td>0</td>\n      <td>0</td>\n      <td>1</td>\n      <td>1</td>\n    </tr>\n    <tr>\n      <th>1505</th>\n      <td>1404378018928267264</td>\n      <td>Biergarten ist gesellschaftlich notwendiger, g...</td>\n      <td>14.06.2021 09:59</td>\n      <td>1.403864e+18</td>\n      <td>Du scheinst dich sehr auf Herrn Reitschuster e...</td>\n      <td>Dafür hattet ihr ne Ausgangssperre 😉</td>\n      <td>0.0</td>\n      <td>1.0</td>\n      <td>1.0</td>\n      <td>1.0</td>\n      <td>0</td>\n      <td>0</td>\n      <td>1</td>\n      <td>0</td>\n      <td>1</td>\n      <td>0</td>\n      <td>1</td>\n      <td>1</td>\n      <td>1</td>\n    </tr>\n  </tbody>\n</table>\n</div>"
     },
     "execution_count": 28,
     "metadata": {},
     "output_type": "execute_result"
    }
   ],
   "source": [
    "data_pred = []\n",
    "for index, row in test_data.iterrows():\n",
    "    data_pred.append(get_prediction(row))\n",
    "    \n",
    "data_pred = pd.DataFrame(data_pred)\n",
    "data_pred.head()"
   ],
   "metadata": {
    "collapsed": false,
    "ExecuteTime": {
     "end_time": "2024-02-26T16:04:09.394196500Z",
     "start_time": "2024-02-26T16:04:09.004115300Z"
    }
   },
   "id": "d1540c8f500c02a",
   "execution_count": 28
  },
  {
   "cell_type": "code",
   "outputs": [],
   "source": [
    "data_pred.to_csv('dataset/05_predictions-for-test-comments.csv', sep=';', index=False, header=True, encoding='utf-8-sig') "
   ],
   "metadata": {
    "collapsed": false,
    "ExecuteTime": {
     "end_time": "2024-02-26T16:04:09.486277900Z",
     "start_time": "2024-02-26T16:04:09.394196500Z"
    }
   },
   "id": "8045b46e5e22c026",
   "execution_count": 29
  }
 ],
 "metadata": {
  "kernelspec": {
   "display_name": "Python 3",
   "language": "python",
   "name": "python3"
  },
  "language_info": {
   "codemirror_mode": {
    "name": "ipython",
    "version": 2
   },
   "file_extension": ".py",
   "mimetype": "text/x-python",
   "name": "python",
   "nbconvert_exporter": "python",
   "pygments_lexer": "ipython2",
   "version": "2.7.6"
  }
 },
 "nbformat": 4,
 "nbformat_minor": 5
}
