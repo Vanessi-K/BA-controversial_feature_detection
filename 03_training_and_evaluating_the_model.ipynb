{
 "cells": [
  {
   "cell_type": "code",
   "execution_count": 1,
   "id": "initial_id",
   "metadata": {
    "collapsed": true,
    "ExecuteTime": {
     "end_time": "2024-04-20T09:38:08.392433500Z",
     "start_time": "2024-04-20T09:37:57.092388300Z"
    }
   },
   "outputs": [],
   "source": [
    "from transformers import DistilBertTokenizer, DistilBertModel\n",
    "import pandas as pd\n",
    "import numpy as np\n",
    "import torch\n",
    "import shutil\n",
    "from timeit import default_timer as timer\n",
    "from torchmetrics.classification import MultilabelF1Score, MultilabelAccuracy, MultilabelStatScores\n",
    "import matplotlib.pyplot as plt"
   ]
  },
  {
   "cell_type": "markdown",
   "source": [
    "# Read the dataset"
   ],
   "metadata": {
    "collapsed": false
   },
   "id": "608458f4411e37bc"
  },
  {
   "cell_type": "code",
   "outputs": [],
   "source": [
    "file_path = 'dataset/04_comments_annotated-values.csv'\n",
    "data = pd.read_csv(file_path, delimiter=';')"
   ],
   "metadata": {
    "collapsed": false,
    "ExecuteTime": {
     "end_time": "2024-04-20T09:38:08.481431600Z",
     "start_time": "2024-04-20T09:38:08.394434400Z"
    }
   },
   "id": "dcbfdf82a33b855d",
   "execution_count": 2
  },
  {
   "cell_type": "code",
   "outputs": [
    {
     "data": {
      "text/plain": "                  c_id                                             c_text  \\\n0  1391717608802631681  Wer so ein Profilbild wie sie hochlädt kann nu...   \n1  1389188826799673345  Willst du jetzt etwa behaupten das Querdenker ...   \n2  1385241285645291521  Aber Bild hat doch gerade deswegen und diesbez...   \n3  1385240437988986887  Das sehe ich auch genau so. Dieser Brinkhaus i...   \n4  1389640445790199809  Mit den Milliarden Unterstützungsgeldern die s...   \n\n               date  conv_id reaction1 reaction2  Ambiguous  Objective  \\\n0  10.05.2021 11:31      NaN       NaN       NaN        0.0        0.0   \n1  03.05.2021 12:03      NaN       NaN       NaN        1.0        0.0   \n2  22.04.2021 14:37      NaN       NaN       NaN        0.0        1.0   \n3  22.04.2021 14:33      NaN       NaN       NaN        1.0        0.0   \n4  04.05.2021 17:57      NaN       NaN       NaN        0.0        0.0   \n\n   Subjective  Disputed  Generalisation0  Generalisation1  Generalisation2  \\\n0         1.0       0.0                0                0                0   \n1         1.0       0.0                0                0                0   \n2         1.0       0.0                0                1                0   \n3         1.0       0.0                1                0                0   \n4         1.0       0.0                0                0                1   \n\n   Generalisation3  \n0                1  \n1                1  \n2                0  \n3                0  \n4                0  ",
      "text/html": "<div>\n<style scoped>\n    .dataframe tbody tr th:only-of-type {\n        vertical-align: middle;\n    }\n\n    .dataframe tbody tr th {\n        vertical-align: top;\n    }\n\n    .dataframe thead th {\n        text-align: right;\n    }\n</style>\n<table border=\"1\" class=\"dataframe\">\n  <thead>\n    <tr style=\"text-align: right;\">\n      <th></th>\n      <th>c_id</th>\n      <th>c_text</th>\n      <th>date</th>\n      <th>conv_id</th>\n      <th>reaction1</th>\n      <th>reaction2</th>\n      <th>Ambiguous</th>\n      <th>Objective</th>\n      <th>Subjective</th>\n      <th>Disputed</th>\n      <th>Generalisation0</th>\n      <th>Generalisation1</th>\n      <th>Generalisation2</th>\n      <th>Generalisation3</th>\n    </tr>\n  </thead>\n  <tbody>\n    <tr>\n      <th>0</th>\n      <td>1391717608802631681</td>\n      <td>Wer so ein Profilbild wie sie hochlädt kann nu...</td>\n      <td>10.05.2021 11:31</td>\n      <td>NaN</td>\n      <td>NaN</td>\n      <td>NaN</td>\n      <td>0.0</td>\n      <td>0.0</td>\n      <td>1.0</td>\n      <td>0.0</td>\n      <td>0</td>\n      <td>0</td>\n      <td>0</td>\n      <td>1</td>\n    </tr>\n    <tr>\n      <th>1</th>\n      <td>1389188826799673345</td>\n      <td>Willst du jetzt etwa behaupten das Querdenker ...</td>\n      <td>03.05.2021 12:03</td>\n      <td>NaN</td>\n      <td>NaN</td>\n      <td>NaN</td>\n      <td>1.0</td>\n      <td>0.0</td>\n      <td>1.0</td>\n      <td>0.0</td>\n      <td>0</td>\n      <td>0</td>\n      <td>0</td>\n      <td>1</td>\n    </tr>\n    <tr>\n      <th>2</th>\n      <td>1385241285645291521</td>\n      <td>Aber Bild hat doch gerade deswegen und diesbez...</td>\n      <td>22.04.2021 14:37</td>\n      <td>NaN</td>\n      <td>NaN</td>\n      <td>NaN</td>\n      <td>0.0</td>\n      <td>1.0</td>\n      <td>1.0</td>\n      <td>0.0</td>\n      <td>0</td>\n      <td>1</td>\n      <td>0</td>\n      <td>0</td>\n    </tr>\n    <tr>\n      <th>3</th>\n      <td>1385240437988986887</td>\n      <td>Das sehe ich auch genau so. Dieser Brinkhaus i...</td>\n      <td>22.04.2021 14:33</td>\n      <td>NaN</td>\n      <td>NaN</td>\n      <td>NaN</td>\n      <td>1.0</td>\n      <td>0.0</td>\n      <td>1.0</td>\n      <td>0.0</td>\n      <td>1</td>\n      <td>0</td>\n      <td>0</td>\n      <td>0</td>\n    </tr>\n    <tr>\n      <th>4</th>\n      <td>1389640445790199809</td>\n      <td>Mit den Milliarden Unterstützungsgeldern die s...</td>\n      <td>04.05.2021 17:57</td>\n      <td>NaN</td>\n      <td>NaN</td>\n      <td>NaN</td>\n      <td>0.0</td>\n      <td>0.0</td>\n      <td>1.0</td>\n      <td>0.0</td>\n      <td>0</td>\n      <td>0</td>\n      <td>1</td>\n      <td>0</td>\n    </tr>\n  </tbody>\n</table>\n</div>"
     },
     "execution_count": 3,
     "metadata": {},
     "output_type": "execute_result"
    }
   ],
   "source": [
    "data.head()"
   ],
   "metadata": {
    "collapsed": false,
    "ExecuteTime": {
     "end_time": "2024-04-20T09:38:08.587432100Z",
     "start_time": "2024-04-20T09:38:08.453433300Z"
    }
   },
   "id": "d4ead10737c28116",
   "execution_count": 3
  },
  {
   "cell_type": "markdown",
   "source": [
    "## Remove test-data"
   ],
   "metadata": {
    "collapsed": false
   },
   "id": "22cedf9382f9c921"
  },
  {
   "cell_type": "code",
   "outputs": [],
   "source": [
    "sample_data_ids = [\n",
    "    1405047474310553601,\n",
    "    1388783647403220994,\n",
    "    1387373196916281344,\n",
    "    1405544796559601673,\n",
    "    1401594561835773957,\n",
    "    1405219910960156675,\n",
    "    1394285068944818176,\n",
    "    1405106839642062848,\n",
    "    1403073727332560902,\n",
    "    1406556368241369090,\n",
    "    1384598185356767235,\n",
    "    1398590532167864320,\n",
    "    1393517517927223301,\n",
    "    1404378018928267264,\n",
    "    1387505263159218179\n",
    "]\n",
    "\n",
    "sample_data = data[data['c_id'].isin(sample_data_ids)]\n",
    "data = data[~data['c_id'].isin(sample_data_ids)]"
   ],
   "metadata": {
    "collapsed": false,
    "ExecuteTime": {
     "end_time": "2024-04-20T09:38:08.589435200Z",
     "start_time": "2024-04-20T09:38:08.496436700Z"
    }
   },
   "id": "a2cf97529c466ffd",
   "execution_count": 4
  },
  {
   "cell_type": "code",
   "outputs": [
    {
     "data": {
      "text/plain": "                     c_id                                             c_text  \\\n1485  1405047474310553601  Nein, nicht in einen Tiopf. Die Mitesser-NGO G...   \n1487  1393517517927223301  Ääähm... da müsste man halt jetzt wissen, dass...   \n1492  1388783647403220994  Wer liest das? Mal ehrlich jetzt, wenn dieses ...   \n1493  1387373196916281344  Im Gegensatz etwa zum \"Flügel\" der AfD damals....   \n1505  1404378018928267264  Biergarten ist gesellschaftlich notwendiger, g...   \n1526  1405544796559601673  ich sage nicht dass wissenschaft gekauft ist. ...   \n1529  1387505263159218179  Corona gibt es sehr wohl, aber wo stecken sich...   \n1545  1401594561835773957  Die brauen Rattenfänger bleiben außen vor und ...   \n1556  1405219910960156675           Dann waren es wohl die falschen Medien..   \n1561  1394285068944818176  Aber das macht doch die Situation für Juden HI...   \n1577  1405106839642062848  Wir übernehmen volle Verantwortung für diesen ...   \n1624  1403073727332560902  Im gegensatz zu dir tue ich das. und für die c...   \n1689  1406556368241369090  Was hat dann Bandenwerbung im Sport verloren? ...   \n1722  1384598185356767235  Wer die Grünen wählt, hat die Kontrolle über s...   \n1733  1398590532167864320  So ein Blödsinn. Fühlt ihr euch frei? Frei von...   \n\n                  date       conv_id  \\\n1485  16.06.2021 06:19  1.404880e+18   \n1487  15.05.2021 10:44  1.393101e+18   \n1492  02.05.2021 09:13  1.388210e+18   \n1493  28.04.2021 11:48  1.387325e+18   \n1505  14.06.2021 09:59  1.403864e+18   \n1526  17.06.2021 15:16  1.404880e+18   \n1529  28.04.2021 20:33  1.387325e+18   \n1545  06.06.2021 17:39  1.401583e+18   \n1556  16.06.2021 17:45  1.405213e+18   \n1561  17.05.2021 13:33  1.393929e+18   \n1577  16.06.2021 10:15  1.404880e+18   \n1624  10.06.2021 19:36  1.401583e+18   \n1689  20.06.2021 10:15  1.406508e+18   \n1722  20.04.2021 20:01  1.384598e+18   \n1733  29.05.2021 10:42  1.398384e+18   \n\n                                              reaction1  \\\n1485  Ich werte das als impulsgetiebene Antwort. Bit...   \n1487  100%. Ich hoffe er schreibt es sich hinter sei...   \n1492  Sie fragen, weshalb er ein Faschist sei. Ich b...   \n1493  Jetzt wird's aber sehr beliebig. Sind denn der...   \n1505  Du scheinst dich sehr auf Herrn Reitschuster e...   \n1526  das problem ist dass die industrielle landwirt...   \n1529  Ja, aber genau das ist doch das Problem. Die L...   \n1545  Jo, das stimmt. Aber dass die Bearbock Crew im...   \n1556  Meinen Sie verantwortungslose Eltern, die den ...   \n1561                       Ja, aber nur auf dem Papier!   \n1577  Die haben Tatsache beim Spiel nicht versucht u...   \n1624  ... wieder Quatsch ... aber Querdenker leben j...   \n1689  Ihre Drogen würde ich auch gerne nehmen😂😂 Also...   \n1722  Und wer die AfD wählt hat die Kontrolle über s...   \n1733  Freizeit ist vor allem Selbstbestimmung und di...   \n\n                                              reaction2  Ambiguous  Objective  \\\n1485  Jeder Mensch mit klarem Verstand erkennt bei d...        1.0        0.0   \n1487  Es ist immer wieder schön zu sehen und zu höre...        0.0        1.0   \n1492                             Dann sagen Sie es mir?        1.0        0.0   \n1493  Das negieren des staatlichen Gewaltmonopols is...        0.0        1.0   \n1505               Dafür hattet ihr ne Ausgangssperre 😉        0.0        1.0   \n1526  Warum ist es \"das Übel\"? Mit vorindustriellen ...        0.0        1.0   \n1529  Ja aber warum müssen denn alle seit einem Jahr...        0.0        1.0   \n1545                 Btw..wieviel hat die Afd verloren?        1.0        0.0   \n1556             Welche sind denn die richtigen Medien?        0.0        0.0   \n1561                     Ja, Deutsche auf dem \"Papier\"!        0.0        0.0   \n1577  Fakt ist aber dass die aktion: - illegal ist -...        0.0        1.0   \n1624  wer zu solchen worten greift, kehrt besser vor...        1.0        0.0   \n1689               Wie dumm ist Ihre Aussage bitte!? 🤦🤦        1.0        0.0   \n1722  Es gibt nichts besseres als die AfD. Alles Men...        0.0        0.0   \n1733  Erkläre mir mal, weshalb ich nicht frei bin. W...        1.0        0.0   \n\n      Subjective  Disputed  Generalisation0  Generalisation1  Generalisation2  \\\n1485         1.0       1.0                1                0                0   \n1487         1.0       0.0                0                1                0   \n1492         1.0       1.0                0                1                0   \n1493         1.0       1.0                1                0                0   \n1505         1.0       1.0                0                0                1   \n1526         1.0       1.0                0                1                0   \n1529         1.0       1.0                0                0                1   \n1545         1.0       1.0                1                0                0   \n1556         1.0       1.0                0                1                0   \n1561         1.0       1.0                0                0                1   \n1577         1.0       1.0                1                0                0   \n1624         1.0       1.0                0                1                0   \n1689         1.0       0.0                0                1                0   \n1722         1.0       1.0                0                1                0   \n1733         1.0       1.0                0                1                0   \n\n      Generalisation3  \n1485                0  \n1487                0  \n1492                0  \n1493                0  \n1505                0  \n1526                0  \n1529                0  \n1545                0  \n1556                0  \n1561                0  \n1577                0  \n1624                0  \n1689                0  \n1722                0  \n1733                0  ",
      "text/html": "<div>\n<style scoped>\n    .dataframe tbody tr th:only-of-type {\n        vertical-align: middle;\n    }\n\n    .dataframe tbody tr th {\n        vertical-align: top;\n    }\n\n    .dataframe thead th {\n        text-align: right;\n    }\n</style>\n<table border=\"1\" class=\"dataframe\">\n  <thead>\n    <tr style=\"text-align: right;\">\n      <th></th>\n      <th>c_id</th>\n      <th>c_text</th>\n      <th>date</th>\n      <th>conv_id</th>\n      <th>reaction1</th>\n      <th>reaction2</th>\n      <th>Ambiguous</th>\n      <th>Objective</th>\n      <th>Subjective</th>\n      <th>Disputed</th>\n      <th>Generalisation0</th>\n      <th>Generalisation1</th>\n      <th>Generalisation2</th>\n      <th>Generalisation3</th>\n    </tr>\n  </thead>\n  <tbody>\n    <tr>\n      <th>1485</th>\n      <td>1405047474310553601</td>\n      <td>Nein, nicht in einen Tiopf. Die Mitesser-NGO G...</td>\n      <td>16.06.2021 06:19</td>\n      <td>1.404880e+18</td>\n      <td>Ich werte das als impulsgetiebene Antwort. Bit...</td>\n      <td>Jeder Mensch mit klarem Verstand erkennt bei d...</td>\n      <td>1.0</td>\n      <td>0.0</td>\n      <td>1.0</td>\n      <td>1.0</td>\n      <td>1</td>\n      <td>0</td>\n      <td>0</td>\n      <td>0</td>\n    </tr>\n    <tr>\n      <th>1487</th>\n      <td>1393517517927223301</td>\n      <td>Ääähm... da müsste man halt jetzt wissen, dass...</td>\n      <td>15.05.2021 10:44</td>\n      <td>1.393101e+18</td>\n      <td>100%. Ich hoffe er schreibt es sich hinter sei...</td>\n      <td>Es ist immer wieder schön zu sehen und zu höre...</td>\n      <td>0.0</td>\n      <td>1.0</td>\n      <td>1.0</td>\n      <td>0.0</td>\n      <td>0</td>\n      <td>1</td>\n      <td>0</td>\n      <td>0</td>\n    </tr>\n    <tr>\n      <th>1492</th>\n      <td>1388783647403220994</td>\n      <td>Wer liest das? Mal ehrlich jetzt, wenn dieses ...</td>\n      <td>02.05.2021 09:13</td>\n      <td>1.388210e+18</td>\n      <td>Sie fragen, weshalb er ein Faschist sei. Ich b...</td>\n      <td>Dann sagen Sie es mir?</td>\n      <td>1.0</td>\n      <td>0.0</td>\n      <td>1.0</td>\n      <td>1.0</td>\n      <td>0</td>\n      <td>1</td>\n      <td>0</td>\n      <td>0</td>\n    </tr>\n    <tr>\n      <th>1493</th>\n      <td>1387373196916281344</td>\n      <td>Im Gegensatz etwa zum \"Flügel\" der AfD damals....</td>\n      <td>28.04.2021 11:48</td>\n      <td>1.387325e+18</td>\n      <td>Jetzt wird's aber sehr beliebig. Sind denn der...</td>\n      <td>Das negieren des staatlichen Gewaltmonopols is...</td>\n      <td>0.0</td>\n      <td>1.0</td>\n      <td>1.0</td>\n      <td>1.0</td>\n      <td>1</td>\n      <td>0</td>\n      <td>0</td>\n      <td>0</td>\n    </tr>\n    <tr>\n      <th>1505</th>\n      <td>1404378018928267264</td>\n      <td>Biergarten ist gesellschaftlich notwendiger, g...</td>\n      <td>14.06.2021 09:59</td>\n      <td>1.403864e+18</td>\n      <td>Du scheinst dich sehr auf Herrn Reitschuster e...</td>\n      <td>Dafür hattet ihr ne Ausgangssperre 😉</td>\n      <td>0.0</td>\n      <td>1.0</td>\n      <td>1.0</td>\n      <td>1.0</td>\n      <td>0</td>\n      <td>0</td>\n      <td>1</td>\n      <td>0</td>\n    </tr>\n    <tr>\n      <th>1526</th>\n      <td>1405544796559601673</td>\n      <td>ich sage nicht dass wissenschaft gekauft ist. ...</td>\n      <td>17.06.2021 15:16</td>\n      <td>1.404880e+18</td>\n      <td>das problem ist dass die industrielle landwirt...</td>\n      <td>Warum ist es \"das Übel\"? Mit vorindustriellen ...</td>\n      <td>0.0</td>\n      <td>1.0</td>\n      <td>1.0</td>\n      <td>1.0</td>\n      <td>0</td>\n      <td>1</td>\n      <td>0</td>\n      <td>0</td>\n    </tr>\n    <tr>\n      <th>1529</th>\n      <td>1387505263159218179</td>\n      <td>Corona gibt es sehr wohl, aber wo stecken sich...</td>\n      <td>28.04.2021 20:33</td>\n      <td>1.387325e+18</td>\n      <td>Ja, aber genau das ist doch das Problem. Die L...</td>\n      <td>Ja aber warum müssen denn alle seit einem Jahr...</td>\n      <td>0.0</td>\n      <td>1.0</td>\n      <td>1.0</td>\n      <td>1.0</td>\n      <td>0</td>\n      <td>0</td>\n      <td>1</td>\n      <td>0</td>\n    </tr>\n    <tr>\n      <th>1545</th>\n      <td>1401594561835773957</td>\n      <td>Die brauen Rattenfänger bleiben außen vor und ...</td>\n      <td>06.06.2021 17:39</td>\n      <td>1.401583e+18</td>\n      <td>Jo, das stimmt. Aber dass die Bearbock Crew im...</td>\n      <td>Btw..wieviel hat die Afd verloren?</td>\n      <td>1.0</td>\n      <td>0.0</td>\n      <td>1.0</td>\n      <td>1.0</td>\n      <td>1</td>\n      <td>0</td>\n      <td>0</td>\n      <td>0</td>\n    </tr>\n    <tr>\n      <th>1556</th>\n      <td>1405219910960156675</td>\n      <td>Dann waren es wohl die falschen Medien..</td>\n      <td>16.06.2021 17:45</td>\n      <td>1.405213e+18</td>\n      <td>Meinen Sie verantwortungslose Eltern, die den ...</td>\n      <td>Welche sind denn die richtigen Medien?</td>\n      <td>0.0</td>\n      <td>0.0</td>\n      <td>1.0</td>\n      <td>1.0</td>\n      <td>0</td>\n      <td>1</td>\n      <td>0</td>\n      <td>0</td>\n    </tr>\n    <tr>\n      <th>1561</th>\n      <td>1394285068944818176</td>\n      <td>Aber das macht doch die Situation für Juden HI...</td>\n      <td>17.05.2021 13:33</td>\n      <td>1.393929e+18</td>\n      <td>Ja, aber nur auf dem Papier!</td>\n      <td>Ja, Deutsche auf dem \"Papier\"!</td>\n      <td>0.0</td>\n      <td>0.0</td>\n      <td>1.0</td>\n      <td>1.0</td>\n      <td>0</td>\n      <td>0</td>\n      <td>1</td>\n      <td>0</td>\n    </tr>\n    <tr>\n      <th>1577</th>\n      <td>1405106839642062848</td>\n      <td>Wir übernehmen volle Verantwortung für diesen ...</td>\n      <td>16.06.2021 10:15</td>\n      <td>1.404880e+18</td>\n      <td>Die haben Tatsache beim Spiel nicht versucht u...</td>\n      <td>Fakt ist aber dass die aktion: - illegal ist -...</td>\n      <td>0.0</td>\n      <td>1.0</td>\n      <td>1.0</td>\n      <td>1.0</td>\n      <td>1</td>\n      <td>0</td>\n      <td>0</td>\n      <td>0</td>\n    </tr>\n    <tr>\n      <th>1624</th>\n      <td>1403073727332560902</td>\n      <td>Im gegensatz zu dir tue ich das. und für die c...</td>\n      <td>10.06.2021 19:36</td>\n      <td>1.401583e+18</td>\n      <td>... wieder Quatsch ... aber Querdenker leben j...</td>\n      <td>wer zu solchen worten greift, kehrt besser vor...</td>\n      <td>1.0</td>\n      <td>0.0</td>\n      <td>1.0</td>\n      <td>1.0</td>\n      <td>0</td>\n      <td>1</td>\n      <td>0</td>\n      <td>0</td>\n    </tr>\n    <tr>\n      <th>1689</th>\n      <td>1406556368241369090</td>\n      <td>Was hat dann Bandenwerbung im Sport verloren? ...</td>\n      <td>20.06.2021 10:15</td>\n      <td>1.406508e+18</td>\n      <td>Ihre Drogen würde ich auch gerne nehmen😂😂 Also...</td>\n      <td>Wie dumm ist Ihre Aussage bitte!? 🤦🤦</td>\n      <td>1.0</td>\n      <td>0.0</td>\n      <td>1.0</td>\n      <td>0.0</td>\n      <td>0</td>\n      <td>1</td>\n      <td>0</td>\n      <td>0</td>\n    </tr>\n    <tr>\n      <th>1722</th>\n      <td>1384598185356767235</td>\n      <td>Wer die Grünen wählt, hat die Kontrolle über s...</td>\n      <td>20.04.2021 20:01</td>\n      <td>1.384598e+18</td>\n      <td>Und wer die AfD wählt hat die Kontrolle über s...</td>\n      <td>Es gibt nichts besseres als die AfD. Alles Men...</td>\n      <td>0.0</td>\n      <td>0.0</td>\n      <td>1.0</td>\n      <td>1.0</td>\n      <td>0</td>\n      <td>1</td>\n      <td>0</td>\n      <td>0</td>\n    </tr>\n    <tr>\n      <th>1733</th>\n      <td>1398590532167864320</td>\n      <td>So ein Blödsinn. Fühlt ihr euch frei? Frei von...</td>\n      <td>29.05.2021 10:42</td>\n      <td>1.398384e+18</td>\n      <td>Freizeit ist vor allem Selbstbestimmung und di...</td>\n      <td>Erkläre mir mal, weshalb ich nicht frei bin. W...</td>\n      <td>1.0</td>\n      <td>0.0</td>\n      <td>1.0</td>\n      <td>1.0</td>\n      <td>0</td>\n      <td>1</td>\n      <td>0</td>\n      <td>0</td>\n    </tr>\n  </tbody>\n</table>\n</div>"
     },
     "execution_count": 5,
     "metadata": {},
     "output_type": "execute_result"
    }
   ],
   "source": [
    "sample_data.head(15)"
   ],
   "metadata": {
    "collapsed": false,
    "ExecuteTime": {
     "end_time": "2024-04-20T09:38:08.666457100Z",
     "start_time": "2024-04-20T09:38:08.517440200Z"
    }
   },
   "id": "de7cb29d3e6249d9",
   "execution_count": 5
  },
  {
   "cell_type": "markdown",
   "source": [
    "## Prepare data structure"
   ],
   "metadata": {
    "collapsed": false
   },
   "id": "7210ac371a7d7f9d"
  },
  {
   "cell_type": "code",
   "outputs": [],
   "source": [
    "data.drop(labels=['c_id', 'date', 'conv_id'], axis=1, inplace=True)"
   ],
   "metadata": {
    "collapsed": false,
    "ExecuteTime": {
     "end_time": "2024-04-20T09:38:08.669432200Z",
     "start_time": "2024-04-20T09:38:08.554434100Z"
    }
   },
   "id": "64a2e61fbac700ff",
   "execution_count": 6
  },
  {
   "cell_type": "code",
   "outputs": [
    {
     "data": {
      "text/plain": "                                              c_text reaction1 reaction2  \\\n0  Wer so ein Profilbild wie sie hochlädt kann nu...       NaN       NaN   \n1  Willst du jetzt etwa behaupten das Querdenker ...       NaN       NaN   \n2  Aber Bild hat doch gerade deswegen und diesbez...       NaN       NaN   \n3  Das sehe ich auch genau so. Dieser Brinkhaus i...       NaN       NaN   \n4  Mit den Milliarden Unterstützungsgeldern die s...       NaN       NaN   \n\n   Ambiguous  Objective  Subjective  Disputed  Generalisation0  \\\n0        0.0        0.0         1.0       0.0                0   \n1        1.0        0.0         1.0       0.0                0   \n2        0.0        1.0         1.0       0.0                0   \n3        1.0        0.0         1.0       0.0                1   \n4        0.0        0.0         1.0       0.0                0   \n\n   Generalisation1  Generalisation2  Generalisation3  \n0                0                0                1  \n1                0                0                1  \n2                1                0                0  \n3                0                0                0  \n4                0                1                0  ",
      "text/html": "<div>\n<style scoped>\n    .dataframe tbody tr th:only-of-type {\n        vertical-align: middle;\n    }\n\n    .dataframe tbody tr th {\n        vertical-align: top;\n    }\n\n    .dataframe thead th {\n        text-align: right;\n    }\n</style>\n<table border=\"1\" class=\"dataframe\">\n  <thead>\n    <tr style=\"text-align: right;\">\n      <th></th>\n      <th>c_text</th>\n      <th>reaction1</th>\n      <th>reaction2</th>\n      <th>Ambiguous</th>\n      <th>Objective</th>\n      <th>Subjective</th>\n      <th>Disputed</th>\n      <th>Generalisation0</th>\n      <th>Generalisation1</th>\n      <th>Generalisation2</th>\n      <th>Generalisation3</th>\n    </tr>\n  </thead>\n  <tbody>\n    <tr>\n      <th>0</th>\n      <td>Wer so ein Profilbild wie sie hochlädt kann nu...</td>\n      <td>NaN</td>\n      <td>NaN</td>\n      <td>0.0</td>\n      <td>0.0</td>\n      <td>1.0</td>\n      <td>0.0</td>\n      <td>0</td>\n      <td>0</td>\n      <td>0</td>\n      <td>1</td>\n    </tr>\n    <tr>\n      <th>1</th>\n      <td>Willst du jetzt etwa behaupten das Querdenker ...</td>\n      <td>NaN</td>\n      <td>NaN</td>\n      <td>1.0</td>\n      <td>0.0</td>\n      <td>1.0</td>\n      <td>0.0</td>\n      <td>0</td>\n      <td>0</td>\n      <td>0</td>\n      <td>1</td>\n    </tr>\n    <tr>\n      <th>2</th>\n      <td>Aber Bild hat doch gerade deswegen und diesbez...</td>\n      <td>NaN</td>\n      <td>NaN</td>\n      <td>0.0</td>\n      <td>1.0</td>\n      <td>1.0</td>\n      <td>0.0</td>\n      <td>0</td>\n      <td>1</td>\n      <td>0</td>\n      <td>0</td>\n    </tr>\n    <tr>\n      <th>3</th>\n      <td>Das sehe ich auch genau so. Dieser Brinkhaus i...</td>\n      <td>NaN</td>\n      <td>NaN</td>\n      <td>1.0</td>\n      <td>0.0</td>\n      <td>1.0</td>\n      <td>0.0</td>\n      <td>1</td>\n      <td>0</td>\n      <td>0</td>\n      <td>0</td>\n    </tr>\n    <tr>\n      <th>4</th>\n      <td>Mit den Milliarden Unterstützungsgeldern die s...</td>\n      <td>NaN</td>\n      <td>NaN</td>\n      <td>0.0</td>\n      <td>0.0</td>\n      <td>1.0</td>\n      <td>0.0</td>\n      <td>0</td>\n      <td>0</td>\n      <td>1</td>\n      <td>0</td>\n    </tr>\n  </tbody>\n</table>\n</div>"
     },
     "execution_count": 7,
     "metadata": {},
     "output_type": "execute_result"
    }
   ],
   "source": [
    "data.head()"
   ],
   "metadata": {
    "collapsed": false,
    "ExecuteTime": {
     "end_time": "2024-04-20T09:38:08.801431Z",
     "start_time": "2024-04-20T09:38:08.562434500Z"
    }
   },
   "id": "521a979d09eab60f",
   "execution_count": 7
  },
  {
   "cell_type": "markdown",
   "source": [
    "# Process the data"
   ],
   "metadata": {
    "collapsed": false
   },
   "id": "5ba42cb29e4cdfbe"
  },
  {
   "cell_type": "code",
   "outputs": [],
   "source": [
    "target_list = ['Generalisation0', 'Generalisation1', 'Generalisation2', 'Generalisation3', 'Ambiguous', 'Objective', 'Subjective', 'Disputed']"
   ],
   "metadata": {
    "collapsed": false,
    "ExecuteTime": {
     "end_time": "2024-04-20T09:38:08.805430900Z",
     "start_time": "2024-04-20T09:38:08.580435700Z"
    }
   },
   "id": "1422dbc9d69f6b84",
   "execution_count": 8
  },
  {
   "cell_type": "code",
   "outputs": [],
   "source": [
    "MAX_LEN = 256\n",
    "TRAIN_BATCH_SIZE = 64\n",
    "VALID_BATCH_SIZE = 64\n",
    "EPOCHS = 7\n",
    "LEARNING_RATE = 1e-5"
   ],
   "metadata": {
    "collapsed": false,
    "ExecuteTime": {
     "end_time": "2024-04-20T09:38:08.806430900Z",
     "start_time": "2024-04-20T09:38:08.594432100Z"
    }
   },
   "id": "387a20c9131d19a6",
   "execution_count": 9
  },
  {
   "cell_type": "code",
   "outputs": [],
   "source": [
    "tokenizer = DistilBertTokenizer.from_pretrained(\"distilbert-base-multilingual-cased\")\n",
    "\n",
    "def get_encodings(text, reaction1, reaction2):\n",
    "    text = str(text)\n",
    "    text = \" \".join(text.split())\n",
    "    \n",
    "    reaction1 = str(reaction1)\n",
    "    reaction1 = \" \".join(reaction1.split())\n",
    "    \n",
    "    reaction2 = str(reaction2)\n",
    "    reaction2 = \" \".join(reaction2.split())\n",
    "    \n",
    "    encodings = tokenizer.__call__(\n",
    "            text + ' [SEP] ' + reaction1 + ' ' + reaction2, \n",
    "            add_special_tokens=True,\n",
    "            max_length=MAX_LEN,\n",
    "            padding='max_length',\n",
    "            truncation=True,\n",
    "            return_attention_mask=True,\n",
    "            return_token_type_ids=True,\n",
    "            return_tensors='pt'\n",
    "        )\n",
    "    \n",
    "    return encodings['input_ids'], encodings['attention_mask'], encodings['token_type_ids']"
   ],
   "metadata": {
    "collapsed": false,
    "ExecuteTime": {
     "end_time": "2024-04-20T09:38:10.571432800Z",
     "start_time": "2024-04-20T09:38:08.615435900Z"
    }
   },
   "id": "c75a413702e0692a",
   "execution_count": 10
  },
  {
   "cell_type": "code",
   "outputs": [],
   "source": [
    "class CustomDataset (torch.utils.data.Dataset):\n",
    "    def __init__(self, df, tokenizer, max_len):\n",
    "        self.df = df\n",
    "        self.tokenizer = tokenizer\n",
    "        self.max_len = max_len\n",
    "        self.title = self.df['c_text']\n",
    "        self.reaction1 = self.df['reaction1']\n",
    "        self.reaction2 = self.df['reaction2']\n",
    "        self.targets = self.df[target_list].values\n",
    "        \n",
    "    def __len__(self):\n",
    "        return len(self.title)\n",
    "    \n",
    "    def __getitem__(self, index):        \n",
    "        input_ids, attention_mask, token_type_ids = get_encodings(self.title[index], self.reaction1[index], self.reaction2[index])\n",
    "        \n",
    "        return {\n",
    "            'input_ids': input_ids.flatten(),\n",
    "            'attention_mask': attention_mask.flatten(),\n",
    "            'token_type_ids': token_type_ids.flatten(),\n",
    "            'targets': torch.tensor(self.targets[index], dtype=torch.float)\n",
    "        }"
   ],
   "metadata": {
    "collapsed": false,
    "ExecuteTime": {
     "end_time": "2024-04-20T09:38:10.617433500Z",
     "start_time": "2024-04-20T09:38:10.574431700Z"
    }
   },
   "id": "19838c24cd78475a",
   "execution_count": 11
  },
  {
   "cell_type": "markdown",
   "source": [
    "# Generate the dataset"
   ],
   "metadata": {
    "collapsed": false
   },
   "id": "c0cce338ae2f8979"
  },
  {
   "cell_type": "code",
   "outputs": [
    {
     "name": "stdout",
     "output_type": "stream",
     "text": [
      "(2373, 11)\n",
      "train_data (1661, 11)\n",
      "validation_data (470, 11)\n",
      "test_data (242, 11)\n"
     ]
    }
   ],
   "source": [
    "train_size = 0.7\n",
    "val_size = 0.66 # (Two thirds of the remaining 30%)\n",
    "\n",
    "print(data.shape)\n",
    "train_data = data.sample(frac=train_size, random_state=200)\n",
    "non_training_data = data.drop(train_data.index)\n",
    "validation_data = non_training_data.sample(frac=val_size, random_state=200)\n",
    "test_data = non_training_data.drop(validation_data.index)\n",
    "\n",
    "train_data = train_data.reset_index(drop=True)\n",
    "validation_data = validation_data.reset_index(drop=True)\n",
    "test_data = test_data.reset_index(drop=True)\n",
    "\n",
    "print('train_data', train_data.shape)\n",
    "print('validation_data', validation_data.shape)\n",
    "print('test_data', test_data.shape)"
   ],
   "metadata": {
    "collapsed": false,
    "ExecuteTime": {
     "end_time": "2024-04-20T09:38:10.673430200Z",
     "start_time": "2024-04-20T09:38:10.588434Z"
    }
   },
   "id": "f6dc9c521b03eb81",
   "execution_count": 12
  },
  {
   "cell_type": "code",
   "outputs": [],
   "source": [
    "train_data = CustomDataset(train_data, tokenizer, MAX_LEN)\n",
    "validation_data = CustomDataset(validation_data, tokenizer, MAX_LEN)"
   ],
   "metadata": {
    "collapsed": false,
    "ExecuteTime": {
     "end_time": "2024-04-20T09:38:10.675430400Z",
     "start_time": "2024-04-20T09:38:10.618433900Z"
    }
   },
   "id": "c98ceceb0f1dec9c",
   "execution_count": 13
  },
  {
   "cell_type": "code",
   "outputs": [],
   "source": [
    "train_data_loader = torch.utils.data.DataLoader(train_data, batch_size=TRAIN_BATCH_SIZE, shuffle=True, num_workers=0)\n",
    "validation_data_loader = torch.utils.data.DataLoader(validation_data, batch_size=VALID_BATCH_SIZE, shuffle=False, num_workers=0)"
   ],
   "metadata": {
    "collapsed": false,
    "ExecuteTime": {
     "end_time": "2024-04-20T09:38:10.676430500Z",
     "start_time": "2024-04-20T09:38:10.636431200Z"
    }
   },
   "id": "47978d8dfe1ea61e",
   "execution_count": 14
  },
  {
   "cell_type": "markdown",
   "source": [
    "# Create model"
   ],
   "metadata": {
    "collapsed": false
   },
   "id": "d13e73dda01415c4"
  },
  {
   "cell_type": "code",
   "outputs": [
    {
     "name": "stdout",
     "output_type": "stream",
     "text": [
      "cuda\n"
     ]
    }
   ],
   "source": [
    "device = torch.device(\"cuda\" if torch.cuda.is_available() else \"cpu\")\n",
    "print(device)"
   ],
   "metadata": {
    "collapsed": false,
    "ExecuteTime": {
     "end_time": "2024-04-20T09:38:10.756428700Z",
     "start_time": "2024-04-20T09:38:10.649434600Z"
    }
   },
   "id": "ef570748a9fcbd15",
   "execution_count": 15
  },
  {
   "cell_type": "code",
   "outputs": [],
   "source": [
    "def load_checkpoint(filepath, model, optimizer):\n",
    "    checkpoint = torch.load(filepath)\n",
    "    model.load_state_dict(checkpoint['state_dict'])\n",
    "    optimizer.load_state_dict(checkpoint['optimizer'])\n",
    "    valid_f1_score_weight = checkpoint['valid_f1_score_weight']\n",
    "    \n",
    "    print(f'Loaded model with the weighted F1-Score of: {valid_f1_score_weight} and epoch: {checkpoint[\"epoch\"]}')\n",
    "    \n",
    "    return model, optimizer, checkpoint['epoch'], valid_f1_score_weight"
   ],
   "metadata": {
    "collapsed": false,
    "ExecuteTime": {
     "end_time": "2024-04-20T09:38:10.806429300Z",
     "start_time": "2024-04-20T09:38:10.744431900Z"
    }
   },
   "id": "baf1ebf16817107c",
   "execution_count": 16
  },
  {
   "cell_type": "code",
   "outputs": [],
   "source": [
    "def save_checkpoint(state, is_best, file_path, best_model_path):\n",
    "    torch.save(state, file_path)\n",
    "    if is_best:\n",
    "        shutil.copy(file_path, best_model_path)"
   ],
   "metadata": {
    "collapsed": false,
    "ExecuteTime": {
     "end_time": "2024-04-20T09:38:10.872429600Z",
     "start_time": "2024-04-20T09:38:10.760430400Z"
    }
   },
   "id": "cbf72a1ad72fb292",
   "execution_count": 17
  },
  {
   "cell_type": "code",
   "outputs": [],
   "source": [
    "class BERTClass(torch.nn.Module):\n",
    "    def __init__(self):\n",
    "        super(BERTClass, self).__init__()\n",
    "        self.l1 = DistilBertModel.from_pretrained(\"distilbert-base-multilingual-cased\")\n",
    "        self.pre_classifier = torch.nn.Linear(768, 768)\n",
    "        self.dropout = torch.nn.Dropout(0.3)\n",
    "        self.classifier = torch.nn.Linear(768, 8)\n",
    "        self.sigmoid = torch.nn.Sigmoid()\n",
    "        \n",
    "    def forward(self, input_ids, attention_mask, token_type_ids):\n",
    "        output_1 = self.l1(input_ids=input_ids, attention_mask=attention_mask)\n",
    "        hidden_state = output_1[0]\n",
    "        pooler = hidden_state[:, 0]\n",
    "        pooler = self.pre_classifier(pooler)\n",
    "        pooler = self.dropout(pooler)\n",
    "        pooler = self.classifier(pooler)\n",
    "        output = self.sigmoid(pooler)\n",
    "        \n",
    "        return output"
   ],
   "metadata": {
    "collapsed": false,
    "ExecuteTime": {
     "end_time": "2024-04-20T09:38:10.876429200Z",
     "start_time": "2024-04-20T09:38:10.789432800Z"
    }
   },
   "id": "7fccbde71b8662c5",
   "execution_count": 18
  },
  {
   "cell_type": "code",
   "outputs": [
    {
     "data": {
      "text/plain": "BERTClass(\n  (l1): DistilBertModel(\n    (embeddings): Embeddings(\n      (word_embeddings): Embedding(119547, 768, padding_idx=0)\n      (position_embeddings): Embedding(512, 768)\n      (LayerNorm): LayerNorm((768,), eps=1e-12, elementwise_affine=True)\n      (dropout): Dropout(p=0.1, inplace=False)\n    )\n    (transformer): Transformer(\n      (layer): ModuleList(\n        (0-5): 6 x TransformerBlock(\n          (attention): MultiHeadSelfAttention(\n            (dropout): Dropout(p=0.1, inplace=False)\n            (q_lin): Linear(in_features=768, out_features=768, bias=True)\n            (k_lin): Linear(in_features=768, out_features=768, bias=True)\n            (v_lin): Linear(in_features=768, out_features=768, bias=True)\n            (out_lin): Linear(in_features=768, out_features=768, bias=True)\n          )\n          (sa_layer_norm): LayerNorm((768,), eps=1e-12, elementwise_affine=True)\n          (ffn): FFN(\n            (dropout): Dropout(p=0.1, inplace=False)\n            (lin1): Linear(in_features=768, out_features=3072, bias=True)\n            (lin2): Linear(in_features=3072, out_features=768, bias=True)\n            (activation): GELUActivation()\n          )\n          (output_layer_norm): LayerNorm((768,), eps=1e-12, elementwise_affine=True)\n        )\n      )\n    )\n  )\n  (pre_classifier): Linear(in_features=768, out_features=768, bias=True)\n  (dropout): Dropout(p=0.3, inplace=False)\n  (classifier): Linear(in_features=768, out_features=8, bias=True)\n  (sigmoid): Sigmoid()\n)"
     },
     "execution_count": 19,
     "metadata": {},
     "output_type": "execute_result"
    }
   ],
   "source": [
    "model = BERTClass()\n",
    "model.to(device)"
   ],
   "metadata": {
    "collapsed": false,
    "ExecuteTime": {
     "end_time": "2024-04-20T09:38:17.992389300Z",
     "start_time": "2024-04-20T09:38:10.808430700Z"
    }
   },
   "id": "ee90deb2bcb98ceb",
   "execution_count": 19
  },
  {
   "cell_type": "code",
   "outputs": [
    {
     "name": "stdout",
     "output_type": "stream",
     "text": [
      "tensor([ 0.5086,  3.8727,  8.7254, 34.4179,  3.8627,  3.9232,  0.1824,  2.4642],\n",
      "       device='cuda:0')\n"
     ]
    }
   ],
   "source": [
    "pos_weights = []\n",
    "for target in target_list:\n",
    "    num_positive = (data[target] == 1).sum()\n",
    "    num_negative = len(data[target]) - num_positive\n",
    "    pos_weights.append(num_negative/num_positive)\n",
    "\n",
    "pos_weights = torch.Tensor(pos_weights).to(device)\n",
    "print(pos_weights)"
   ],
   "metadata": {
    "collapsed": false,
    "ExecuteTime": {
     "end_time": "2024-04-20T09:38:18.218384600Z",
     "start_time": "2024-04-20T09:38:17.994390400Z"
    }
   },
   "id": "ce93bba7310ff78e",
   "execution_count": 20
  },
  {
   "cell_type": "code",
   "outputs": [],
   "source": [
    "def loss_function(output, target):\n",
    "    return torch.nn.BCEWithLogitsLoss(pos_weight=pos_weights)(output, target)\n",
    "\n",
    "def metrics_function(output, target):\n",
    "    metNone = MultilabelStatScores(num_labels=8, average='none', threshold=0.5).to(device)\n",
    "    metMicro = MultilabelStatScores(num_labels=8, average='micro', threshold=0.5).to(device)\n",
    "    metMacro = MultilabelStatScores(num_labels=8, average='macro', threshold=0.5).to(device)\n",
    "    metWeighted = MultilabelStatScores(num_labels=8, average='weighted', threshold=0.5).to(device)\n",
    "    output_text = f'Metrics [TP, FP, TN, FN, SUP]: \\tNone: {metNone(output, target)} \\tMicro: {metMicro(output, target)} \\tMacro: {metMacro(output, target)} \\tWeighted: {metWeighted(output, target)}'\n",
    "    \n",
    "    del metNone, metMicro, metMacro, metWeighted\n",
    "    torch.cuda.empty_cache()\n",
    "    \n",
    "    return output_text\n",
    "\n",
    "def accuracy_function(output, target):\n",
    "    mlaNone = MultilabelAccuracy(num_labels=8, average='none', threshold=0.5).to(device)\n",
    "    mlaMicro = MultilabelAccuracy(num_labels=8, average='micro', threshold=0.5).to(device)\n",
    "    mlaMacro = MultilabelAccuracy(num_labels=8, average='macro', threshold=0.5).to(device)\n",
    "    mlaWeighted = MultilabelAccuracy(num_labels=8, average='weighted', threshold=0.5).to(device)\n",
    "    output_text = f'Accuracy: \\tNone: {mlaNone(output, target)} \\tMicro: {mlaMicro(output, target)} \\tMacro: {mlaMacro(output, target)} \\tWeighted: {mlaWeighted(output, target)}'\n",
    "    \n",
    "    del mlaNone, mlaMicro, mlaMacro, mlaWeighted\n",
    "    torch.cuda.empty_cache()\n",
    "    \n",
    "    return output_text\n",
    "\n",
    "def f1_score_function(output, target):    \n",
    "    mlf1None = MultilabelF1Score(num_labels=8, average='none', threshold=0.5).to(device)\n",
    "    mlf1Micro = MultilabelF1Score(num_labels=8, average='micro', threshold=0.5).to(device)\n",
    "    mlf1Macro = MultilabelF1Score(num_labels=8, average='macro', threshold=0.5).to(device)\n",
    "    mlf1Weighted = MultilabelF1Score(num_labels=8, average='weighted', threshold=0.5).to(device)\n",
    "    \n",
    "    mlf1WeightedValue = mlf1Weighted(output, target)\n",
    "    mlf1WeightedValue = mlf1WeightedValue.item()\n",
    "    \n",
    "    output_text = f'F1 Score: \\tNone: {mlf1None(output, target)} \\tMicro: {mlf1Micro(output, target)} \\tMacro: {mlf1Macro(output, target)} \\tWeighted: {mlf1WeightedValue}'\n",
    "    \n",
    "    del mlf1None, mlf1Micro, mlf1Macro\n",
    "    torch.cuda.empty_cache()\n",
    "    \n",
    "    return output_text, mlf1WeightedValue\n",
    "\n",
    "optimizer = torch.optim.Adam(params=model.parameters(), lr=LEARNING_RATE)"
   ],
   "metadata": {
    "collapsed": false,
    "ExecuteTime": {
     "end_time": "2024-04-20T09:38:19.409958200Z",
     "start_time": "2024-04-20T09:38:18.205386500Z"
    }
   },
   "id": "5c65abe9e8d153af",
   "execution_count": 21
  },
  {
   "cell_type": "code",
   "outputs": [],
   "source": [
    "train_loss = []\n",
    "train_loss_epoch = []\n",
    "valid_loss = []\n",
    "valid_loss_epoch = []"
   ],
   "metadata": {
    "collapsed": false,
    "ExecuteTime": {
     "end_time": "2024-04-20T09:38:19.439955300Z",
     "start_time": "2024-04-20T09:38:19.411956100Z"
    }
   },
   "id": "3a800df2570f167c",
   "execution_count": 22
  },
  {
   "cell_type": "code",
   "outputs": [],
   "source": [
    "def train_model(n_epochs, training_loader, validation_loader, model, optimizer, checkpoint_path, best_model_path):\n",
    "    valid_f1_score_best = 0.0\n",
    "    model_start_time = timer()\n",
    "    for epoch in range(1, n_epochs+1):\n",
    "        epoch_start_time = timer()\n",
    "        \n",
    "        # Training Loop\n",
    "        model.train()\n",
    "        \n",
    "        train_output = torch.Tensor().to(device)\n",
    "        train_target = torch.Tensor().to(device)\n",
    "        \n",
    "        train_loss_epoch_batches = []\n",
    "        \n",
    "        for index, batch in enumerate(training_loader, 0):\n",
    "            input_ids = batch['input_ids'].to(device, dtype=torch.long)\n",
    "            attention_mask = batch['attention_mask'].to(device, dtype=torch.long)\n",
    "            token_type_ids = batch['token_type_ids'].to(device, dtype=torch.long)\n",
    "            targets = batch['targets'].to(device, dtype=torch.float)\n",
    "            \n",
    "            outputs = model(input_ids, attention_mask, token_type_ids)\n",
    "            \n",
    "            del input_ids, attention_mask, token_type_ids\n",
    "            torch.cuda.empty_cache()\n",
    "            \n",
    "            loss = loss_function(outputs, targets)\n",
    "            train_loss.append(loss.item())\n",
    "            train_loss_epoch_batches.append(loss.item())\n",
    "            optimizer.zero_grad()\n",
    "            loss.backward()\n",
    "            optimizer.step()\n",
    "            \n",
    "            train_output = torch.cat((train_output, outputs), dim=0)\n",
    "            train_target = torch.cat((train_target, targets), dim=0)\n",
    "        \n",
    "        train_metrics = metrics_function(train_output, train_target)\n",
    "        train_accuracy = accuracy_function(train_output, train_target)\n",
    "        train_f1_score, train_f1_score_weight = f1_score_function(train_output, train_target)\n",
    "            \n",
    "        del train_output, train_target\n",
    "        torch.cuda.empty_cache()\n",
    "        \n",
    "        # Validation Loop\n",
    "        model.eval()\n",
    "        \n",
    "        validation_output = torch.Tensor().to(device)\n",
    "        validation_target = torch.Tensor().to(device)\n",
    "        \n",
    "        with torch.no_grad():\n",
    "            \n",
    "            valid_loss_epoch_batches = []\n",
    "            \n",
    "            for index, batch in enumerate(validation_loader, 0):\n",
    "                input_ids = batch['input_ids'].to(device, dtype=torch.long)\n",
    "                attention_mask = batch['attention_mask'].to(device, dtype=torch.long)\n",
    "                token_type_ids = batch['token_type_ids'].to(device, dtype=torch.long)\n",
    "                targets = batch['targets'].to(device, dtype=torch.float)\n",
    "                \n",
    "                outputs = model(input_ids, attention_mask, token_type_ids)\n",
    "                \n",
    "                loss = loss_function(outputs, targets)\n",
    "                valid_loss.append(loss.item())\n",
    "                valid_loss_epoch_batches.append(loss.item())\n",
    "                \n",
    "                del input_ids, attention_mask, token_type_ids\n",
    "                torch.cuda.empty_cache()\n",
    "                \n",
    "                validation_output = torch.cat((validation_output, outputs), dim=0)\n",
    "                validation_target = torch.cat((validation_target, targets), dim=0)\n",
    "        \n",
    "        valid_metrics = metrics_function(validation_output, validation_target)\n",
    "        valid_accuracy = accuracy_function(validation_output, validation_target)\n",
    "        valid_f1_score, valid_f1_score_weight = f1_score_function(validation_output, validation_target)\n",
    "\n",
    "        checkpoint = {\n",
    "            'epoch': epoch,\n",
    "            'valid_f1_score_weight': valid_f1_score_weight,\n",
    "            'state_dict': model.state_dict(),\n",
    "            'optimizer': optimizer.state_dict()\n",
    "        }\n",
    "        \n",
    "        if valid_f1_score_weight > valid_f1_score_best:\n",
    "            valid_f1_score_best = valid_f1_score_weight\n",
    "            save_checkpoint(checkpoint, True, checkpoint_path, best_model_path)\n",
    "        else:\n",
    "            save_checkpoint(checkpoint, False, checkpoint_path, best_model_path)\n",
    "        \n",
    "        print(f'\\n\\nEpoch: {epoch} \\tTime: {int(timer()-epoch_start_time)}s')\n",
    "        print(f'\\tTraining: \\n\\t\\t{train_metrics} \\n\\t\\t{train_accuracy} \\n\\t\\t{train_f1_score}')\n",
    "        print(f'\\tValidation: \\n\\t\\t{valid_metrics} \\n\\t\\t{valid_accuracy} \\n\\t\\t{valid_f1_score}')\n",
    "        \n",
    "        train_loss_epoch.append(np.mean(train_loss_epoch_batches))\n",
    "        valid_loss_epoch.append(np.mean(valid_loss_epoch_batches))\n",
    "        \n",
    "        del valid_metrics, valid_accuracy, valid_f1_score, train_metrics, train_accuracy, train_f1_score\n",
    "        torch.cuda.empty_cache()\n",
    "        \n",
    "    print(f'\\n\\nTraining time: {int(timer()-model_start_time)}s')\n",
    "    return model"
   ],
   "metadata": {
    "collapsed": false,
    "ExecuteTime": {
     "end_time": "2024-04-20T09:38:19.456957800Z",
     "start_time": "2024-04-20T09:38:19.435956700Z"
    }
   },
   "id": "40390e5e2ca36958",
   "execution_count": 23
  },
  {
   "cell_type": "markdown",
   "source": [
    "# Train and evaluate"
   ],
   "metadata": {
    "collapsed": false
   },
   "id": "e6661621cfb8ea3f"
  },
  {
   "cell_type": "code",
   "outputs": [],
   "source": [
    "CHECKPOINT_PATH = './model/checkpoint.pth'\n",
    "BEST_MODEL_PATH = './model/best_model.pth'"
   ],
   "metadata": {
    "collapsed": false,
    "ExecuteTime": {
     "end_time": "2024-04-20T09:38:19.495954600Z",
     "start_time": "2024-04-20T09:38:19.441961200Z"
    }
   },
   "id": "ef67bbd5acbea362",
   "execution_count": 24
  },
  {
   "cell_type": "code",
   "outputs": [
    {
     "name": "stdout",
     "output_type": "stream",
     "text": [
      "\n",
      "\n",
      "Epoch: 1 \tTime: 21s\n",
      "\tTraining: \n",
      "\t\tMetrics [TP, FP, TN, FN, SUP]: \tNone: tensor([[  41,   18,  546, 1056, 1097],\n",
      "        [   0,    8, 1312,  341,  341],\n",
      "        [   6,   59, 1430,  166,  172],\n",
      "        [   5,  106, 1505,   45,   50],\n",
      "        [   7,   17, 1295,  342,  349],\n",
      "        [ 106,  401,  924,  230,  336],\n",
      "        [ 719,  149,  114,  679, 1398],\n",
      "        [  19,   72, 1099,  471,  490]], device='cuda:0') \tMicro: tensor([ 903,  830, 8225, 3330, 4233], device='cuda:0') \tMacro: tensor([ 112.8750,  103.7500, 1028.1250,  416.2500,  529.1250],\n",
      "       device='cuda:0') \tWeighted: tensor([259.5771,  99.7337, 668.0522, 633.6369, 893.2141], device='cuda:0') \n",
      "\t\tAccuracy: \tNone: tensor([0.3534, 0.7899, 0.8645, 0.9091, 0.7839, 0.6201, 0.5015, 0.6731],\n",
      "       device='cuda:0') \tMicro: 0.6869356036186218 \tMacro: 0.6869356036186218 \tWeighted: 0.558476448059082 \n",
      "\t\tF1 Score: \tNone: tensor([0.0709, 0.0000, 0.0506, 0.0621, 0.0375, 0.2515, 0.6346, 0.0654],\n",
      "       device='cuda:0') \tMicro: 0.30271539092063904 \tMacro: 0.1465872824192047 \tWeighted: 0.2613852024078369\n",
      "\tValidation: \n",
      "\t\tMetrics [TP, FP, TN, FN, SUP]: \tNone: tensor([[  0,   0, 159, 311, 311],\n",
      "        [  0,   0, 370, 100, 100],\n",
      "        [  0,   0, 422,  48,  48],\n",
      "        [  0,   1, 458,  11,  11],\n",
      "        [  0,   0, 377,  93,  93],\n",
      "        [  0,   0, 372,  98,  98],\n",
      "        [  8,   3,  68, 391, 399],\n",
      "        [  0,   0, 332, 138, 138]], device='cuda:0') \tMicro: tensor([   8,    4, 2558, 1190, 1198], device='cuda:0') \tMacro: tensor([  1.0000,   0.5000, 319.7500, 148.7500, 149.7500], device='cuda:0') \tWeighted: tensor([  2.6644,   1.0083, 213.8631, 252.4641, 255.1285], device='cuda:0') \n",
      "\t\tAccuracy: \tNone: tensor([0.3383, 0.7872, 0.8979, 0.9745, 0.8021, 0.7915, 0.1617, 0.7064],\n",
      "       device='cuda:0') \tMicro: 0.6824468374252319 \tMacro: 0.6824468374252319 \tWeighted: 0.46069690585136414 \n",
      "\t\tF1 Score: \tNone: tensor([0.0000, 0.0000, 0.0000, 0.0000, 0.0000, 0.0000, 0.0390, 0.0000],\n",
      "       device='cuda:0') \tMicro: 0.013223140500485897 \tMacro: 0.004878048785030842 \tWeighted: 0.012997272424399853\n",
      "\n",
      "\n",
      "Epoch: 2 \tTime: 14s\n",
      "\tTraining: \n",
      "\t\tMetrics [TP, FP, TN, FN, SUP]: \tNone: tensor([[   3,    1,  563, 1094, 1097],\n",
      "        [   0,    0, 1320,  341,  341],\n",
      "        [   0,    0, 1489,  172,  172],\n",
      "        [   0,    1, 1610,   50,   50],\n",
      "        [   0,    0, 1312,  349,  349],\n",
      "        [   0,    0, 1325,  336,  336],\n",
      "        [ 124,   29,  234, 1274, 1398],\n",
      "        [   0,    0, 1171,  490,  490]], device='cuda:0') \tMicro: tensor([ 127,   31, 9024, 4106, 4233], device='cuda:0') \tMacro: tensor([  15.8750,    3.8750, 1128.0000,  513.2500,  529.1250],\n",
      "       device='cuda:0') \tWeighted: tensor([ 41.7300,   9.8486, 757.9374, 851.4841, 893.2141], device='cuda:0') \n",
      "\t\tAccuracy: \tNone: tensor([0.3408, 0.7947, 0.8964, 0.9693, 0.7899, 0.7977, 0.2155, 0.7050],\n",
      "       device='cuda:0') \tMicro: 0.6886664628982544 \tMacro: 0.6886664628982544 \tWeighted: 0.4814373254776001 \n",
      "\t\tF1 Score: \tNone: tensor([0.0054, 0.0000, 0.0000, 0.0000, 0.0000, 0.0000, 0.1599, 0.0000],\n",
      "       device='cuda:0') \tMicro: 0.0578455924987793 \tMacro: 0.020668303593993187 \tWeighted: 0.05422016978263855\n",
      "\tValidation: \n",
      "\t\tMetrics [TP, FP, TN, FN, SUP]: \tNone: tensor([[  0,   0, 159, 311, 311],\n",
      "        [  0,   0, 370, 100, 100],\n",
      "        [  0,   0, 422,  48,  48],\n",
      "        [  0,   0, 459,  11,  11],\n",
      "        [  0,   0, 377,  93,  93],\n",
      "        [  0,   0, 372,  98,  98],\n",
      "        [  0,   0,  71, 399, 399],\n",
      "        [  0,   0, 332, 138, 138]], device='cuda:0') \tMicro: tensor([   0,    0, 2562, 1198, 1198], device='cuda:0') \tMacro: tensor([  0.0000,   0.0000, 320.2500, 149.7500, 149.7500], device='cuda:0') \tWeighted: tensor([  0.0000,   0.0000, 214.8714, 255.1285, 255.1285], device='cuda:0') \n",
      "\t\tAccuracy: \tNone: tensor([0.3383, 0.7872, 0.8979, 0.9766, 0.8021, 0.7915, 0.1511, 0.7064],\n",
      "       device='cuda:0') \tMicro: 0.681382954120636 \tMacro: 0.681382954120636 \tWeighted: 0.45717331767082214 \n",
      "\t\tF1 Score: \tNone: tensor([0., 0., 0., 0., 0., 0., 0., 0.], device='cuda:0') \tMicro: 0.0 \tMacro: 0.0 \tWeighted: 0.0\n",
      "\n",
      "\n",
      "Epoch: 3 \tTime: 25s\n",
      "\tTraining: \n",
      "\t\tMetrics [TP, FP, TN, FN, SUP]: \tNone: tensor([[   0,    0,  564, 1097, 1097],\n",
      "        [   0,    0, 1320,  341,  341],\n",
      "        [   0,    0, 1489,  172,  172],\n",
      "        [   5,   15, 1596,   45,   50],\n",
      "        [   0,    0, 1312,  349,  349],\n",
      "        [   0,    0, 1325,  336,  336],\n",
      "        [  40,    4,  259, 1358, 1398],\n",
      "        [   1,    1, 1170,  489,  490]], device='cuda:0') \tMicro: tensor([  46,   20, 9035, 4187, 4233], device='cuda:0') \tMacro: tensor([   5.7500,    2.5000, 1129.3750,  523.3750,  529.1250],\n",
      "       device='cuda:0') \tWeighted: tensor([ 13.3853,   1.6140, 766.1720, 879.8287, 893.2141], device='cuda:0') \n",
      "\t\tAccuracy: \tNone: tensor([0.3396, 0.7947, 0.8964, 0.9639, 0.7899, 0.7977, 0.1800, 0.7050],\n",
      "       device='cuda:0') \tMicro: 0.6833985447883606 \tMacro: 0.6833986043930054 \tWeighted: 0.4693300724029541 \n",
      "\t\tF1 Score: \tNone: tensor([0.0000, 0.0000, 0.0000, 0.1429, 0.0000, 0.0000, 0.0555, 0.0041],\n",
      "       device='cuda:0') \tMicro: 0.021400325000286102 \tMacro: 0.02530008554458618 \tWeighted: 0.020480433478951454\n",
      "\tValidation: \n",
      "\t\tMetrics [TP, FP, TN, FN, SUP]: \tNone: tensor([[  0,   0, 159, 311, 311],\n",
      "        [  0,   0, 370, 100, 100],\n",
      "        [  0,   1, 421,  48,  48],\n",
      "        [  1,  12, 447,  10,  11],\n",
      "        [  0,   0, 377,  93,  93],\n",
      "        [  0,   0, 372,  98,  98],\n",
      "        [  0,   0,  71, 399, 399],\n",
      "        [  0,   0, 332, 138, 138]], device='cuda:0') \tMicro: tensor([   1,   13, 2549, 1197, 1198], device='cuda:0') \tMacro: tensor([1.2500e-01, 1.6250e+00, 3.1862e+02, 1.4962e+02, 1.4975e+02],\n",
      "       device='cuda:0') \tWeighted: tensor([9.1820e-03, 1.5025e-01, 2.1472e+02, 2.5512e+02, 2.5513e+02],\n",
      "       device='cuda:0') \n",
      "\t\tAccuracy: \tNone: tensor([0.3383, 0.7872, 0.8957, 0.9532, 0.8021, 0.7915, 0.1511, 0.7064],\n",
      "       device='cuda:0') \tMicro: 0.6781914830207825 \tMacro: 0.6781914830207825 \tWeighted: 0.45687317848205566 \n",
      "\t\tF1 Score: \tNone: tensor([0.0000, 0.0000, 0.0000, 0.0833, 0.0000, 0.0000, 0.0000, 0.0000],\n",
      "       device='cuda:0') \tMicro: 0.0016501650679856539 \tMacro: 0.010416666977107525 \tWeighted: 0.0007651642081327736\n",
      "\n",
      "\n",
      "Epoch: 4 \tTime: 53s\n",
      "\tTraining: \n",
      "\t\tMetrics [TP, FP, TN, FN, SUP]: \tNone: tensor([[   0,    0,  564, 1097, 1097],\n",
      "        [   1,    1, 1319,  340,  341],\n",
      "        [  20,   76, 1413,  152,  172],\n",
      "        [  16,  129, 1482,   34,   50],\n",
      "        [  18,   39, 1273,  331,  349],\n",
      "        [   0,    2, 1323,  336,  336],\n",
      "        [  77,    6,  257, 1321, 1398],\n",
      "        [ 114,  101, 1070,  376,  490]], device='cuda:0') \tMicro: tensor([ 246,  354, 8701, 3987, 4233], device='cuda:0') \tMacro: tensor([  30.7500,   44.2500, 1087.6250,  498.3750,  529.1250],\n",
      "       device='cuda:0') \tWeighted: tensor([ 41.1928,  21.7397, 746.0463, 852.0212, 893.2141], device='cuda:0') \n",
      "\t\tAccuracy: \tNone: tensor([0.3396, 0.7947, 0.8627, 0.9019, 0.7772, 0.7965, 0.2011, 0.7128],\n",
      "       device='cuda:0') \tMicro: 0.6733142733573914 \tMacro: 0.6733142733573914 \tWeighted: 0.4739549160003662 \n",
      "\t\tF1 Score: \tNone: tensor([0.0000, 0.0058, 0.1493, 0.1641, 0.0887, 0.0000, 0.1040, 0.3234],\n",
      "       device='cuda:0') \tMicro: 0.10180012136697769 \tMacro: 0.10440564155578613 \tWeighted: 0.08756161481142044\n",
      "\tValidation: \n",
      "\t\tMetrics [TP, FP, TN, FN, SUP]: \tNone: tensor([[  0,   0, 159, 311, 311],\n",
      "        [  0,   0, 370, 100, 100],\n",
      "        [ 11,  51, 371,  37,  48],\n",
      "        [  3,  38, 421,   8,  11],\n",
      "        [ 15,  32, 345,  78,  93],\n",
      "        [  0,   0, 372,  98,  98],\n",
      "        [ 28,   1,  70, 371, 399],\n",
      "        [ 95, 126, 206,  43, 138]], device='cuda:0') \tMicro: tensor([ 152,  248, 2314, 1046, 1198], device='cuda:0') \tMacro: tensor([ 19.0000,  31.0000, 289.2500, 130.7500, 149.7500], device='cuda:0') \tWeighted: tensor([ 21.9015,  19.7237, 195.1478, 233.2270, 255.1285], device='cuda:0') \n",
      "\t\tAccuracy: \tNone: tensor([0.3383, 0.7872, 0.8128, 0.9021, 0.7660, 0.7915, 0.2085, 0.6404],\n",
      "       device='cuda:0') \tMicro: 0.6558510661125183 \tMacro: 0.6558510661125183 \tWeighted: 0.46180692315101624 \n",
      "\t\tF1 Score: \tNone: tensor([0.0000, 0.0000, 0.2000, 0.1154, 0.2143, 0.0000, 0.1308, 0.5292],\n",
      "       device='cuda:0') \tMicro: 0.19023779034614563 \tMacro: 0.1487199366092682 \tWeighted: 0.13025009632110596\n",
      "\n",
      "\n",
      "Epoch: 5 \tTime: 25s\n",
      "\tTraining: \n",
      "\t\tMetrics [TP, FP, TN, FN, SUP]: \tNone: tensor([[   0,    0,  564, 1097, 1097],\n",
      "        [   2,    5, 1315,  339,  341],\n",
      "        [  50,  132, 1357,  122,  172],\n",
      "        [  20,  184, 1427,   30,   50],\n",
      "        [  48,   92, 1220,  301,  349],\n",
      "        [   4,   12, 1313,  332,  336],\n",
      "        [  91,    4,  259, 1307, 1398],\n",
      "        [ 323,  328,  843,  167,  490]], device='cuda:0') \tMicro: tensor([ 538,  757, 8298, 3695, 4233], device='cuda:0') \tMacro: tensor([  67.2500,   94.6250, 1037.2500,  461.8750,  529.1250],\n",
      "       device='cuda:0') \tWeighted: tensor([ 74.1474,  55.7668, 712.0192, 819.0667, 893.2141], device='cuda:0') \n",
      "\t\tAccuracy: \tNone: tensor([0.3396, 0.7929, 0.8471, 0.8712, 0.7634, 0.7929, 0.2107, 0.7020],\n",
      "       device='cuda:0') \tMicro: 0.6649608612060547 \tMacro: 0.6649608612060547 \tWeighted: 0.473309189081192 \n",
      "\t\tF1 Score: \tNone: tensor([0.0000, 0.0115, 0.2825, 0.1575, 0.1963, 0.0227, 0.1219, 0.5662],\n",
      "       device='cuda:0') \tMicro: 0.19464543461799622 \tMacro: 0.16982237994670868 \tWeighted: 0.1380523145198822\n",
      "\tValidation: \n",
      "\t\tMetrics [TP, FP, TN, FN, SUP]: \tNone: tensor([[  0,   0, 159, 311, 311],\n",
      "        [  0,   0, 370, 100, 100],\n",
      "        [  4,  35, 387,  44,  48],\n",
      "        [  4,  33, 426,   7,  11],\n",
      "        [  8,  26, 351,  85,  93],\n",
      "        [  8,   7, 365,  90,  98],\n",
      "        [ 20,   2,  69, 379, 399],\n",
      "        [ 85, 113, 219,  53, 138]], device='cuda:0') \tMicro: tensor([ 129,  216, 2346, 1069, 1198], device='cuda:0') \tMacro: tensor([ 16.1250,  27.0000, 293.2500, 133.6250, 149.7500], device='cuda:0') \tWeighted: tensor([ 17.9249,  17.9791, 196.8923, 237.2037, 255.1285], device='cuda:0') \n",
      "\t\tAccuracy: \tNone: tensor([0.3383, 0.7872, 0.8319, 0.9149, 0.7638, 0.7936, 0.1894, 0.6468],\n",
      "       device='cuda:0') \tMicro: 0.6582446694374084 \tMacro: 0.6582446694374084 \tWeighted: 0.4570578634738922 \n",
      "\t\tF1 Score: \tNone: tensor([0.0000, 0.0000, 0.0920, 0.1667, 0.1260, 0.1416, 0.0950, 0.5060],\n",
      "       device='cuda:0') \tMicro: 0.16720673441886902 \tMacro: 0.14089526236057281 \tWeighted: 0.1165032833814621\n",
      "\n",
      "\n",
      "Epoch: 6 \tTime: 56s\n",
      "\tTraining: \n",
      "\t\tMetrics [TP, FP, TN, FN, SUP]: \tNone: tensor([[  17,    1,  563, 1080, 1097],\n",
      "        [   0,    8, 1312,  341,  341],\n",
      "        [  56,  134, 1355,  116,  172],\n",
      "        [  26,  161, 1450,   24,   50],\n",
      "        [  65,  111, 1201,  284,  349],\n",
      "        [  21,   29, 1296,  315,  336],\n",
      "        [ 124,    4,  259, 1274, 1398],\n",
      "        [ 361,  366,  805,  129,  490]], device='cuda:0') \tMicro: tensor([ 670,  814, 8241, 3563, 4233], device='cuda:0') \tMacro: tensor([  83.7500,  101.7500, 1030.1250,  445.3750,  529.1250],\n",
      "       device='cuda:0') \tWeighted: tensor([ 96.7550,  63.3919, 704.3940, 796.4590, 893.2141], device='cuda:0') \n",
      "\t\tAccuracy: \tNone: tensor([0.3492, 0.7899, 0.8495, 0.8886, 0.7622, 0.7929, 0.2306, 0.7020],\n",
      "       device='cuda:0') \tMicro: 0.6706050634384155 \tMacro: 0.6706050634384155 \tWeighted: 0.4823293089866638 \n",
      "\t\tF1 Score: \tNone: tensor([0.0305, 0.0000, 0.3094, 0.2194, 0.2476, 0.1088, 0.1625, 0.5933],\n",
      "       device='cuda:0') \tMicro: 0.23438866436481476 \tMacro: 0.20893758535385132 \tWeighted: 0.17446540296077728\n",
      "\tValidation: \n",
      "\t\tMetrics [TP, FP, TN, FN, SUP]: \tNone: tensor([[  1,   0, 159, 310, 311],\n",
      "        [  1,   2, 368,  99, 100],\n",
      "        [ 15,  69, 353,  33,  48],\n",
      "        [  6,  74, 385,   5,  11],\n",
      "        [ 23,  58, 319,  70,  93],\n",
      "        [ 12,  13, 359,  86,  98],\n",
      "        [ 62,   4,  67, 337, 399],\n",
      "        [ 88, 113, 219,  50, 138]], device='cuda:0') \tMicro: tensor([ 208,  333, 2229,  990, 1198], device='cuda:0') \tMacro: tensor([ 26.0000,  41.6250, 278.6250, 123.7500, 149.7500], device='cuda:0') \tWeighted: tensor([ 34.5526,  23.5259, 191.3456, 220.5760, 255.1285], device='cuda:0') \n",
      "\t\tAccuracy: \tNone: tensor([0.3404, 0.7851, 0.7830, 0.8319, 0.7277, 0.7894, 0.2745, 0.6532],\n",
      "       device='cuda:0') \tMicro: 0.6481382846832275 \tMacro: 0.6481382846832275 \tWeighted: 0.4806343913078308 \n",
      "\t\tF1 Score: \tNone: tensor([0.0064, 0.0194, 0.2273, 0.1319, 0.2644, 0.1951, 0.2667, 0.5192],\n",
      "       device='cuda:0') \tMicro: 0.23921793699264526 \tMacro: 0.2037874013185501 \tWeighted: 0.19870547950267792\n",
      "\n",
      "\n",
      "Epoch: 7 \tTime: 54s\n",
      "\tTraining: \n",
      "\t\tMetrics [TP, FP, TN, FN, SUP]: \tNone: tensor([[  88,    6,  558, 1009, 1097],\n",
      "        [   2,   13, 1307,  339,  341],\n",
      "        [  63,  145, 1344,  109,  172],\n",
      "        [  27,  121, 1490,   23,   50],\n",
      "        [  62,  103, 1209,  287,  349],\n",
      "        [  79,   71, 1254,  257,  336],\n",
      "        [ 133,    6,  257, 1265, 1398],\n",
      "        [ 332,  286,  885,  158,  490]], device='cuda:0') \tMicro: tensor([ 786,  751, 8304, 3447, 4233], device='cuda:0') \tMacro: tensor([  98.2500,   93.8750, 1038.0000,  430.8750,  529.1250],\n",
      "       device='cuda:0') \tWeighted: tensor([119.5842,  59.1391, 708.6469, 773.6298, 893.2141], device='cuda:0') \n",
      "\t\tAccuracy: \tNone: tensor([0.3889, 0.7881, 0.8471, 0.9133, 0.7652, 0.8025, 0.2348, 0.7327],\n",
      "       device='cuda:0') \tMicro: 0.6840758323669434 \tMacro: 0.6840758323669434 \tWeighted: 0.4986339807510376 \n",
      "\t\tF1 Score: \tNone: tensor([0.1478, 0.0112, 0.3316, 0.2727, 0.2412, 0.3251, 0.1731, 0.5993],\n",
      "       device='cuda:0') \tMicro: 0.2724436819553375 \tMacro: 0.2627509534358978 \tWeighted: 0.22811904549598694\n",
      "\tValidation: \n",
      "\t\tMetrics [TP, FP, TN, FN, SUP]: \tNone: tensor([[ 45,   5, 154, 266, 311],\n",
      "        [  0,   0, 370, 100, 100],\n",
      "        [ 12,  63, 359,  36,  48],\n",
      "        [  5,  56, 403,   6,  11],\n",
      "        [ 20,  48, 329,  73,  93],\n",
      "        [ 33,  28, 344,  65,  98],\n",
      "        [ 55,   2,  69, 344, 399],\n",
      "        [ 87,  98, 234,  51, 138]], device='cuda:0') \tMicro: tensor([ 257,  300, 2262,  941, 1198], device='cuda:0') \tMacro: tensor([ 32.1250,  37.5000, 282.7500, 117.6250, 149.7500], device='cuda:0') \tWeighted: tensor([ 44.8005,  22.3080, 192.5634, 210.3280, 255.1285], device='cuda:0') \n",
      "\t\tAccuracy: \tNone: tensor([0.4234, 0.7872, 0.7894, 0.8681, 0.7426, 0.8021, 0.2638, 0.6830],\n",
      "       device='cuda:0') \tMicro: 0.6699467897415161 \tMacro: 0.6699467897415161 \tWeighted: 0.5050296783447266 \n",
      "\t\tF1 Score: \tNone: tensor([0.2493, 0.0000, 0.1951, 0.1389, 0.2484, 0.4151, 0.2412, 0.5387],\n",
      "       device='cuda:0') \tMicro: 0.2928774952888489 \tMacro: 0.2533484697341919 \tWeighted: 0.26945212483406067\n",
      "\n",
      "\n",
      "Training time: 252s\n"
     ]
    }
   ],
   "source": [
    "trained_model = train_model(EPOCHS, train_data_loader, validation_data_loader, model, optimizer, CHECKPOINT_PATH, BEST_MODEL_PATH)"
   ],
   "metadata": {
    "collapsed": false,
    "ExecuteTime": {
     "end_time": "2024-04-20T09:42:32.182105300Z",
     "start_time": "2024-04-20T09:38:19.457959200Z"
    }
   },
   "id": "da94e78a115d5864",
   "execution_count": 25
  },
  {
   "cell_type": "code",
   "outputs": [
    {
     "data": {
      "text/plain": "<Figure size 640x480 with 1 Axes>",
      "image/png": "[encoded data removed]"
     },
     "metadata": {},
     "output_type": "display_data"
    }
   ],
   "source": [
    "plt.plot(list(range(1, EPOCHS+1)), train_loss_epoch, 'r')\n",
    "plt.plot(list(range(1, EPOCHS+1)), valid_loss_epoch, 'b')\n",
    "plt.ylabel('comparison validation loss (b) and train loss (r) by epoch')\n",
    "plt.xlabel('epoch')\n",
    "plt.title('Learning rate: ' + str(LEARNING_RATE) + '; Batch size: ' + str(TRAIN_BATCH_SIZE) + '; Epochs: ' + str(EPOCHS))\n",
    "plt.show()"
   ],
   "metadata": {
    "collapsed": false,
    "ExecuteTime": {
     "end_time": "2024-04-20T09:42:32.582106900Z",
     "start_time": "2024-04-20T09:42:32.176105700Z"
    }
   },
   "id": "daccb9b2031e74eb",
   "execution_count": 26
  },
  {
   "cell_type": "markdown",
   "source": [
    "# Read the model"
   ],
   "metadata": {
    "collapsed": false
   },
   "id": "89299a35ae1a6846"
  },
  {
   "cell_type": "code",
   "outputs": [
    {
     "name": "stdout",
     "output_type": "stream",
     "text": [
      "Loaded model with the weighted F1-Score of: 0.26945212483406067 and epoch: 7\n"
     ]
    }
   ],
   "source": [
    "pred_model = BERTClass()\n",
    "pred_model.to(device)\n",
    "model = load_checkpoint(BEST_MODEL_PATH, pred_model, optimizer)"
   ],
   "metadata": {
    "collapsed": false,
    "ExecuteTime": {
     "end_time": "2024-04-20T09:42:34.371106800Z",
     "start_time": "2024-04-20T09:42:32.575107300Z"
    }
   },
   "id": "f18f8acb1f1606ec",
   "execution_count": 27
  },
  {
   "cell_type": "code",
   "outputs": [],
   "source": [
    "pred_tokenizer = DistilBertTokenizer.from_pretrained(\"distilbert-base-multilingual-cased\")"
   ],
   "metadata": {
    "collapsed": false,
    "ExecuteTime": {
     "end_time": "2024-04-20T09:42:34.916108600Z",
     "start_time": "2024-04-20T09:42:34.364107900Z"
    }
   },
   "id": "f70a1da4d04203e1",
   "execution_count": 28
  },
  {
   "cell_type": "markdown",
   "source": [
    "# Test data"
   ],
   "metadata": {
    "collapsed": false
   },
   "id": "d49abb24b05e2fdb"
  },
  {
   "cell_type": "code",
   "outputs": [
    {
     "name": "stdout",
     "output_type": "stream",
     "text": [
      "\tTest: \n",
      "\t\tMetrics [TP, FP, TN, FN, SUP]: \tNone: tensor([[ 17,   3,  74, 148, 165],\n",
      "        [  0,   0, 196,  46,  46],\n",
      "        [  8,  36, 182,  16,  24],\n",
      "        [  1,  32, 204,   5,   6],\n",
      "        [ 11,  32, 164,  35,  46],\n",
      "        [ 13,  22, 172,  35,  48],\n",
      "        [ 29,   0,  32, 181, 210],\n",
      "        [ 38,  46, 139,  19,  57]], device='cuda:0') \tMicro: tensor([ 117,  171, 1163,  485,  602], device='cuda:0') \tMacro: tensor([ 14.6250,  21.3750, 145.3750,  60.6250,  75.2500], device='cuda:0') \tWeighted: tensor([ 20.5797,  11.1312,  95.1179, 115.1711, 135.7508], device='cuda:0') \n",
      "\t\tAccuracy: \tNone: tensor([0.3760, 0.8099, 0.7851, 0.8471, 0.7231, 0.7645, 0.2521, 0.7314],\n",
      "       device='cuda:0') \tMicro: 0.6611570119857788 \tMacro: 0.6611570119857788 \tWeighted: 0.4780895709991455 \n",
      "\t\tF1 Score: \tNone: tensor([0.1838, 0.0000, 0.2353, 0.0513, 0.2472, 0.3133, 0.2427, 0.5390],\n",
      "       device='cuda:0') \tMicro: 0.26292136311531067 \tMacro: 0.22656109929084778 \tWeighted: 0.2398201823234558\n"
     ]
    }
   ],
   "source": [
    "test_output = torch.Tensor().to(device)\n",
    "test_target = torch.Tensor().to(device)\n",
    "\n",
    "for index, row in test_data.iterrows():\n",
    "    input_ids, attention_mask, token_type_ids = get_encodings(row[\"c_text\"], row[\"reaction1\"], row[\"reaction2\"])\n",
    "    pred_model.eval()\n",
    "    with torch.no_grad():\n",
    "        input_ids = input_ids.to(device, dtype=torch.long)\n",
    "        attention_mask = attention_mask.to(device, dtype=torch.long)\n",
    "        token_type_ids = token_type_ids.to(device, dtype=torch.long)\n",
    "        \n",
    "        targets = torch.Tensor([[row[\"Generalisation0\"], row[\"Generalisation1\"], row[\"Generalisation2\"], row[\"Generalisation3\"], row[\"Ambiguous\"], row[\"Objective\"], row[\"Subjective\"], row[\"Disputed\"]]])\n",
    "        targets = targets.to(device, dtype=torch.float)\n",
    "        \n",
    "        outputs = pred_model(input_ids, attention_mask, token_type_ids)\n",
    "        outputs = torch.Tensor(outputs)\n",
    "        outputs = outputs.to(device, dtype=torch.float)\n",
    "        \n",
    "        test_output = torch.cat((test_output, outputs), dim=0)\n",
    "        test_target = torch.cat((test_target, targets), dim=0)\n",
    "\n",
    "test_metrics = metrics_function(test_output, test_target)\n",
    "test_accuracy = accuracy_function(test_output, test_target)\n",
    "test_f1_score, valid_f1_score_weight = f1_score_function(test_output, test_target)\n",
    "\n",
    "print(f'\\tTest: \\n\\t\\t{test_metrics} \\n\\t\\t{test_accuracy} \\n\\t\\t{test_f1_score}')\n",
    "del test_metrics, test_accuracy, test_f1_score\n",
    "torch.cuda.empty_cache()"
   ],
   "metadata": {
    "collapsed": false,
    "ExecuteTime": {
     "end_time": "2024-04-20T09:42:36.830106800Z",
     "start_time": "2024-04-20T09:42:34.921108700Z"
    }
   },
   "id": "719fe9031faacd00",
   "execution_count": 29
  },
  {
   "cell_type": "markdown",
   "source": [
    "# Get Predictions"
   ],
   "metadata": {
    "collapsed": false
   },
   "id": "63794d5155241a97"
  },
  {
   "cell_type": "code",
   "outputs": [],
   "source": [
    "def get_prediction(row): \n",
    "    input_ids, attention_mask, token_type_ids = get_encodings(row[\"c_text\"], row[\"reaction1\"], row[\"reaction2\"])\n",
    "    \n",
    "    pred_model.eval()\n",
    "    with torch.no_grad():\n",
    "        input_ids = input_ids.to(device, dtype=torch.long)\n",
    "        attention_mask = attention_mask.to(device, dtype=torch.long)\n",
    "        token_type_ids = token_type_ids.to(device, dtype=torch.long)\n",
    "        \n",
    "        outputs = pred_model(input_ids, attention_mask, token_type_ids)\n",
    "        \n",
    "        generalisation_pred_value = 0\n",
    "        generalisation_pred_prop = 0\n",
    "        if outputs[0][0].item() > generalisation_pred_prop:\n",
    "            generalisation_pred_value = 0\n",
    "            generalisation_pred_prop = outputs[0][0].item()\n",
    "        \n",
    "        if outputs[0][1].item() > generalisation_pred_prop:\n",
    "            generalisation_pred_value = 1\n",
    "            generalisation_pred_prop = outputs[0][1].item()\n",
    "            \n",
    "        if outputs[0][2].item() > generalisation_pred_prop:\n",
    "            generalisation_pred_value = 2\n",
    "            generalisation_pred_prop = outputs[0][2].item()\n",
    "        \n",
    "        if outputs[0][3].item() > generalisation_pred_prop:\n",
    "            generalisation_pred_value = 3\n",
    "        \n",
    "        row['Generalisation_Pred'] = generalisation_pred_value\n",
    "        row['Ambiguous_Pred'] = 1 if outputs[0][4].item() > 0.5 else 0\n",
    "        row['Objective_Pred'] = 1 if outputs[0][5].item() > 0.5 else 0\n",
    "        row['Subjective_Pred'] = 1 if outputs[0][6].item() > 0.5 else 0\n",
    "        row['Disputed_Pred'] = 1 if outputs[0][7].item() > 0.5 else 0\n",
    "        \n",
    "        return row"
   ],
   "metadata": {
    "collapsed": false,
    "ExecuteTime": {
     "end_time": "2024-04-20T09:42:36.877105300Z",
     "start_time": "2024-04-20T09:42:36.826107500Z"
    }
   },
   "id": "d0cfa2385a37cc09",
   "execution_count": 30
  },
  {
   "cell_type": "code",
   "outputs": [
    {
     "data": {
      "text/plain": "                     c_id                                             c_text  \\\n1485  1405047474310553601  Nein, nicht in einen Tiopf. Die Mitesser-NGO G...   \n1487  1393517517927223301  Ääähm... da müsste man halt jetzt wissen, dass...   \n1492  1388783647403220994  Wer liest das? Mal ehrlich jetzt, wenn dieses ...   \n1493  1387373196916281344  Im Gegensatz etwa zum \"Flügel\" der AfD damals....   \n1505  1404378018928267264  Biergarten ist gesellschaftlich notwendiger, g...   \n\n                  date       conv_id  \\\n1485  16.06.2021 06:19  1.404880e+18   \n1487  15.05.2021 10:44  1.393101e+18   \n1492  02.05.2021 09:13  1.388210e+18   \n1493  28.04.2021 11:48  1.387325e+18   \n1505  14.06.2021 09:59  1.403864e+18   \n\n                                              reaction1  \\\n1485  Ich werte das als impulsgetiebene Antwort. Bit...   \n1487  100%. Ich hoffe er schreibt es sich hinter sei...   \n1492  Sie fragen, weshalb er ein Faschist sei. Ich b...   \n1493  Jetzt wird's aber sehr beliebig. Sind denn der...   \n1505  Du scheinst dich sehr auf Herrn Reitschuster e...   \n\n                                              reaction2  Ambiguous  Objective  \\\n1485  Jeder Mensch mit klarem Verstand erkennt bei d...        1.0        0.0   \n1487  Es ist immer wieder schön zu sehen und zu höre...        0.0        1.0   \n1492                             Dann sagen Sie es mir?        1.0        0.0   \n1493  Das negieren des staatlichen Gewaltmonopols is...        0.0        1.0   \n1505               Dafür hattet ihr ne Ausgangssperre 😉        0.0        1.0   \n\n      Subjective  Disputed  Generalisation0  Generalisation1  Generalisation2  \\\n1485         1.0       1.0                1                0                0   \n1487         1.0       0.0                0                1                0   \n1492         1.0       1.0                0                1                0   \n1493         1.0       1.0                1                0                0   \n1505         1.0       1.0                0                0                1   \n\n      Generalisation3  Generalisation_Pred  Ambiguous_Pred  Objective_Pred  \\\n1485                0                    1               0               1   \n1487                0                    1               0               1   \n1492                0                    0               0               0   \n1493                0                    1               0               0   \n1505                0                    0               0               1   \n\n      Subjective_Pred  Disputed_Pred  \n1485                0              1  \n1487                0              1  \n1492                0              0  \n1493                0              1  \n1505                0              1  ",
      "text/html": "<div>\n<style scoped>\n    .dataframe tbody tr th:only-of-type {\n        vertical-align: middle;\n    }\n\n    .dataframe tbody tr th {\n        vertical-align: top;\n    }\n\n    .dataframe thead th {\n        text-align: right;\n    }\n</style>\n<table border=\"1\" class=\"dataframe\">\n  <thead>\n    <tr style=\"text-align: right;\">\n      <th></th>\n      <th>c_id</th>\n      <th>c_text</th>\n      <th>date</th>\n      <th>conv_id</th>\n      <th>reaction1</th>\n      <th>reaction2</th>\n      <th>Ambiguous</th>\n      <th>Objective</th>\n      <th>Subjective</th>\n      <th>Disputed</th>\n      <th>Generalisation0</th>\n      <th>Generalisation1</th>\n      <th>Generalisation2</th>\n      <th>Generalisation3</th>\n      <th>Generalisation_Pred</th>\n      <th>Ambiguous_Pred</th>\n      <th>Objective_Pred</th>\n      <th>Subjective_Pred</th>\n      <th>Disputed_Pred</th>\n    </tr>\n  </thead>\n  <tbody>\n    <tr>\n      <th>1485</th>\n      <td>1405047474310553601</td>\n      <td>Nein, nicht in einen Tiopf. Die Mitesser-NGO G...</td>\n      <td>16.06.2021 06:19</td>\n      <td>1.404880e+18</td>\n      <td>Ich werte das als impulsgetiebene Antwort. Bit...</td>\n      <td>Jeder Mensch mit klarem Verstand erkennt bei d...</td>\n      <td>1.0</td>\n      <td>0.0</td>\n      <td>1.0</td>\n      <td>1.0</td>\n      <td>1</td>\n      <td>0</td>\n      <td>0</td>\n      <td>0</td>\n      <td>1</td>\n      <td>0</td>\n      <td>1</td>\n      <td>0</td>\n      <td>1</td>\n    </tr>\n    <tr>\n      <th>1487</th>\n      <td>1393517517927223301</td>\n      <td>Ääähm... da müsste man halt jetzt wissen, dass...</td>\n      <td>15.05.2021 10:44</td>\n      <td>1.393101e+18</td>\n      <td>100%. Ich hoffe er schreibt es sich hinter sei...</td>\n      <td>Es ist immer wieder schön zu sehen und zu höre...</td>\n      <td>0.0</td>\n      <td>1.0</td>\n      <td>1.0</td>\n      <td>0.0</td>\n      <td>0</td>\n      <td>1</td>\n      <td>0</td>\n      <td>0</td>\n      <td>1</td>\n      <td>0</td>\n      <td>1</td>\n      <td>0</td>\n      <td>1</td>\n    </tr>\n    <tr>\n      <th>1492</th>\n      <td>1388783647403220994</td>\n      <td>Wer liest das? Mal ehrlich jetzt, wenn dieses ...</td>\n      <td>02.05.2021 09:13</td>\n      <td>1.388210e+18</td>\n      <td>Sie fragen, weshalb er ein Faschist sei. Ich b...</td>\n      <td>Dann sagen Sie es mir?</td>\n      <td>1.0</td>\n      <td>0.0</td>\n      <td>1.0</td>\n      <td>1.0</td>\n      <td>0</td>\n      <td>1</td>\n      <td>0</td>\n      <td>0</td>\n      <td>0</td>\n      <td>0</td>\n      <td>0</td>\n      <td>0</td>\n      <td>0</td>\n    </tr>\n    <tr>\n      <th>1493</th>\n      <td>1387373196916281344</td>\n      <td>Im Gegensatz etwa zum \"Flügel\" der AfD damals....</td>\n      <td>28.04.2021 11:48</td>\n      <td>1.387325e+18</td>\n      <td>Jetzt wird's aber sehr beliebig. Sind denn der...</td>\n      <td>Das negieren des staatlichen Gewaltmonopols is...</td>\n      <td>0.0</td>\n      <td>1.0</td>\n      <td>1.0</td>\n      <td>1.0</td>\n      <td>1</td>\n      <td>0</td>\n      <td>0</td>\n      <td>0</td>\n      <td>1</td>\n      <td>0</td>\n      <td>0</td>\n      <td>0</td>\n      <td>1</td>\n    </tr>\n    <tr>\n      <th>1505</th>\n      <td>1404378018928267264</td>\n      <td>Biergarten ist gesellschaftlich notwendiger, g...</td>\n      <td>14.06.2021 09:59</td>\n      <td>1.403864e+18</td>\n      <td>Du scheinst dich sehr auf Herrn Reitschuster e...</td>\n      <td>Dafür hattet ihr ne Ausgangssperre 😉</td>\n      <td>0.0</td>\n      <td>1.0</td>\n      <td>1.0</td>\n      <td>1.0</td>\n      <td>0</td>\n      <td>0</td>\n      <td>1</td>\n      <td>0</td>\n      <td>0</td>\n      <td>0</td>\n      <td>1</td>\n      <td>0</td>\n      <td>1</td>\n    </tr>\n  </tbody>\n</table>\n</div>"
     },
     "execution_count": 31,
     "metadata": {},
     "output_type": "execute_result"
    }
   ],
   "source": [
    "data_pred = []\n",
    "for index, row in sample_data.iterrows():\n",
    "    data_pred.append(get_prediction(row))\n",
    "    \n",
    "data_pred = pd.DataFrame(data_pred)\n",
    "data_pred.head()"
   ],
   "metadata": {
    "collapsed": false,
    "ExecuteTime": {
     "end_time": "2024-04-20T09:42:37.076107400Z",
     "start_time": "2024-04-20T09:42:36.839109200Z"
    }
   },
   "id": "d1540c8f500c02a",
   "execution_count": 31
  },
  {
   "cell_type": "code",
   "outputs": [],
   "source": [
    "data_pred.to_csv('dataset/05_predictions-for-test-comments.csv', sep=';', index=False, header=True, encoding='utf-8-sig') "
   ],
   "metadata": {
    "collapsed": false,
    "ExecuteTime": {
     "end_time": "2024-04-20T09:42:37.134108800Z",
     "start_time": "2024-04-20T09:42:37.072106900Z"
    }
   },
   "id": "8045b46e5e22c026",
   "execution_count": 32
  }
 ],
 "metadata": {
  "kernelspec": {
   "display_name": "Python 3",
   "language": "python",
   "name": "python3"
  },
  "language_info": {
   "codemirror_mode": {
    "name": "ipython",
    "version": 2
   },
   "file_extension": ".py",
   "mimetype": "text/x-python",
   "name": "python",
   "nbconvert_exporter": "python",
   "pygments_lexer": "ipython2",
   "version": "2.7.6"
  }
 },
 "nbformat": 4,
 "nbformat_minor": 5
}
