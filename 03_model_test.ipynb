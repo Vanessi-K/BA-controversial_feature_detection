{
 "cells": [
  {
   "cell_type": "code",
   "execution_count": 42,
   "id": "initial_id",
   "metadata": {
    "collapsed": true,
    "ExecuteTime": {
     "end_time": "2024-02-03T15:44:36.622176500Z",
     "start_time": "2024-02-03T15:44:36.603163100Z"
    }
   },
   "outputs": [],
   "source": [
    "from transformers import AutoTokenizer, AutoModelForSequenceClassification, TrainingArguments, Trainer\n",
    "import pandas as pd\n",
    "from sklearn.model_selection import train_test_split\n",
    "import re\n",
    "import torch\n",
    "import pyarrow as pa\n",
    "from datasets import Dataset\n",
    "import numpy as np\n",
    "\n",
    "\n",
    "# https://huggingface.co/docs/transformers/v4.17.0/en/tasks/sequence_classification\n",
    "# https://huggingface.co/docs/transformers/en/training\n",
    "# https://www.youtube.com/watch?v=TmT-sKxovb0"
   ]
  },
  {
   "cell_type": "markdown",
   "source": [
    "# Read the dataset"
   ],
   "metadata": {
    "collapsed": false
   },
   "id": "608458f4411e37bc"
  },
  {
   "cell_type": "code",
   "outputs": [
    {
     "name": "stdout",
     "output_type": "stream",
     "text": [
      "                  c_id                                             c_text  \\\n",
      "0  1391717608802631681  Wer so ein Profilbild wie sie hochlädt kann nu...   \n",
      "1  1389188826799673345  Willst du jetzt etwa behaupten das Querdenker ...   \n",
      "2  1385241285645291521  Aber Bild hat doch gerade deswegen und diesbez...   \n",
      "3  1385240437988986887  Das sehe ich auch genau so. Dieser Brinkhaus i...   \n",
      "4  1389640445790199809  Mit den Milliarden Unterstützungsgeldern die s...   \n",
      "\n",
      "               date  conv_id  Generalisation  Ambiguous  Objective  Subjective  \n",
      "0  10.05.2021 11:31      NaN             3.0        0.0        0.0         1.0  \n",
      "1  03.05.2021 12:03      NaN             3.0        1.0        0.0         1.0  \n",
      "2  22.04.2021 14:37      NaN             1.0        0.0        1.0         1.0  \n",
      "3  22.04.2021 14:33      NaN             0.0        1.0        0.0         1.0  \n",
      "4  04.05.2021 17:57      NaN             2.0        0.0        0.0         1.0  \n"
     ]
    }
   ],
   "source": [
    "file_path = '04_comments_annotated-no_reactions.csv'\n",
    "data = pd.read_csv(file_path, delimiter=';')\n",
    "print(data.head())"
   ],
   "metadata": {
    "collapsed": false,
    "ExecuteTime": {
     "end_time": "2024-02-03T15:38:35.569394400Z",
     "start_time": "2024-02-03T15:38:35.467538600Z"
    }
   },
   "id": "dcbfdf82a33b855d",
   "execution_count": 28
  },
  {
   "cell_type": "markdown",
   "source": [
    "# Process the data"
   ],
   "metadata": {
    "collapsed": false
   },
   "id": "5ba42cb29e4cdfbe"
  },
  {
   "cell_type": "code",
   "outputs": [],
   "source": [
    "tokenizer = AutoTokenizer.from_pretrained(\"distilbert-base-multilingual-cased\") #distilbert-base-multilingual-cased"
   ],
   "metadata": {
    "collapsed": false,
    "ExecuteTime": {
     "end_time": "2024-02-03T15:38:36.312608700Z",
     "start_time": "2024-02-03T15:38:35.520722600Z"
    }
   },
   "id": "c75a413702e0692a",
   "execution_count": 29
  },
  {
   "cell_type": "code",
   "outputs": [],
   "source": [
    "def preprocess_function(row):\n",
    "    encodings = tokenizer(row[\"c_text\"], truncation=True, max_length=280, padding=\"max_length\")\n",
    "    \n",
    "    encodings[\"text\"]  = row[\"c_text\"];\n",
    "    encodings[\"labels\"]  = [row[\"Generalisation\"], row[\"Ambiguous\"], row[\"Objective\"], row[\"Subjective\"]];\n",
    "    \n",
    "    return encodings;"
   ],
   "metadata": {
    "collapsed": false,
    "ExecuteTime": {
     "end_time": "2024-02-03T15:38:36.416405400Z",
     "start_time": "2024-02-03T15:38:36.322650800Z"
    }
   },
   "id": "19838c24cd78475a",
   "execution_count": 30
  },
  {
   "cell_type": "code",
   "outputs": [
    {
     "name": "stdout",
     "output_type": "stream",
     "text": [
      "{'input_ids': [101, 70061, 10380, 10290, 68750, 27696, 10953, 10632, 39969, 26875, 14892, 12382, 11354, 10290, 84970, 11479, 10128, 10298, 45497, 71421, 17155, 11605, 102, 0, 0, 0, 0, 0, 0, 0, 0, 0, 0, 0, 0, 0, 0, 0, 0, 0, 0, 0, 0, 0, 0, 0, 0, 0, 0, 0, 0, 0, 0, 0, 0, 0, 0, 0, 0, 0, 0, 0, 0, 0, 0, 0, 0, 0, 0, 0, 0, 0, 0, 0, 0, 0, 0, 0, 0, 0, 0, 0, 0, 0, 0, 0, 0, 0, 0, 0, 0, 0, 0, 0, 0, 0, 0, 0, 0, 0, 0, 0, 0, 0, 0, 0, 0, 0, 0, 0, 0, 0, 0, 0, 0, 0, 0, 0, 0, 0, 0, 0, 0, 0, 0, 0, 0, 0, 0, 0, 0, 0, 0, 0, 0, 0, 0, 0, 0, 0, 0, 0, 0, 0, 0, 0, 0, 0, 0, 0, 0, 0, 0, 0, 0, 0, 0, 0, 0, 0, 0, 0, 0, 0, 0, 0, 0, 0, 0, 0, 0, 0, 0, 0, 0, 0, 0, 0, 0, 0, 0, 0, 0, 0, 0, 0, 0, 0, 0, 0, 0, 0, 0, 0, 0, 0, 0, 0, 0, 0, 0, 0, 0, 0, 0, 0, 0, 0, 0, 0, 0, 0, 0, 0, 0, 0, 0, 0, 0, 0, 0, 0, 0, 0, 0, 0, 0, 0, 0, 0, 0, 0, 0, 0, 0, 0, 0, 0, 0, 0, 0, 0, 0, 0, 0, 0, 0, 0, 0, 0, 0, 0, 0, 0, 0, 0, 0, 0, 0, 0, 0, 0, 0, 0, 0, 0, 0, 0, 0, 0, 0, 0, 0, 0, 0, 0, 0, 0, 0, 0], 'attention_mask': [1, 1, 1, 1, 1, 1, 1, 1, 1, 1, 1, 1, 1, 1, 1, 1, 1, 1, 1, 1, 1, 1, 1, 0, 0, 0, 0, 0, 0, 0, 0, 0, 0, 0, 0, 0, 0, 0, 0, 0, 0, 0, 0, 0, 0, 0, 0, 0, 0, 0, 0, 0, 0, 0, 0, 0, 0, 0, 0, 0, 0, 0, 0, 0, 0, 0, 0, 0, 0, 0, 0, 0, 0, 0, 0, 0, 0, 0, 0, 0, 0, 0, 0, 0, 0, 0, 0, 0, 0, 0, 0, 0, 0, 0, 0, 0, 0, 0, 0, 0, 0, 0, 0, 0, 0, 0, 0, 0, 0, 0, 0, 0, 0, 0, 0, 0, 0, 0, 0, 0, 0, 0, 0, 0, 0, 0, 0, 0, 0, 0, 0, 0, 0, 0, 0, 0, 0, 0, 0, 0, 0, 0, 0, 0, 0, 0, 0, 0, 0, 0, 0, 0, 0, 0, 0, 0, 0, 0, 0, 0, 0, 0, 0, 0, 0, 0, 0, 0, 0, 0, 0, 0, 0, 0, 0, 0, 0, 0, 0, 0, 0, 0, 0, 0, 0, 0, 0, 0, 0, 0, 0, 0, 0, 0, 0, 0, 0, 0, 0, 0, 0, 0, 0, 0, 0, 0, 0, 0, 0, 0, 0, 0, 0, 0, 0, 0, 0, 0, 0, 0, 0, 0, 0, 0, 0, 0, 0, 0, 0, 0, 0, 0, 0, 0, 0, 0, 0, 0, 0, 0, 0, 0, 0, 0, 0, 0, 0, 0, 0, 0, 0, 0, 0, 0, 0, 0, 0, 0, 0, 0, 0, 0, 0, 0, 0, 0, 0, 0, 0, 0, 0, 0, 0, 0, 0, 0, 0, 0, 0, 0], 'text': 'Wer so ein Profilbild wie sie hochlädt kann nur ein Psycho sein die ist bestimmt voll behindert', 'labels': [3.0, 0.0, 0.0, 1.0]}\n"
     ]
    }
   ],
   "source": [
    "print(preprocess_function(data.iloc[0]))"
   ],
   "metadata": {
    "collapsed": false,
    "ExecuteTime": {
     "end_time": "2024-02-03T15:38:36.419400600Z",
     "start_time": "2024-02-03T15:38:36.400357Z"
    }
   },
   "id": "32c82cc3f5b65da1",
   "execution_count": 31
  },
  {
   "cell_type": "code",
   "outputs": [],
   "source": [
    "processed_data = []\n",
    "for index, row in data.iterrows():\n",
    "    processed_data.append(preprocess_function(row))"
   ],
   "metadata": {
    "collapsed": false,
    "ExecuteTime": {
     "end_time": "2024-02-03T15:38:38.560222100Z",
     "start_time": "2024-02-03T15:38:36.416405400Z"
    }
   },
   "id": "9428ea461056b80b",
   "execution_count": 32
  },
  {
   "cell_type": "markdown",
   "source": [
    "# Generate the dataset"
   ],
   "metadata": {
    "collapsed": false
   },
   "id": "c0cce338ae2f8979"
  },
  {
   "cell_type": "code",
   "outputs": [],
   "source": [
    "processed_data = pd.DataFrame(processed_data)\n",
    "processed_data = processed_data[:100]\n",
    "train, validation = train_test_split(processed_data, test_size=0.2)"
   ],
   "metadata": {
    "collapsed": false,
    "ExecuteTime": {
     "end_time": "2024-02-03T15:38:38.636139400Z",
     "start_time": "2024-02-03T15:38:38.561222Z"
    }
   },
   "id": "c98ceceb0f1dec9c",
   "execution_count": 33
  },
  {
   "cell_type": "code",
   "outputs": [],
   "source": [
    "train_set = Dataset(pa.Table.from_pandas(train))\n",
    "validation_set = Dataset(pa.Table.from_pandas(validation))"
   ],
   "metadata": {
    "collapsed": false,
    "ExecuteTime": {
     "end_time": "2024-02-03T15:38:38.686907500Z",
     "start_time": "2024-02-03T15:38:38.635137500Z"
    }
   },
   "id": "47978d8dfe1ea61e",
   "execution_count": 34
  },
  {
   "cell_type": "markdown",
   "source": [
    "# Create model"
   ],
   "metadata": {
    "collapsed": false
   },
   "id": "d13e73dda01415c4"
  },
  {
   "cell_type": "code",
   "outputs": [
    {
     "name": "stderr",
     "output_type": "stream",
     "text": [
      "Some weights of DistilBertForSequenceClassification were not initialized from the model checkpoint at distilbert-base-multilingual-cased and are newly initialized: ['classifier.bias', 'classifier.weight', 'pre_classifier.bias', 'pre_classifier.weight']\n",
      "You should probably TRAIN this model on a down-stream task to be able to use it for predictions and inference.\n"
     ]
    }
   ],
   "source": [
    "model = AutoModelForSequenceClassification.from_pretrained(\"distilbert-base-multilingual-cased\", num_labels=4)"
   ],
   "metadata": {
    "collapsed": false,
    "ExecuteTime": {
     "end_time": "2024-02-03T15:38:39.374061900Z",
     "start_time": "2024-02-03T15:38:38.681377100Z"
    }
   },
   "id": "5c65abe9e8d153af",
   "execution_count": 35
  },
  {
   "cell_type": "code",
   "outputs": [],
   "source": [
    "training_args = TrainingArguments(output_dir='./result', evaluation_strategy='epoch')\n",
    "\n",
    "trainer = Trainer(\n",
    "    model=model,\n",
    "    args=training_args,\n",
    "    train_dataset=train_set,\n",
    "    eval_dataset=validation_set\n",
    ")"
   ],
   "metadata": {
    "collapsed": false,
    "ExecuteTime": {
     "end_time": "2024-02-03T15:38:39.428786300Z",
     "start_time": "2024-02-03T15:38:39.376075800Z"
    }
   },
   "id": "40390e5e2ca36958",
   "execution_count": 36
  },
  {
   "cell_type": "markdown",
   "source": [
    "# Train and evaluate"
   ],
   "metadata": {
    "collapsed": false
   },
   "id": "e6661621cfb8ea3f"
  },
  {
   "cell_type": "code",
   "outputs": [
    {
     "data": {
      "text/plain": "<IPython.core.display.HTML object>",
      "text/html": "\n    <div>\n      \n      <progress value='2' max='30' style='width:300px; height:20px; vertical-align: middle;'></progress>\n      [ 2/30 : < :, Epoch 0.10/3]\n    </div>\n    <table border=\"1\" class=\"dataframe\">\n  <thead>\n <tr style=\"text-align: left;\">\n      <th>Epoch</th>\n      <th>Training Loss</th>\n      <th>Validation Loss</th>\n    </tr>\n  </thead>\n  <tbody>\n  </tbody>\n</table><p>"
     },
     "metadata": {},
     "output_type": "display_data"
    },
    {
     "data": {
      "text/plain": "TrainOutput(global_step=30, training_loss=0.29848461151123046, metrics={'train_runtime': 317.6543, 'train_samples_per_second': 0.756, 'train_steps_per_second': 0.094, 'total_flos': 17386966195200.0, 'train_loss': 0.29848461151123046, 'epoch': 3.0})"
     },
     "execution_count": 37,
     "metadata": {},
     "output_type": "execute_result"
    }
   ],
   "source": [
    "trainer.train()"
   ],
   "metadata": {
    "collapsed": false,
    "ExecuteTime": {
     "end_time": "2024-02-03T15:43:57.336555400Z",
     "start_time": "2024-02-03T15:38:39.424783200Z"
    }
   },
   "id": "da94e78a115d5864",
   "execution_count": 37
  },
  {
   "cell_type": "code",
   "outputs": [
    {
     "data": {
      "text/plain": "<IPython.core.display.HTML object>",
      "text/html": "\n    <div>\n      \n      <progress value='1' max='3' style='width:300px; height:20px; vertical-align: middle;'></progress>\n      [1/3 : < :]\n    </div>\n    "
     },
     "metadata": {},
     "output_type": "display_data"
    },
    {
     "data": {
      "text/plain": "{'eval_loss': 0.2996436357498169,\n 'eval_runtime': 9.7337,\n 'eval_samples_per_second': 2.055,\n 'eval_steps_per_second': 0.308,\n 'epoch': 3.0}"
     },
     "execution_count": 38,
     "metadata": {},
     "output_type": "execute_result"
    }
   ],
   "source": [
    "trainer.evaluate()"
   ],
   "metadata": {
    "collapsed": false,
    "ExecuteTime": {
     "end_time": "2024-02-03T15:44:07.083324100Z",
     "start_time": "2024-02-03T15:43:57.333553300Z"
    }
   },
   "id": "df154988f2b955ff",
   "execution_count": 38
  },
  {
   "cell_type": "markdown",
   "source": [
    "# Save the model"
   ],
   "metadata": {
    "collapsed": false
   },
   "id": "2544875fbc063d39"
  },
  {
   "cell_type": "code",
   "outputs": [],
   "source": [
    "model.save_pretrained(\"./model/test/\")"
   ],
   "metadata": {
    "collapsed": false,
    "ExecuteTime": {
     "end_time": "2024-02-03T15:44:07.808673700Z",
     "start_time": "2024-02-03T15:44:07.086327Z"
    }
   },
   "id": "36886ea56676991c",
   "execution_count": 39
  },
  {
   "cell_type": "markdown",
   "source": [
    "# Read the model"
   ],
   "metadata": {
    "collapsed": false
   },
   "id": "89299a35ae1a6846"
  },
  {
   "cell_type": "code",
   "outputs": [],
   "source": [
    "model_pred = AutoModelForSequenceClassification.from_pretrained(\"./model/test/\")"
   ],
   "metadata": {
    "collapsed": false,
    "ExecuteTime": {
     "end_time": "2024-02-03T15:45:21.316924Z",
     "start_time": "2024-02-03T15:45:20.469354400Z"
    }
   },
   "id": "f18f8acb1f1606ec",
   "execution_count": 46
  },
  {
   "cell_type": "code",
   "outputs": [],
   "source": [
    "tokenizer_pred = AutoTokenizer.from_pretrained(\"distilbert-base-multilingual-cased\")"
   ],
   "metadata": {
    "collapsed": false,
    "ExecuteTime": {
     "end_time": "2024-02-03T15:45:24.058859800Z",
     "start_time": "2024-02-03T15:45:23.062334600Z"
    }
   },
   "id": "f70a1da4d04203e1",
   "execution_count": 47
  },
  {
   "cell_type": "markdown",
   "source": [
    "# Get Predictions"
   ],
   "metadata": {
    "collapsed": false
   },
   "id": "63794d5155241a97"
  },
  {
   "cell_type": "code",
   "outputs": [],
   "source": [
    "def get_prediction(text): \n",
    "    encoding = tokenizer_pred(text, return_tensors=\"pt\", max_length=280, padding='max_length', truncation=True)\n",
    "    encoding = {k: v.to(trainer.model.device) for k, v in encoding.items()}\n",
    "    \n",
    "    outputs = model_pred(**encoding)\n",
    "    logits = outputs.logits\n",
    "    \n",
    "    print(logits)\n",
    "    \n",
    "   # sigmoid = torch.nn.Sigmoid()\n",
    "   # probs = sigmoid(logits.sqeeze().cpu())\n",
    "   # probs = probs.detach().numpy()\n",
    "    #label = np.argmax(probs, axis=-1)\n",
    "    \n",
    "    #print((label))"
   ],
   "metadata": {
    "collapsed": false,
    "ExecuteTime": {
     "end_time": "2024-02-03T15:48:44.470278700Z",
     "start_time": "2024-02-03T15:48:44.453754700Z"
    }
   },
   "id": "d0cfa2385a37cc09",
   "execution_count": 52
  },
  {
   "cell_type": "code",
   "outputs": [
    {
     "name": "stdout",
     "output_type": "stream",
     "text": [
      "tensor([[ 3.1133,  0.0410, -1.0717,  1.4621]], grad_fn=<AddmmBackward0>)\n",
      "tensor([[ 2.9709,  0.0121, -1.0608,  1.4462]], grad_fn=<AddmmBackward0>)\n"
     ]
    }
   ],
   "source": [
    "get_prediction(\"Seit 1960 steigt jedes Jahr die Zahl der Eisbären, Ozonloch über Arktis weg. Tote von Naturkatastrophen so wenig wie nie. Nie soviel Wald wie jetzt. Der Welt geht's saugut. Nur einzelne schieben Panik und die Medien steigen ein, verkauft sich eben gut.\")\n",
    "get_prediction(\"Der Impf-Apartheider? Hattest du Whisky zum Frühstück?\")"
   ],
   "metadata": {
    "collapsed": false,
    "ExecuteTime": {
     "end_time": "2024-02-03T15:49:58.494414300Z",
     "start_time": "2024-02-03T15:49:57.274609600Z"
    }
   },
   "id": "d1540c8f500c02a",
   "execution_count": 54
  },
  {
   "cell_type": "code",
   "outputs": [],
   "source": [],
   "metadata": {
    "collapsed": false
   },
   "id": "a902c5da8a7c1156"
  }
 ],
 "metadata": {
  "kernelspec": {
   "display_name": "Python 3",
   "language": "python",
   "name": "python3"
  },
  "language_info": {
   "codemirror_mode": {
    "name": "ipython",
    "version": 2
   },
   "file_extension": ".py",
   "mimetype": "text/x-python",
   "name": "python",
   "nbconvert_exporter": "python",
   "pygments_lexer": "ipython2",
   "version": "2.7.6"
  }
 },
 "nbformat": 4,
 "nbformat_minor": 5
}
